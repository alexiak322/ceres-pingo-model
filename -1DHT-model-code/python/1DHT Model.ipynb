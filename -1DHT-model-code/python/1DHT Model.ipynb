{
 "cells": [
  {
   "cell_type": "code",
   "execution_count": null,
   "id": "10c6b166",
   "metadata": {},
   "outputs": [],
   "source": [
    "# Adapting the 1DHT model from Hornum et al. (2020) from MATLAB to Python"
   ]
  },
  {
   "cell_type": "code",
   "execution_count": 20,
   "id": "0aebd6c0",
   "metadata": {},
   "outputs": [
    {
     "name": "stdout",
     "output_type": "stream",
     "text": [
      "The line_profiler extension is already loaded. To reload it, use:\n",
      "  %reload_ext line_profiler\n"
     ]
    }
   ],
   "source": [
    "import numpy as np\n",
    "from scipy.interpolate import interp1d\n",
    "import pandas as pd\n",
    "import matplotlib\n",
    "import matplotlib.pyplot as plt\n",
    "import time\n",
    "%load_ext line_profiler\n",
    "%load_ext memory_profiler"
   ]
  },
  {
   "cell_type": "code",
   "execution_count": 174,
   "id": "525aafba",
   "metadata": {},
   "outputs": [
    {
     "name": "stdout",
     "output_type": "stream",
     "text": [
      "301\n"
     ]
    }
   ],
   "source": [
    "#      Constants and general model setup\n",
    "toyr =60*60*24*365     # to year from s\n",
    "\n",
    "            # Thermal properties of water and ice (from Williams and Smith, 1989) %%%\n",
    "            \n",
    "p_w = 1000             # density [kg/m3]\n",
    "p_ice = 917\n",
    "cp_w = 4180            # specific heat capacity [J/(kg*K)]\n",
    "cp_ice = 2100\n",
    "k_w = 0.56*toyr        # thermal conductivity [(J/yr)/(m K)]\n",
    "k_ice = 2.24*toyr\n",
    "L=333.6*1000           # Latent heat of fusion [J/kg]\n",
    "\n",
    "p_w = 1000\n",
    "cp_w = 4180\n",
    "k_w = 0.56 * toyr\n",
    "\n",
    "#Julie paper\n",
    "\n",
    "#p_ice = 917\n",
    "#cp_ice = 185 + 7.037*T\n",
    "#k_ice = (0.4685 + (488.12/T)) * toyr\n",
    "#L=333.6*1000  \n",
    "\n",
    "#clathrate hydrates\n",
    "p_hyd = 1000\n",
    "cp_hyd = 494 + (6.1*150)\n",
    "k_hyd = 0.64 * toyr\n",
    "\n",
    "#hydrated salt\n",
    "p_salt = 2200\n",
    "cp_salt = 920\n",
    "k_salt = 0.6 * toyr\n",
    "\n",
    "#silicate rock\n",
    "p_rock = 2430\n",
    "cp_rock = 2000\n",
    "k_rock = 0.56 * toyr\n",
    "\n",
    "p_boulder = (0.56*p_hyd)+(0.25*p_rock)+(0.19*p_salt)\n",
    "cp_boulder = (0.56*cp_hyd)+(0.25*cp_rock)+(0.19*cp_salt)\n",
    "k_boulder = (0.56*k_hyd)+(0.25*k_rock)+(0.19*k_salt)\n",
    "\n",
    "\n",
    "            ## Porosity and thermal properties of CERES materials ##\n",
    "            \n",
    "n_Sc=0                 # Porosity scenario is chosen here: 1=minimum n, 2=intermediate n, 3=maximum n\n",
    "nLob=[0.33, 0.5, 0.66]    ## [min interm. max] Lobate (thermal model; 6B) ##\n",
    "nIce = [0, 0.2, 0.4] # Lee et al. 2005\n",
    "\n",
    "\n",
    "                    ### Material 1 - Lobate\n",
    "#start with 40% ice, 25% hydrates, 20% rock, 15% salts\n",
    "nL = nLob[n_Sc]   \n",
    "nI = nIce[n_Sc]\n",
    "p_soilL = 1300       ## DENSITY (thermal model; 2B)             \n",
    "cp_soilL = 1538.46       ## HEAT CAPACITY; GRAB FROM JULIE'S DATABASE (this is going to be tricky with temperature dependence)    \n",
    "k_soilL = 1.27*toyr   ## THERMAL CONDUCTIVITY; GRAB FROM JULIE'S DATABASE (40% ice, 25% hydrates)       \n",
    "aQ=k_soilL/(p_soilL*cp_soilL) #THERMAL DIFFUSIVITY [m^2/yr]\n",
    "pcp = [2e6, 14e6, 4e6] #average effective heat capacity for 150<T<245, 245<T<273, and 273<T<300 K, respectively\n",
    "\n",
    "\n",
    "            ### Model parameters ###\n",
    "tstep=0.05         # time step [yr] this is the minimum time step with our material properties\n",
    "ts_1yr=1/tstep     # number of time steps in a year; 20\n",
    "dz=2               # cell size [m]\n",
    "grid_depth=600     ## grid depth, GRID SPANS 600m (depth of lobate flow) (domain constraints; 5B)\n",
    "z=np.arange(0,grid_depth+dz,dz) # cell nodes, 0,2,4,6 M ETC.\n",
    "nocell=len(z)    # number of cells\n",
    "print(nocell)"
   ]
  },
  {
   "cell_type": "code",
   "execution_count": 175,
   "id": "a6c1029d",
   "metadata": {
    "scrolled": true
   },
   "outputs": [
    {
     "name": "stdout",
     "output_type": "stream",
     "text": [
      "[273.15 273.15 273.15 273.15 273.15 273.15 273.15 273.15 273.15 273.15\n",
      " 273.15 273.15 273.15 273.15 273.15 273.15 273.15 273.15 273.15 273.15\n",
      " 273.15 273.15 273.15 273.15 273.15 273.15 273.15 273.15 273.15 273.15\n",
      " 273.15 273.15 273.15 273.15 273.15 273.15 273.15 273.15 273.15 273.15\n",
      " 273.15 273.15 273.15 273.15 273.15 273.15 273.15 273.15 273.15 273.15\n",
      " 273.15 273.15 273.15 273.15 273.15 273.15 273.15 273.15 273.15 273.15\n",
      " 273.15 273.15 273.15 273.15 273.15 273.15 273.15 273.15 273.15 273.15\n",
      " 273.15 273.15 273.15 273.15 273.15 273.15 273.15 273.15 273.15 273.15\n",
      " 273.15 273.15 273.15 273.15 273.15 273.15 273.15 273.15 273.15 273.15\n",
      " 273.15 273.15 273.15 273.15 273.15 273.15 273.15 273.15 273.15 273.15\n",
      " 273.15 273.15 273.15 273.15 273.15 273.15 273.15 273.15 273.15 273.15\n",
      " 273.15 273.15 273.15 273.15 273.15 273.15 273.15 273.15 273.15 273.15\n",
      " 273.15 273.15 273.15 273.15 273.15 273.15 273.15 273.15 273.15 273.15\n",
      " 273.15 273.15 273.15 273.15 273.15 273.15 273.15 273.15 273.15 273.15\n",
      " 273.15 273.15 273.15 273.15 273.15 273.15 273.15 273.15 273.15 273.15\n",
      " 273.15 273.15 273.15 273.15 273.15 273.15 273.15 273.15 273.15 273.15\n",
      " 273.15 273.15 273.15 273.15 273.15 273.15 273.15 273.15 273.15 273.15\n",
      " 273.15 273.15 273.15 273.15 273.15 273.15 273.15 273.15 273.15 273.15\n",
      " 273.15 273.15 273.15 273.15 273.15 273.15 273.15 273.15 273.15 273.15\n",
      " 273.15 273.15 273.15 273.15 273.15 273.15 273.15 273.15 273.15 273.15\n",
      " 273.15 273.15 273.15 273.15 273.15 273.15 273.15 273.15 273.15 273.15\n",
      " 273.15 273.15 273.15 273.15 273.15 273.15 273.15 273.15 273.15 273.15\n",
      " 273.15 273.15 273.15 273.15 273.15 273.15 273.15 273.15 273.15 273.15\n",
      " 273.15 273.15 273.15 273.15 273.15 273.15 273.15 273.15 273.15 273.15\n",
      " 273.15 273.15 273.15 273.15 273.15 273.15 273.15 273.15 273.15 273.15\n",
      " 273.15 273.15 273.15 273.15 273.15 273.15 273.15 273.15 273.15 273.15\n",
      " 273.15 273.15 273.15 273.15 273.15 273.15 273.15 273.15 273.15 273.15\n",
      " 273.15 273.15 273.15 273.15 273.15 273.15 273.15 273.15 273.15 273.15\n",
      " 273.15 273.15 273.15 273.15 273.15 273.15 273.15 273.15 273.15 273.15\n",
      " 273.15 273.15 273.15 273.15 273.15 273.15 273.15 273.15 273.15 273.15\n",
      " 273.15]\n"
     ]
    }
   ],
   "source": [
    " ### Temperature ###\n",
    "Kv= -273.15              # set to -273.15 if in Kelvin. 0 if in C\n",
    "T_gradient=0.00273    ## Thermal gradient [K/m] (Raymond et al. 2020) (thermal model; 7B)\n",
    "T_0=273           # Initial surface temperature - NOT USED if temperature reconstruction is defined\n",
    "T_end=350 # Initial temperature at bottom of grid - NOT USED in for loop (estimate from Bowling)\n",
    "T_ini=np.zeros(nocell) # Initial temperature distribution, gives every cell node a temperature\n",
    "for i in range(nocell):\n",
    "    #if 0 <= i < 2:\n",
    "    #    T_ini[i] = 150.00\n",
    "    #elif 2 <= i < (nocell-1)/2:\n",
    "    #    T_ini[i] = T_ini[i-1] + 0.821 #K/m\n",
    "    #elif i == (nocell-1)/2:\n",
    "    #    T_ini[i] = 273.15\n",
    "    #elif i > (nocell-1)/2:\n",
    "    #    T_ini[i] = T_ini[i-1] - 0.821\n",
    "    #elif i == grid_depth-1:\n",
    "    #    T_ini[i] = 150.00\n",
    "    #else:\n",
    "    #    T_ini_1[i] = 300.00\n",
    "    T_ini[i] = 273.15\n",
    "\n",
    "#T_ini = [round(item, 3) for item in T_ini_1] #rounding all floats to the nearest hundredth to match with interpolated SFC\n",
    "print(T_ini)"
   ]
  },
  {
   "cell_type": "code",
   "execution_count": 176,
   "id": "e7e2af4f",
   "metadata": {},
   "outputs": [
    {
     "name": "stdout",
     "output_type": "stream",
     "text": [
      "150.0\n"
     ]
    }
   ],
   "source": [
    "# Ceres temperature reconstruction (just a .txt file) with 100k rows each with a temp of 150 K\n",
    "# Load the data from the text file\n",
    "TCurve_data = pd.read_csv('cerestempcurve.txt', header=None)\n",
    "\n",
    "T_ann10 = TCurve_data[1] #temperatures, dep variable\n",
    "tt_yr = TCurve_data[0] #years, indep variable\n",
    "\n",
    "ttt = np.arange(0, 100000+tstep, tstep) #do this for maximum runtime, can filter down later\n",
    "interp_function = interp1d(tt_yr, T_ann10, kind='linear', fill_value='extrapolate')\n",
    "\n",
    "T_ann10q = interp_function(ttt) #interpolating the surface temperature so there is one for every time step\n",
    "\n",
    "print(T_ann10q[-1])"
   ]
  },
  {
   "cell_type": "code",
   "execution_count": 177,
   "id": "9eaddefd",
   "metadata": {},
   "outputs": [
    {
     "data": {
      "text/plain": [
       "<matplotlib.legend.Legend at 0x144334f70>"
      ]
     },
     "execution_count": 177,
     "metadata": {},
     "output_type": "execute_result"
    },
    {
     "data": {
      "image/png": "[encoded data removed]",
      "text/plain": [
       "<Figure size 640x480 with 1 Axes>"
      ]
     },
     "metadata": {},
     "output_type": "display_data"
    }
   ],
   "source": [
    "# reading in SFC, creating interpolated pore water fractions from input temp array and SFC\n",
    "\n",
    "phoenix_1wtmgper = pd.read_csv('/Users/alexiakubas/Desktop/Ceres/1DHT_clone/-1DHT-model-code/SFCs/phoenix_1wtmgper.txt', header=None)\n",
    "fw4 = phoenix_1wtmgper[1] #liquid fraction in the pore space, Sl = 1- Si, dep variable\n",
    "temp4 = -1*phoenix_1wtmgper[0] #degrees celsius, indep variable\n",
    "temp4 = temp4 + 273.15 #converted temperatures to Kelvin\n",
    "\n",
    "interp_temps = np.arange(110, 300, 0.001)\n",
    "interp_fw = interp1d(temp4, fw4, kind='linear', fill_value='extrapolate')\n",
    "SFC_fw = interp_fw(interp_temps)\n",
    "\n",
    "for i in range(len(SFC_fw)): #manually set fw at 1 for all cells above freezing\n",
    "    if SFC_fw[i] >= 1:\n",
    "        SFC_fw[i] = 1\n",
    "\n",
    "#interp_temps = [round(item, 3) for item in interp_temps_1] #rounding all floats to the nearest hundredth to match with interpolated SFC\n",
    "#SFC_fw = [round(item, 3) for item in SFC_fw_1]\n",
    "\n",
    "plt.plot(interp_temps, SFC_fw, label='interpolated SFC')\n",
    "plt.plot(temp4, fw4, label='phoenix_1wtmgper', linestyle='dashed')\n",
    "plt.xlabel('Temperature [K]')\n",
    "plt.ylabel('Liquid Fraction in Pore Space')\n",
    "#plt.ylim(-0.1,1.1)\n",
    "#plt.xlim(200,205)\n",
    "plt.legend()"
   ]
  },
  {
   "cell_type": "code",
   "execution_count": 178,
   "id": "84b41eb3",
   "metadata": {},
   "outputs": [],
   "source": [
    "dfw_SFC = np.zeros(len(SFC_fw))\n",
    "\n",
    "for i in range(len(SFC_fw)):\n",
    "    if i != len(SFC_fw)-1:\n",
    "        dfw_SFC[i] = (SFC_fw[i+1]-SFC_fw[i])/(interp_temps[i+1]-interp_temps[i])\n",
    "    else: \n",
    "        dfw_SFC[i] = 0\n",
    "\n",
    "#dfw_SFC = [round(item, 5) for item in dfw_SFC]\n",
    "#print(dfw_SFC)"
   ]
  },
  {
   "cell_type": "code",
   "execution_count": 179,
   "id": "03e1fe8c",
   "metadata": {},
   "outputs": [
    {
     "data": {
      "text/plain": [
       "Text(0, 0.5, 'Change in liquid fraction in pore space')"
      ]
     },
     "execution_count": 179,
     "metadata": {},
     "output_type": "execute_result"
    },
    {
     "data": {
      "image/png": "[encoded data removed]",
      "text/plain": [
       "<Figure size 640x480 with 1 Axes>"
      ]
     },
     "metadata": {},
     "output_type": "display_data"
    }
   ],
   "source": [
    "plt.plot(interp_temps, dfw_SFC)\n",
    "plt.xlabel('Temperature [K]')\n",
    "plt.ylabel('Change in liquid fraction in pore space')\n",
    "#plt.xlim(204,205)"
   ]
  },
  {
   "cell_type": "code",
   "execution_count": 180,
   "id": "fcb8086a",
   "metadata": {},
   "outputs": [],
   "source": [
    "def get_fw(temp):\n",
    "    if temp < interp_temps[0] or temp > interp_temps[-1]:\n",
    "        raise ValueError(\"Input temperature is outside the valid range.\")\n",
    "    \n",
    "    indices = np.where(np.isclose(interp_temps, temp, atol=1e-6))[0]\n",
    "    if len(indices) == 0:\n",
    "        raise ValueError(\"Input temperature not found in interp_temps.\")\n",
    "    \n",
    "    index = indices[0]\n",
    "    f_w_value = SFC_fw[index]\n",
    "    return f_w_value\n",
    "\n",
    "def get_dfw(temp):\n",
    "    if temp < interp_temps[0] or temp > interp_temps[-1]:\n",
    "        raise ValueError(\"Input temperature is outside the valid range.\")\n",
    "    \n",
    "    indices = np.where(np.isclose(interp_temps, temp, atol=1e-6))[0]\n",
    "    if len(indices) == 0:\n",
    "        raise ValueError(\"Input temperature not found in interp_temps.\")\n",
    "    \n",
    "    index = indices[0]\n",
    "    df_w_value = dfw_SFC[index]\n",
    "    return df_w_value"
   ]
  },
  {
   "cell_type": "code",
   "execution_count": 181,
   "id": "66f3ede0",
   "metadata": {},
   "outputs": [
    {
     "name": "stdout",
     "output_type": "stream",
     "text": [
      "0.07206694740952727\n"
     ]
    }
   ],
   "source": [
    "test = get_fw(226.13028849)\n",
    "print(test)"
   ]
  },
  {
   "cell_type": "code",
   "execution_count": 182,
   "id": "d7ce3c97",
   "metadata": {},
   "outputs": [
    {
     "name": "stdout",
     "output_type": "stream",
     "text": [
      "226.1290000005545\n",
      "0.07206694740952727\n"
     ]
    }
   ],
   "source": [
    "np.where(np.isclose(interp_temps, 226.13028849, atol=1e-6))[0]\n",
    "print(interp_temps[116129])\n",
    "print(SFC_fw[116129])"
   ]
  },
  {
   "cell_type": "code",
   "execution_count": 183,
   "id": "20941230",
   "metadata": {},
   "outputs": [],
   "source": [
    "### Assigning material IDs to the different model grids and creating empty vectors and matrices. ###\n",
    "\n",
    "# 1=Lobate 2=Boulders 3=Ice\n",
    "onegrid=np.ones(nocell) # 1 x 301 matrix\n",
    "\n",
    "                # Material IDs ZONEs\n",
    "Z0_1MatID=np.ones(nocell)\n",
    "#Z0_1MatID[0]=3\n",
    "#Z0_1MatID[1]=3\n",
    "Z0_1MatID[291:]=2 #boulders (bottom 20m)\n",
    "\n",
    "Z1_2MatID=np.ones(nocell)\n",
    "#Z1_2MatID[0]=3\n",
    "#Z1_2MatID[1]=3\n",
    "Z1_2MatID[251:]=2 #boulders (bottom 100m)\n",
    "\n",
    "            ### Creating one-vectors and empty matrices used in for-loop ###\n",
    "n_grid=np.zeros(nocell) # all of these have nocell elements -> all material properties define at nodes (1 x nocell matrix)\n",
    "p_soil=np.zeros(nocell)\n",
    "cp_soil=np.zeros(nocell)\n",
    "k_soil=np.zeros(nocell)\n",
    "\n",
    "df_w=np.zeros(nocell) ## CHANGE IN fraction of water in pore space\n",
    "k_eq=np.zeros(nocell-1) ## EQUIVALENT THERMAL CONDUCTIVITY\n",
    "C_eq=np.zeros(nocell)   ## EQUIVALENT HEAT CAPACITY\n",
    "a_eq=np.zeros(nocell)   ## EQUIVALENT THERMAL DIFFUSIVITY\n",
    "\n",
    "runtime = 100000\n",
    "\n",
    "T_matx_0_1=np.zeros((nocell,runtime)) ### CREATING EMPTY TEMP MATRICES FOR EACH ZONE'S RUN TIME (100000 yr)\n",
    "T_matx_0_1[:,0] = np.copy(T_ini)                                    ### add more as needed\n",
    "T_matx_1_2=np.zeros((nocell,runtime))\n",
    "T_matx_1_2[:,0] = np.copy(T_ini)"
   ]
  },
  {
   "cell_type": "code",
   "execution_count": 184,
   "id": "03e8d25e",
   "metadata": {},
   "outputs": [
    {
     "name": "stdout",
     "output_type": "stream",
     "text": [
      "[0. 0. 0. 0. 0. 0. 0. 0. 0. 0. 0. 0. 0. 0. 0. 0. 0. 0. 0. 0. 0. 0. 0. 0.\n",
      " 0. 0. 0. 0. 0. 0. 0. 0. 0. 0. 0. 0. 0. 0. 0. 0. 0. 0. 0. 0. 0. 0. 0. 0.\n",
      " 0. 0. 0. 0. 0. 0. 0. 0. 0. 0. 0. 0. 0. 0. 0. 0. 0. 0. 0. 0. 0. 0. 0. 0.\n",
      " 0. 0. 0. 0. 0. 0. 0. 0. 0. 0. 0. 0. 0. 0. 0. 0. 0. 0. 0. 0. 0. 0. 0. 0.\n",
      " 0. 0. 0. 0. 0. 0. 0. 0. 0. 0. 0. 0. 0. 0. 0. 0. 0. 0. 0. 0. 0. 0. 0. 0.\n",
      " 0. 0. 0. 0. 0. 0. 0. 0. 0. 0. 0. 0. 0. 0. 0. 0. 0. 0. 0. 0. 0. 0. 0. 0.\n",
      " 0. 0. 0. 0. 0. 0. 0. 0. 0. 0. 0. 0. 0. 0. 0. 0. 0. 0. 0. 0. 0. 0. 0. 0.\n",
      " 0. 0. 0. 0. 0. 0. 0. 0. 0. 0. 0. 0. 0. 0. 0. 0. 0. 0. 0. 0. 0. 0. 0. 0.\n",
      " 0. 0. 0. 0. 0. 0. 0. 0. 0. 0. 0. 0. 0. 0. 0. 0. 0. 0. 0. 0. 0. 0. 0. 0.\n",
      " 0. 0. 0. 0. 0. 0. 0. 0. 0. 0. 0. 0. 0. 0. 0. 0. 0. 0. 0. 0. 0. 0. 0. 0.\n",
      " 0. 0. 0. 0. 0. 0. 0. 0. 0. 0. 0. 0. 0. 0. 0. 0. 0. 0. 0. 0. 0. 0. 0. 0.\n",
      " 0. 0. 0. 0. 0. 0. 0. 0. 0. 0. 0. 0. 0. 0. 0. 0. 0. 0. 0. 0. 0. 0. 0. 0.\n",
      " 0. 0. 0. 0. 0. 0. 0. 0. 0. 0. 0. 0. 0.]\n"
     ]
    }
   ],
   "source": [
    "# Assign initial F_w, F_ice, f_w, and f_ice values for the model domain given the initial temperature.\n",
    "# I want to match the initial temperature to whatever index it is in interp_temps, grab the value of\n",
    "# that same index in SFC_fw, and set that value as the initial f_w\n",
    "\n",
    "#for this to work, needs to be the last cell before model begins (i.e., all material properties must be set before this)\n",
    "\n",
    "# First, initialize the fraction arrays\n",
    "F_w = np.zeros(nocell)\n",
    "F_ice = np.zeros(nocell)\n",
    "f_w = np.zeros(nocell)\n",
    "f_ice = np.zeros(nocell)\n",
    "F_soil = np.zeros(nocell)\n",
    "\n",
    "# assign values to f_w first, since this is info from SFC\n",
    "for i in range(len(T_ini)): #len(T_ini) = nocell\n",
    "    f_w[i] = get_fw(T_ini[i])\n",
    "\n",
    "#using f_w values, assign initial values of other fraction arrays\n",
    "for i in range(nocell):\n",
    "    f_ice[i] = 1 - f_w[i]\n",
    "    F_soil[i] = 1 - nL\n",
    "    F_w[i] = f_w[i] * nL\n",
    "    F_ice[i] = f_ice[i] * nL\n",
    "    \n",
    "\n",
    "#column-specific ice fraction arrays\n",
    "f_matx_0_1=np.zeros((nocell,runtime)) #ice fraction\n",
    "f_matx_0_1[:,0] = np.copy(f_ice)\n",
    "f_matx_1_2=np.zeros((nocell,runtime))\n",
    "f_matx_1_2[:,0] = np.copy(f_ice)\n",
    "\n",
    "print(f_ice)"
   ]
  },
  {
   "cell_type": "code",
   "execution_count": 185,
   "id": "b92d2769",
   "metadata": {
    "scrolled": true
   },
   "outputs": [],
   "source": [
    "### Numerical Model ###\n",
    "# Import the LineProfiler decorator\n",
    "from line_profiler import LineProfiler\n",
    "\n",
    "# Create a LineProfiler object\n",
    "profiler = LineProfiler()\n",
    "@profiler\n",
    "def model_run():\n",
    "    start_time = time.time()\n",
    "\n",
    "    col_incl=[1]       ### Specify which of the 12 columns (zones) to include in the ground temperature simulation (e.g. [1:12] (all), [4] (only one), [1 5 11] (several specific ones).\n",
    "    for col in col_incl:\n",
    "        if col==1:            ### Defining the column in use\n",
    "            runtime=100000      # Simulation runtime\n",
    "            materialid=np.copy(Z0_1MatID)\n",
    "        elif col==2:            ### Defining the column in use\n",
    "            runtime=500      # Simulation runtime\n",
    "            materialid=np.copy(Z1_2MatID)\n",
    "\n",
    "        material_properties = {1: (nL, p_soilL, cp_soilL, k_soilL),\\\n",
    "                               2: (nL, p_boulder, cp_boulder, k_boulder),\\\n",
    "                               3: (nI, p_ice, cp_ice, k_ice)}\n",
    "\n",
    "        for ii in range(nocell):\n",
    "            if materialid[ii] in material_properties:\n",
    "                n_grid[ii], p_soil[ii], cp_soil[ii], k_soil[ii] = material_properties[materialid[ii]]\n",
    "            else:\n",
    "                print('error')\n",
    "\n",
    "        no_tstep = int(runtime / tstep)  # Total number of time steps, DIFFERENT FOR EACH ZONE\n",
    "\n",
    "        T_11 = np.copy(T_ann10q[:no_tstep + 1])  # Cutting temperature curve to simulation period\n",
    "        T_1 = np.flip(T_11)  # New T_1 #This is just 150 K for each time step\n",
    "\n",
    "        ### stability criterion ###\n",
    "        # calculates the effective thermal diffusivity of the soil and ice material\n",
    "        # if stability < 0.5, model will proceed\n",
    "        k_s_ice = ((n_grid * np.sqrt(k_ice)) + ((1-n_grid) * np.sqrt(k_soil))) ** 2\n",
    "        C_s_ice = (n_grid * p_ice * cp_ice) + ((1 - n_grid) * p_soil * cp_soil)\n",
    "        a_s_ice = k_s_ice / C_s_ice\n",
    "        stability = (np.max(a_s_ice) * tstep / dz**2)\n",
    "\n",
    "        #temperature array used in numerical model\n",
    "        T = np.zeros((nocell, no_tstep))\n",
    "        T[:, 0] = np.copy(T_ini)\n",
    "\n",
    "        ### heat transfer loop starts\n",
    "        if col==1:\n",
    "            xT_ini = np.copy(T_ini)\n",
    "            k = 0 #time step count\n",
    "            l = 0 #year count\n",
    "            for t in range(no_tstep):\n",
    "                k += 1\n",
    "                for i in range(1, nocell-1): #excluding top and bottom bc they have boundary conditions\n",
    "                    #xT_ini[i] = round(xT_ini[i], 5)\n",
    "                    if xT_ini[i] < 100: #sanity check \n",
    "                        print(xT_ini)\n",
    "                        break\n",
    "                    if xT_ini[i] > 273.15:\n",
    "                        f_w[i] = 1\n",
    "                    elif xT_ini[i] < 204: #below this temp, SFC_fw goes to 0\n",
    "                        f_w[i] = 0\n",
    "                    else:\n",
    "                        #print(xT_ini[i])\n",
    "                        f_w[i] = get_fw(xT_ini[i])\n",
    "\n",
    "                    f_ice[i] = 1 - f_w[i]\n",
    "                    F_w[i] = f_w[i] * n_grid[i]\n",
    "                    F_ice[i] = f_ice[i] * n_grid[i]\n",
    "\n",
    "                    if xT_ini[i] > 273.15:\n",
    "                        df_w[i] = 0\n",
    "                    elif xT_ini[i] < 204: #below this temp, SFC_fw goes to 0\n",
    "                        df_w[i] = 0\n",
    "                    else:\n",
    "                        #df_w[i] = -2 * xT_ini[i] * np.exp(-(xT_ini[i] / 0.957725) ** 2)\n",
    "                        df_w[i] = get_dfw(xT_ini[i])\n",
    "\n",
    "                    #calculating equivalent material properties\n",
    "                    k_eq[i] = ((F_soil[i] * np.sqrt(k_soil[i])) + (F_w[i] * np.sqrt(k_w)) + (F_ice[i] * np.sqrt(k_ice))) ** 2\n",
    "                    C_eq[i] = (F_soil[i] * p_soil[i] * cp_soil[i]) + (F_w[i] * p_w * cp_w) + (F_ice[i] * p_ice * (cp_ice + L * df_w[i]))\n",
    "                    a_eq[i] = k_eq[i] / C_eq[i]\n",
    "\n",
    "                    if (xT_ini[i + 1] - xT_ini[i - 1]) != 0:\n",
    "                        T[i, t] = (((a_eq[i]*tstep)/dz**2) * (xT_ini[i + 1] + xT_ini[i - 1])) + (xT_ini[i] * (1 - ((2*a_eq[i]*tstep)/dz**2)))\n",
    "                    else:\n",
    "                        T[i, t] = xT_ini[i]\n",
    "\n",
    "                    T[0, t] = T_1[t] #setting the top boundary to 150 K\n",
    "                    T[nocell - 1, t] = T[nocell - 2, t] + (dz * T_gradient) # constant flux BC\n",
    "\n",
    "                xT_ini = np.copy(T[:, t])    ### Value used in loop\n",
    "\n",
    "                a_eq_0_1=np.copy(a_eq)      ### Vectors for figures         <<<<<<<<<<<<<<<--------------------\n",
    "                C_eq_0_1=np.copy(C_eq)\n",
    "                f_w_0_1=np.copy(f_w)\n",
    "                f_ice_0_1=np.copy(f_ice)\n",
    "\n",
    "                 ### Creating a matrix with the temperature distribution for each year\n",
    "                if k==ts_1yr: # IF ALL TIME STEPS WERE COMPLETED IN ONE YEAR,\n",
    "                    if l != runtime:\n",
    "                        ## UPDATES THE MATRICES FOR EACH COLUMN: ONE TEMP PER CELL PER YEAR\n",
    "                        # updates column of T matrix w temps from time step\n",
    "                        T_matx_0_1[:,l]=np.copy(T[:,t])     ### Vectors for figures         <<<<<<<<<<<<<<<--------------\n",
    "                        f_matx_0_1[:,l]=np.copy(f_w)\n",
    "                        l+=1 # INCREASE TO NEXT YEAR\n",
    "                        k=0\n",
    "                    elif l == runtime:\n",
    "                        l += 1\n",
    "                        k = 0\n",
    "\n",
    "    #    elif col==2:\n",
    "    #        xT_ini = np.copy(T_ini)\n",
    "    #        k = 0 #time step count\n",
    "    #        l = 0 #year count\n",
    "    #        for t in range(no_tstep):\n",
    "    #            if stability > 0.5:\n",
    "    #                break\n",
    "    #            k += 1\n",
    "    #            for i in range(1, nocell-1): #excluding top and bottom bc they have prescribed fractions\n",
    "    #                f_w[i] = get_fw(xT_ini[i])\n",
    "    #                f_ice[i] = 1 - f_w[i]\n",
    "\n",
    "                    # df_w/dT\n",
    "                    #not sure how to handle this next block of code with new freezing curve\n",
    "    #                if xT_ini[i] < 271.15:\n",
    "    #                    df_w[i] = 0\n",
    "    #                elif xT_ini[i] > 273.15:\n",
    "    #                    df_w[i] = 0\n",
    "    #                else:\n",
    "    #                    df_w[i] = -2 * xT_ini[i] * np.exp(-(xT_ini[i] / w) ** 2)  # diff of eq. A — leave this for now\n",
    "\n",
    "    #                F_w[i] = f_w[i] * n_grid[i]\n",
    "    #                F_ice[i] = f_ice[i] * n_grid[i]\n",
    "\n",
    "                    #calculating equivalent material properties\n",
    "    #                k_eq[i] = ((F_soil[i] * np.sqrt(k_soil[i])) + (f_w[i] * np.sqrt(k_w)) + (f_ice[i] * np.sqrt(k_ice))) ** 2\n",
    "    #                C_eq[i] = (F_soil[i] * p_soil[i] * cp_soil[i]) + (f_w[i] * p_w * cp_w) + (f_ice[i] * p_ice * (cp_ice + L * df_w[i]))\n",
    "    #                a_eq[i] = k_eq[i] / C_eq[i]\n",
    "\n",
    "    #                if (xT_ini2[i + 1] - xT_ini2[i - 1]) != 0:\n",
    "    #                    T[i, t] = (((a_eq[i]*tstep)/dz**2) * (xT_ini[i + 1] + xT_ini[i - 1])) + (xT_ini[i] * (1 - ((2*a_eq[i]*tstep)/dz**2)))\n",
    "    #                else:\n",
    "    #                    T[i, t] = xT_ini[i]\n",
    "\n",
    "    #                T[0, t] = T_1[t] #setting the top boundary to 150 K\n",
    "    #                T[nocell - 1, t] = T[nocell - 2, t] + dz * T_gradient #this can be changed to whatever we want the bottom boundary to be\n",
    "\n",
    "    #            xT_ini = np.copy(T[:, t])      ### Value used in loop\n",
    "\n",
    "    #            a_eq_1_2=np.copy(a_eq)      ### Vectors for figures         <<<<<<<<<<<<<<<--------------------\n",
    "    #            C_eq_1_2=np.copy(C_eq)\n",
    "    #            f_w_1_2=np.copy(f_w)\n",
    "    #            f_ice_1_2=np.copy(f_ice)\n",
    "\n",
    "                 ### Creating a matrix with the temperature distribution for each year\n",
    "    #            if k==ts_1yr: # IF ALL TIME STEPS WERE COMPLETED IN ONE YEAR,\n",
    "    #                if l != runtime:\n",
    "                        ## UPDATES THE MATRICES FOR EACH COLUMN: ONE TEMP PER CELL PER YEAR\n",
    "                        # updates column of T matrix w temps from time step\n",
    "    #                    T_matx_1_2[:,l]=np.copy(T[:,t])     ### Vectors for figures         <<<<<<<<<<<<<<<--------------\n",
    "    #                    f_matx_1_2[:,l]=np.copy(f_w)\n",
    "    #                    l+=1 # INCREASE TO NEXT YEAR\n",
    "    #                    k=0\n",
    "    #                elif l == runtime:\n",
    "    #                    l += 1\n",
    "    #                    k = 0\n",
    "\n",
    "\n",
    "\n",
    "    print('complete')\n",
    "    end_time = time.time()\n",
    "    elapsed_time = end_time - start_time\n",
    "    print(f\"Elapsed time: {elapsed_time} seconds\")"
   ]
  },
  {
   "cell_type": "code",
   "execution_count": null,
   "id": "9c1330ce",
   "metadata": {},
   "outputs": [],
   "source": [
    "model_run()"
   ]
  },
  {
   "cell_type": "code",
   "execution_count": 169,
   "id": "933a6983",
   "metadata": {},
   "outputs": [
    {
     "name": "stdout",
     "output_type": "stream",
     "text": [
      "Timer unit: 1e-09 s\n",
      "\n",
      "Total time: 294.195 s\n",
      "File: /var/folders/q6/f8_x77hj45d1kngmhhrc3k9r0000gn/T/ipykernel_9292/2320507184.py\n",
      "Function: model_run at line 7\n",
      "\n",
      "Line #      Hits         Time  Per Hit   % Time  Line Contents\n",
      "==============================================================\n",
      "     7                                           @profiler\n",
      "     8                                           def model_run():\n",
      "     9         1       5000.0   5000.0      0.0      start_time = time.time()\n",
      "    10                                           \n",
      "    11         1          0.0      0.0      0.0      col_incl=[1]       ### Specify which of the 12 columns (zones) to include in the ground temperature simulation (e.g. [1:12] (all), [4] (only one), [1 5 11] (several specific ones).\n",
      "    12         2       2000.0   1000.0      0.0      for col in col_incl:\n",
      "    13         1       1000.0   1000.0      0.0          if col==1:            ### Defining the column in use\n",
      "    14         1          0.0      0.0      0.0              runtime=100      # Simulation runtime\n",
      "    15         1      30000.0  30000.0      0.0              materialid=np.copy(Z0_1MatID)\n",
      "    16                                                   elif col==2:            ### Defining the column in use\n",
      "    17                                                       runtime=500      # Simulation runtime\n",
      "    18                                                       materialid=np.copy(Z1_2MatID)\n",
      "    19                                           \n",
      "    20         2       4000.0   2000.0      0.0          material_properties = {1: (nL, p_soilL, cp_soilL, k_soilL),\\\n",
      "    21         1       1000.0   1000.0      0.0                                 2: (nL, p_boulder, cp_boulder, k_boulder),\\\n",
      "    22         1       1000.0   1000.0      0.0                                 3: (nI, p_ice, cp_ice, k_ice)}\n",
      "    23                                           \n",
      "    24       302     107000.0    354.3      0.0          for ii in range(nocell):\n",
      "    25       301     177000.0    588.0      0.0              if materialid[ii] in material_properties:\n",
      "    26       301     358000.0   1189.4      0.0                  n_grid[ii], p_soil[ii], cp_soil[ii], k_soil[ii] = material_properties[materialid[ii]]\n",
      "    27                                                       else:\n",
      "    28                                                           print('error')\n",
      "    29                                           \n",
      "    30         1       4000.0   4000.0      0.0          no_tstep = int(runtime / tstep)  # Total number of time steps, DIFFERENT FOR EACH ZONE\n",
      "    31                                           \n",
      "    32         1      20000.0  20000.0      0.0          T_11 = np.copy(T_ann10q[:no_tstep + 1])  # Cutting temperature curve to simulation period\n",
      "    33         1      12000.0  12000.0      0.0          T_1 = np.flip(T_11)  # New T_1 #This is just 150 K for each time step\n",
      "    34                                           \n",
      "    35                                                   ### stability criterion ###\n",
      "    36                                                   # calculates the effective thermal diffusivity of the soil and ice material\n",
      "    37                                                   # if stability < 0.5, model will proceed\n",
      "    38         1      42000.0  42000.0      0.0          k_s_ice = ((n_grid * np.sqrt(k_ice)) + ((1-n_grid) * np.sqrt(k_soil))) ** 2\n",
      "    39         1      12000.0  12000.0      0.0          C_s_ice = (n_grid * p_ice * cp_ice) + ((1 - n_grid) * p_soil * cp_soil)\n",
      "    40         1       3000.0   3000.0      0.0          a_s_ice = k_s_ice / C_s_ice\n",
      "    41         1      35000.0  35000.0      0.0          stability = (np.max(a_s_ice) * tstep / dz**2)\n",
      "    42                                           \n",
      "    43                                                   #temperature array used in numerical model\n",
      "    44         1      25000.0  25000.0      0.0          T = np.zeros((nocell, no_tstep))\n",
      "    45         1     762000.0 762000.0      0.0          T[:, 0] = np.copy(T_ini)\n",
      "    46                                           \n",
      "    47                                                   ### heat transfer loop starts\n",
      "    48         1       2000.0   2000.0      0.0          if col==1:\n",
      "    49         1      19000.0  19000.0      0.0              xT_ini = np.copy(T_ini)\n",
      "    50         1          0.0      0.0      0.0              k = 0 #time step count\n",
      "    51         1          0.0      0.0      0.0              l = 0 #year count\n",
      "    52      2001    1004000.0    501.7      0.0              for t in range(no_tstep):\n",
      "    53      2000    1326000.0    663.0      0.0                  k += 1\n",
      "    54    600000  298561000.0    497.6      0.1                  for i in range(1, nocell-1): #excluding top and bottom bc they have boundary conditions\n",
      "    55                                                               #xT_ini[i] = round(xT_ini[i], 5)\n",
      "    56    598000  324529000.0    542.7      0.1                      if xT_ini[i] < 100: #sanity check \n",
      "    57                                                                   print(xT_ini)\n",
      "    58                                                                   break\n",
      "    59    598000  291952000.0    488.2      0.1                      if xT_ini[i] > 273.15:\n",
      "    60    200721  103603000.0    516.2      0.0                          f_w[i] = 1\n",
      "    61    397279  191645000.0    482.4      0.1                      elif xT_ini[i] < 204: #below this temp, SFC_fw goes to 0\n",
      "    62     20908   11032000.0    527.6      0.0                          f_w[i] = 0\n",
      "    63                                                               else:\n",
      "    64                                                                   #print(xT_ini[i])\n",
      "    65    376371        1e+11 372499.8     47.7                          f_w[i] = get_fw(xT_ini[i])\n",
      "    66                                           \n",
      "    67    598000  703675000.0   1176.7      0.2                      f_ice[i] = 1 - f_w[i]\n",
      "    68    598000  669732000.0   1120.0      0.2                      F_w[i] = f_w[i] * n_grid[i]\n",
      "    69    598000  474945000.0    794.2      0.2                      F_ice[i] = f_ice[i] * n_grid[i]\n",
      "    70                                           \n",
      "    71    598000  391980000.0    655.5      0.1                      if xT_ini[i] > 273.15:\n",
      "    72    200721   96428000.0    480.4      0.0                          df_w[i] = 0\n",
      "    73    397279  200845000.0    505.6      0.1                      elif xT_ini[i] < 204: #below this temp, SFC_fw goes to 0\n",
      "    74     20908   10189000.0    487.3      0.0                          df_w[i] = 0\n",
      "    75                                                               else:\n",
      "    76                                                                   #df_w[i] = -2 * xT_ini[i] * np.exp(-(xT_ini[i] / 0.957725) ** 2)\n",
      "    77    376371        1e+11 371125.7     47.5                          df_w[i] = get_dfw(xT_ini[i])\n",
      "    78                                           \n",
      "    79                                                               #calculating equivalent material properties\n",
      "    80    598000 4268485000.0   7137.9      1.5                      k_eq[i] = ((F_soil[i] * np.sqrt(k_soil[i])) + (F_w[i] * np.sqrt(k_w)) + (F_ice[i] * np.sqrt(k_ice))) ** 2\n",
      "    81    598000 1796788000.0   3004.7      0.6                      C_eq[i] = (F_soil[i] * p_soil[i] * cp_soil[i]) + (F_w[i] * p_w * cp_w) + (F_ice[i] * p_ice * (cp_ice + L * df_w[i]))\n",
      "    82    598000  678441000.0   1134.5      0.2                      a_eq[i] = k_eq[i] / C_eq[i]\n",
      "    83                                           \n",
      "    84    598000  731000000.0   1222.4      0.2                      if (xT_ini[i + 1] - xT_ini[i - 1]) != 0:\n",
      "    85    448733 1501916000.0   3347.0      0.5                          T[i, t] = (((a_eq[i]*tstep)/dz**2) * (xT_ini[i + 1] + xT_ini[i - 1])) + (xT_ini[i] * (1 - ((2*a_eq[i]*tstep)/dz**2)))\n",
      "    86                                                               else:\n",
      "    87    149267  141574000.0    948.5      0.0                          T[i, t] = xT_ini[i]\n",
      "    88                                           \n",
      "    89    598000  443629000.0    741.9      0.2                      T[0, t] = T_1[t] #setting the top boundary to 150 K\n",
      "    90    598000  932903000.0   1560.0      0.3                      T[nocell - 1, t] = T[nocell - 2, t] + (dz * T_gradient) # constant flux BC\n",
      "    91                                           \n",
      "    92      2000   25321000.0  12660.5      0.0                  xT_ini = np.copy(T[:, t])    ### Value used in loop\n",
      "    93                                           \n",
      "    94      2000    6525000.0   3262.5      0.0                  a_eq_0_1=np.copy(a_eq)      ### Vectors for figures         <<<<<<<<<<<<<<<--------------------\n",
      "    95      2000    4457000.0   2228.5      0.0                  C_eq_0_1=np.copy(C_eq)\n",
      "    96      2000    4223000.0   2111.5      0.0                  f_w_0_1=np.copy(f_w)\n",
      "    97      2000    3937000.0   1968.5      0.0                  f_ice_0_1=np.copy(f_ice)\n",
      "    98                                           \n",
      "    99                                                            ### Creating a matrix with the temperature distribution for each year\n",
      "   100      2000    1901000.0    950.5      0.0                  if k==ts_1yr: # IF ALL TIME STEPS WERE COMPLETED IN ONE YEAR,\n",
      "   101       100      47000.0    470.0      0.0                      if l != runtime:\n",
      "   102                                                                   ## UPDATES THE MATRICES FOR EACH COLUMN: ONE TEMP PER CELL PER YEAR\n",
      "   103                                                                   # updates column of T matrix w temps from time step\n",
      "   104       100     690000.0   6900.0      0.0                          T_matx_0_1[:,l]=np.copy(T[:,t])     ### Vectors for figures         <<<<<<<<<<<<<<<--------------\n",
      "   105       100     569000.0   5690.0      0.0                          f_matx_0_1[:,l]=np.copy(f_w)\n",
      "   106       100      67000.0    670.0      0.0                          l+=1 # INCREASE TO NEXT YEAR\n",
      "   107       100      57000.0    570.0      0.0                          k=0\n",
      "   108                                                               elif l == runtime:\n",
      "   109                                                                   l += 1\n",
      "   110                                                                   k = 0\n",
      "   111                                           \n",
      "   112                                               #    elif col==2:\n",
      "   113                                               #        xT_ini = np.copy(T_ini)\n",
      "   114                                               #        k = 0 #time step count\n",
      "   115                                               #        l = 0 #year count\n",
      "   116                                               #        for t in range(no_tstep):\n",
      "   117                                               #            if stability > 0.5:\n",
      "   118                                               #                break\n",
      "   119                                               #            k += 1\n",
      "   120                                               #            for i in range(1, nocell-1): #excluding top and bottom bc they have prescribed fractions\n",
      "   121                                               #                f_w[i] = get_fw(xT_ini[i])\n",
      "   122                                               #                f_ice[i] = 1 - f_w[i]\n",
      "   123                                           \n",
      "   124                                                               # df_w/dT\n",
      "   125                                                               #not sure how to handle this next block of code with new freezing curve\n",
      "   126                                               #                if xT_ini[i] < 271.15:\n",
      "   127                                               #                    df_w[i] = 0\n",
      "   128                                               #                elif xT_ini[i] > 273.15:\n",
      "   129                                               #                    df_w[i] = 0\n",
      "   130                                               #                else:\n",
      "   131                                               #                    df_w[i] = -2 * xT_ini[i] * np.exp(-(xT_ini[i] / w) ** 2)  # diff of eq. A — leave this for now\n",
      "   132                                           \n",
      "   133                                               #                F_w[i] = f_w[i] * n_grid[i]\n",
      "   134                                               #                F_ice[i] = f_ice[i] * n_grid[i]\n",
      "   135                                           \n",
      "   136                                                               #calculating equivalent material properties\n",
      "   137                                               #                k_eq[i] = ((F_soil[i] * np.sqrt(k_soil[i])) + (f_w[i] * np.sqrt(k_w)) + (f_ice[i] * np.sqrt(k_ice))) ** 2\n",
      "   138                                               #                C_eq[i] = (F_soil[i] * p_soil[i] * cp_soil[i]) + (f_w[i] * p_w * cp_w) + (f_ice[i] * p_ice * (cp_ice + L * df_w[i]))\n",
      "   139                                               #                a_eq[i] = k_eq[i] / C_eq[i]\n",
      "   140                                           \n",
      "   141                                               #                if (xT_ini2[i + 1] - xT_ini2[i - 1]) != 0:\n",
      "   142                                               #                    T[i, t] = (((a_eq[i]*tstep)/dz**2) * (xT_ini[i + 1] + xT_ini[i - 1])) + (xT_ini[i] * (1 - ((2*a_eq[i]*tstep)/dz**2)))\n",
      "   143                                               #                else:\n",
      "   144                                               #                    T[i, t] = xT_ini[i]\n",
      "   145                                           \n",
      "   146                                               #                T[0, t] = T_1[t] #setting the top boundary to 150 K\n",
      "   147                                               #                T[nocell - 1, t] = T[nocell - 2, t] + dz * T_gradient #this can be changed to whatever we want the bottom boundary to be\n",
      "   148                                           \n",
      "   149                                               #            xT_ini = np.copy(T[:, t])      ### Value used in loop\n",
      "   150                                           \n",
      "   151                                               #            a_eq_1_2=np.copy(a_eq)      ### Vectors for figures         <<<<<<<<<<<<<<<--------------------\n",
      "   152                                               #            C_eq_1_2=np.copy(C_eq)\n",
      "   153                                               #            f_w_1_2=np.copy(f_w)\n",
      "   154                                               #            f_ice_1_2=np.copy(f_ice)\n",
      "   155                                           \n",
      "   156                                                            ### Creating a matrix with the temperature distribution for each year\n",
      "   157                                               #            if k==ts_1yr: # IF ALL TIME STEPS WERE COMPLETED IN ONE YEAR,\n",
      "   158                                               #                if l != runtime:\n",
      "   159                                                                   ## UPDATES THE MATRICES FOR EACH COLUMN: ONE TEMP PER CELL PER YEAR\n",
      "   160                                                                   # updates column of T matrix w temps from time step\n",
      "   161                                               #                    T_matx_1_2[:,l]=np.copy(T[:,t])     ### Vectors for figures         <<<<<<<<<<<<<<<--------------\n",
      "   162                                               #                    f_matx_1_2[:,l]=np.copy(f_w)\n",
      "   163                                               #                    l+=1 # INCREASE TO NEXT YEAR\n",
      "   164                                               #                    k=0\n",
      "   165                                               #                elif l == runtime:\n",
      "   166                                               #                    l += 1\n",
      "   167                                               #                    k = 0\n",
      "   168                                           \n",
      "   169                                           \n",
      "   170                                           \n",
      "   171         1      92000.0  92000.0      0.0      print('complete')\n",
      "   172         1       3000.0   3000.0      0.0      end_time = time.time()\n",
      "   173         1       1000.0   1000.0      0.0      elapsed_time = end_time - start_time\n",
      "   174         1      12000.0  12000.0      0.0      print(f\"Elapsed time: {elapsed_time} seconds\")\n",
      "\n"
     ]
    }
   ],
   "source": [
    "profiler.print_stats()"
   ]
  },
  {
   "cell_type": "code",
   "execution_count": 170,
   "id": "b65aa6af",
   "metadata": {},
   "outputs": [
    {
     "data": {
      "text/plain": [
       "(301, 100)"
      ]
     },
     "execution_count": 170,
     "metadata": {},
     "output_type": "execute_result"
    }
   ],
   "source": [
    "T_matx_0_1.shape #should be nocell x runtime"
   ]
  },
  {
   "cell_type": "code",
   "execution_count": 171,
   "id": "85db2c1c",
   "metadata": {},
   "outputs": [
    {
     "data": {
      "text/plain": [
       "(301,)"
      ]
     },
     "execution_count": 171,
     "metadata": {},
     "output_type": "execute_result"
    }
   ],
   "source": [
    "f_w.shape"
   ]
  },
  {
   "cell_type": "code",
   "execution_count": 172,
   "id": "bb7ce837",
   "metadata": {},
   "outputs": [
    {
     "data": {
      "text/plain": [
       "<matplotlib.legend.Legend at 0x14428bfa0>"
      ]
     },
     "execution_count": 172,
     "metadata": {},
     "output_type": "execute_result"
    },
    {
     "data": {
      "image/png": "[encoded data removed]",
      "text/plain": [
       "<Figure size 640x480 with 1 Axes>"
      ]
     },
     "metadata": {},
     "output_type": "display_data"
    }
   ],
   "source": [
    "### Fig - Final temperature distrubution\n",
    "#plotting curves for initial and final temp distributions\n",
    "\n",
    "plt.figure()\n",
    "plt.xlim([100,400])\n",
    "#plt.ylim(-.1,40)\n",
    "plt.plot(T_matx_0_1[:,0], z, linestyle='dashed',color='darkmagenta', label='Initial Temp Dist.')\n",
    "plt.plot(T_matx_0_1[:,runtime-1], z, color='dodgerblue', label='Final Temp Dist.')\n",
    "plt.gca().invert_yaxis()\n",
    "plt.xlabel('Temperature [K]')\n",
    "plt.ylabel('Depth [m]')\n",
    "plt.title('Zone 1: Temperature vs. Depth, Runtime = %r yr' %(runtime))\n",
    "plt.legend(bbox_to_anchor=(1.05, 1), loc='upper left', borderaxespad=0)\n"
   ]
  },
  {
   "cell_type": "code",
   "execution_count": 173,
   "id": "13b9f44f",
   "metadata": {},
   "outputs": [
    {
     "name": "stdout",
     "output_type": "stream",
     "text": [
      "[150.         153.39809388 156.79339162 160.1830981  163.56442091\n",
      " 166.93457302 170.29077708 173.63027148 176.95031845 180.24821396\n",
      " 183.52129945 186.76697469 189.98271138 193.16606687 196.31469715\n",
      " 199.42636858 202.49896772 205.5305088  208.51589117 211.45321828\n",
      " 214.34074699 217.17688533 219.96018801 222.68935023 225.36320062\n",
      " 227.98069393 230.53982943 233.03974093 235.47967596 237.85899324\n",
      " 240.17716214 242.43376368 244.6256451  246.75252873 248.81426858\n",
      " 250.81084838 252.73717321 254.59339629 256.37984722 258.08853123\n",
      " 259.72037716 261.26441676 262.72337278 264.08516171 265.33640199\n",
      " 266.46366823 267.45491238 268.30132413 268.99910672 269.54800919\n",
      " 269.98234173 270.32583537 270.60649618 270.85988947 271.09128636\n",
      " 271.30207558 271.49374381 271.66776454 271.82553069 271.96833838\n",
      " 272.09739365 272.21382274 272.31867982 272.41295161 272.49756025\n",
      " 272.57336542 272.6411664  272.70170429 272.75566446 272.80367914\n",
      " 272.84633017 272.88415174 272.91763316 272.94722162 272.97332491\n",
      " 272.99631401 273.01652573 273.03426511 273.04980785 273.0634026\n",
      " 273.0752731  273.08562025 273.09462408 273.10244553 273.10922822\n",
      " 273.11510002 273.12017453 273.12455249 273.12832303 273.13156487\n",
      " 273.13434735 273.13673146 273.13877075 273.14051208 273.14199645\n",
      " 273.14325961 273.14433267 273.14524269 273.14601311 273.14666423\n",
      " 273.14721358 273.14767628 273.14806532 273.14839186 273.14866549\n",
      " 273.14889437 273.14908551 273.14924484 273.14937744 273.1494876\n",
      " 273.14957897 273.14965461 273.14971713 273.14976871 273.1498112\n",
      " 273.14984614 273.14987482 273.14989832 273.14991755 273.14993325\n",
      " 273.14994605 273.14995647 273.14996493 273.1499718  273.14997736\n",
      " 273.14998185 273.14998548 273.1499884  273.14999075 273.14999263\n",
      " 273.14999414 273.14999535 273.14999632 273.14999709 273.1499977\n",
      " 273.14999819 273.14999857 273.14999888 273.14999912 273.14999931\n",
      " 273.14999946 273.14999958 273.14999967 273.14999975 273.1499998\n",
      " 273.14999985 273.14999988 273.14999991 273.14999993 273.14999995\n",
      " 273.14999996 273.14999997 273.14999998 273.14999998 273.14999999\n",
      " 273.14999999 273.14999999 273.14999999 273.15       273.15\n",
      " 273.15       273.15       273.15       273.15       273.15\n",
      " 273.15       273.15       273.15       273.15       273.15\n",
      " 273.15       273.15       273.15       273.15       273.15\n",
      " 273.15       273.15       273.15       273.15       273.15000001\n",
      " 273.15000001 273.15000001 273.15000001 273.15000002 273.15000002\n",
      " 273.15000002 273.15000003 273.15000004 273.15000004 273.15000005\n",
      " 273.15000007 273.15000008 273.1500001  273.15000013 273.15000015\n",
      " 273.15000019 273.15000023 273.15000028 273.15000034 273.15000042\n",
      " 273.15000051 273.15000061 273.15000074 273.1500009  273.15000108\n",
      " 273.15000131 273.15000157 273.15000189 273.15000226 273.15000271\n",
      " 273.15000323 273.15000386 273.1500046  273.15000547 273.1500065\n",
      " 273.15000771 273.15000913 273.15001079 273.15001274 273.15001502\n",
      " 273.15001767 273.15002076 273.15002436 273.15002854 273.15003338\n",
      " 273.15003898 273.15004546 273.15005292 273.15006153 273.15007142\n",
      " 273.15008278 273.1500958  273.1501107  273.15012773 273.15014716\n",
      " 273.15016928 273.15019445 273.15022303 273.15025542 273.15029209\n",
      " 273.15033353 273.1503803  273.15043298 273.15049225 273.15055881\n",
      " 273.15063344 273.15071701 273.15081044 273.15091472 273.15103093\n",
      " 273.15116026 273.15130395 273.15146335 273.15163992 273.15183522\n",
      " 273.15205089 273.1522887  273.15255054 273.1528384  273.1531544\n",
      " 273.15350076 273.15387985 273.15429414 273.15474623 273.15523886\n",
      " 273.15577487 273.15635723 273.15698904 273.15767351 273.15841395\n",
      " 273.15921382 273.16007664 273.16100605 273.16200578 273.16307966\n",
      " 273.16423156 273.16546546 273.16678535 273.16819532 273.16969945\n",
      " 273.17130187 273.1730067  273.17481808 273.17674011 273.17877688\n",
      " 273.18093241 273.18321068 273.18561559 273.18815095 273.19082044\n",
      " 273.19362767 273.19657607 273.19978759 273.2032677  273.20702128\n",
      " 273.21105259 273.21536523 273.21996212 273.22484548 273.23001678\n",
      " 273.23547678]\n"
     ]
    }
   ],
   "source": [
    "print(T_matx_0_1[:,-1])"
   ]
  },
  {
   "cell_type": "code",
   "execution_count": 150,
   "id": "6d6c3098",
   "metadata": {},
   "outputs": [
    {
     "data": {
      "text/plain": [
       "<matplotlib.legend.Legend at 0x143f60c10>"
      ]
     },
     "execution_count": 150,
     "metadata": {},
     "output_type": "execute_result"
    },
    {
     "data": {
      "image/png": "[encoded data removed]",
      "text/plain": [
       "<Figure size 640x480 with 1 Axes>"
      ]
     },
     "metadata": {},
     "output_type": "display_data"
    }
   ],
   "source": [
    "### Fig - Final ice fraction distrubution\n",
    "#plotting curves for initial and final f_ice distributions\n",
    "\n",
    "plt.figure()\n",
    "plt.xlim([-0.01,1.01])\n",
    "plt.plot(f_matx_0_1[:,0], z, linestyle='dashed',color='darkmagenta', label='Initial Water Fraction Dist.')\n",
    "plt.plot(f_matx_0_1[:,runtime-1], z, color='dodgerblue', label='Final Water Fraction Dist.')\n",
    "plt.gca().invert_yaxis()\n",
    "plt.xlabel('Ice Fraction')\n",
    "plt.ylabel('Depth [m]')\n",
    "plt.title('Zone 1: Water Fraction vs. Depth, Runtime = %r yr' %(runtime))\n",
    "plt.legend(bbox_to_anchor=(1.05, 1), loc='upper left', borderaxespad=0)\n"
   ]
  },
  {
   "cell_type": "code",
   "execution_count": 151,
   "id": "0dd041b8",
   "metadata": {},
   "outputs": [],
   "source": [
    "# when runtime is 100,000 yr, code takes ~2 hr to run"
   ]
  },
  {
   "cell_type": "markdown",
   "id": "6a945ea8",
   "metadata": {},
   "source": [
    "## Aggradation rate and depth of PF & FF"
   ]
  },
  {
   "cell_type": "code",
   "execution_count": 152,
   "id": "15306d6f",
   "metadata": {},
   "outputs": [],
   "source": [
    "TqFF= 271.15 #K, freezing front temp\n",
    "Tq_1= 272.15 #not sure what this is\n",
    "TqPF= 273.15 #permafrost temp\n",
    "t_intv=1         ### Time interval between columns in T_matx [yr]\n",
    "nocell_1=nocell-1\n",
    "\n",
    "Dcol0=0 #not sure what these are \n",
    "Dcol1=615\n",
    "Dcol2=1965\n",
    "Dcol3=3375\n",
    "Dcol4=4505\n",
    "Dcol5=5220\n",
    "Dcol6=5670\n",
    "Dcol7=6020\n",
    "Dcol8=6570\n",
    "Dcol9=7337.5\n",
    "Dcol10=8712.5\n",
    "Dcol11=12305\n",
    "Dcol12=15000\n",
    "DcolFar=18000    ### value not used\n",
    "\n",
    "\n",
    "presentFFdepth = np.empty(nocell)\n",
    "presentPFdepth = np.empty(nocell)\n",
    "presentAggrRate = np.empty(nocell)\n",
    "DtoDF = np.empty(nocell)\n",
    "\n",
    "presentFFdepth[0]=0\n",
    "presentPFdepth[0]=0\n",
    "presentAggrRate[0]=0\n",
    "DtoDF[0]=0\n",
    "\n",
    "temp = np.zeros((nocell,runtime))"
   ]
  },
  {
   "cell_type": "code",
   "execution_count": 156,
   "id": "1857b61a",
   "metadata": {},
   "outputs": [
    {
     "data": {
      "image/png": "[encoded data removed]",
      "text/plain": [
       "<Figure size 800x1000 with 2 Axes>"
      ]
     },
     "metadata": {},
     "output_type": "display_data"
    }
   ],
   "source": [
    "colcount = [1]\n",
    "\n",
    "for col in colcount:\n",
    "    if col==1:\n",
    "        l = runtime  # Runtime [yr]\n",
    "        k = 0\n",
    "        zqFF = np.zeros(l)\n",
    "        zq_1 = np.zeros(l)\n",
    "        zqPF = np.zeros(l)\n",
    "        temp = np.zeros((nocell, l))\n",
    "        tt = np.arange(1, l + 1, t_intv)\n",
    "        tt_shift = np.arange(1, l, t_intv)\n",
    "        aggr_rateFF = np.zeros(l-1)\n",
    "        aggr_rate_1 = np.zeros(l-1)\n",
    "        aggr_ratePF = np.zeros(l-1)\n",
    "\n",
    "        for i in range(l):\n",
    "            k += 1\n",
    "            temp[0:nocell, k-1] = T_matx_0_1[0:nocell, k-1]  # Use the appropriate T_matx\n",
    "\n",
    "            transposed_temp = np.transpose(temp[0:nocell_1, k-1]) # Switches rows and columns\n",
    "            interp_func = interp1d(transposed_temp, z[0:nocell_1], kind='linear')\n",
    "            \n",
    "            if TqFF < np.min(transposed_temp) or TqFF > np.max(transposed_temp):\n",
    "            # Handle the case of values outside the interpolation range\n",
    "            # For example, use the closest available data point for interpolation\n",
    "                interpolated_value = interp_func(np.clip(TqFF, np.min(transposed_temp), np.max(transposed_temp)))\n",
    "            else:\n",
    "                interpolated_value = interp_func(TqFF)\n",
    "\n",
    "            zqFF[i] = interpolated_value\n",
    "            tt[i] = t_intv * k\n",
    "\n",
    "        k = 0\n",
    "        for i in range(l):\n",
    "            k += 1\n",
    "            temp[0:nocell, k-1] = T_matx_0_1[0:nocell, k-1]  # Use the appropriate T_matx\n",
    "            \n",
    "            if Tq_1 < np.min(transposed_temp) or Tq_1 > np.max(transposed_temp):\n",
    "            # Handle the case of values outside the interpolation range\n",
    "            # For example, use the closest available data point for interpolation\n",
    "                interpolated_value = interp_func(np.clip(Tq_1, np.min(transposed_temp), np.max(transposed_temp)))\n",
    "            else:\n",
    "                interpolated_value = interp_func(Tq_1)\n",
    "\n",
    "\n",
    "            zq_1[i] = interpolated_value\n",
    "            tt[i] = t_intv * k\n",
    "\n",
    "        k = 0\n",
    "        for i in range(l):\n",
    "            k += 1\n",
    "            temp[0:nocell, k-1] = T_matx_0_1[0:nocell, k-1]  # Use the appropriate T_matx\n",
    "            \n",
    "            if TqPF < np.min(transposed_temp) or TqPF > np.max(transposed_temp):\n",
    "            # Handle the case of values outside the interpolation range\n",
    "            # For example, use the closest available data point for interpolation\n",
    "                interpolated_value = interp_func(np.clip(TqPF, np.min(transposed_temp), np.max(transposed_temp)))\n",
    "            else:\n",
    "                interpolated_value = interp_func(TqPF)\n",
    "\n",
    "            zqPF[i] = interpolated_value\n",
    "            tt[i] = t_intv * k\n",
    "\n",
    "        colcount[0] += 1\n",
    "        presentFFdepth[colcount[0]]=zqFF[len(zqFF)-1]\n",
    "        presentPFdepth[colcount[0]]=zqPF[len(zqPF)-1]\n",
    "        DtoDF[colcount]=Dcol1\n",
    "\n",
    "        no_points = len(zqFF)\n",
    "        tt_shifted = tt - 0.5 * t_intv\n",
    "        tt_shift[0:(no_points - 1)] = tt_shifted[1:no_points]\n",
    "        tt_shift_BP = np.flip(tt_shift)\n",
    "        tt_flip = np.flip(tt)\n",
    "\n",
    "        for ii in range(len(zqFF)-1):\n",
    "            aggr_rateFF[ii] = (zqFF[ii + 1] - zqFF[ii]) / t_intv\n",
    "\n",
    "        for ii in range(len(zqFF)-1):\n",
    "            aggr_rate_1[ii] = (zq_1[ii + 1] - zq_1[ii]) / t_intv\n",
    "\n",
    "        for ii in range(len(zqFF)-1):\n",
    "            aggr_ratePF[ii] = (zqPF[ii + 1] - zqPF[ii]) / t_intv\n",
    "\n",
    "        presentAggrRate[colcount]=aggr_rateFF[len(aggr_rateFF)-1]\n",
    "\n",
    "# Plotting\n",
    "fig, axes = plt.subplots(nrows=2, ncols=1, figsize=(8, 10))\n",
    "\n",
    "# Plot the Freezing front and PF depth data in the first subplot\n",
    "axes[0].plot(tt, zqFF, '-.', label='Freezing Front')\n",
    "axes[0].plot(tt, zqPF, '-.', label='Permafrost Front')\n",
    "axes[0].set_title('Freezing front and permafrost depth - Zone 0-1')\n",
    "axes[0].invert_yaxis()\n",
    "axes[0].set_xlabel('Elapsed Time [yr]')\n",
    "axes[0].set_ylabel('Depth [m]')\n",
    "axes[0].legend(loc='upper left')\n",
    "axes[0].set_ylim(grid_depth+100, 0)\n",
    "\n",
    "# Plot the Aggradation rate data in the second subplot\n",
    "axes[1].plot(tt_shift, aggr_rateFF, 'k')\n",
    "axes[1].set_title('FF Aggradation rate - Zone 0-1')\n",
    "axes[1].set_xlabel('Elapsed Time [yr]')\n",
    "axes[1].set_ylabel('Rate [m/yr]')\n",
    "#axes[1].legend(loc='upper right')\n",
    "\n",
    "# Adjust layout and show the plots\n",
    "plt.tight_layout()\n",
    "plt.show()"
   ]
  },
  {
   "cell_type": "code",
   "execution_count": null,
   "id": "e10d8209",
   "metadata": {},
   "outputs": [],
   "source": [
    "print(zqFF)"
   ]
  },
  {
   "cell_type": "code",
   "execution_count": null,
   "id": "b1c25741",
   "metadata": {},
   "outputs": [],
   "source": [
    "print(zqPF)"
   ]
  },
  {
   "cell_type": "markdown",
   "id": "5a9c64e1",
   "metadata": {},
   "source": [
    "## Final PF and FF depths"
   ]
  },
  {
   "cell_type": "code",
   "execution_count": 37,
   "id": "2fe1e967",
   "metadata": {},
   "outputs": [
    {
     "data": {
      "text/plain": [
       "<matplotlib.legend.Legend at 0x140862040>"
      ]
     },
     "execution_count": 37,
     "metadata": {},
     "output_type": "execute_result"
    },
    {
     "name": "stderr",
     "output_type": "stream",
     "text": [
      "/Users/alexiakubas/opt/anaconda3/envs/astromodeling/lib/python3.9/site-packages/matplotlib/ticker.py:2094: RuntimeWarning: overflow encountered in multiply\n",
      "  steps = self._extended_steps * scale\n",
      "/Users/alexiakubas/opt/anaconda3/envs/astromodeling/lib/python3.9/site-packages/matplotlib/ticker.py:2126: RuntimeWarning: overflow encountered in scalar subtract\n",
      "  high = edge.ge(_vmax - best_vmin)\n"
     ]
    },
    {
     "name": "stdout",
     "output_type": "stream",
     "text": [
      "Error in callback <function _draw_all_if_interactive at 0x13b9a3d30> (for post_execute):\n"
     ]
    },
    {
     "ename": "ValueError",
     "evalue": "arange: cannot compute length",
     "output_type": "error",
     "traceback": [
      "\u001b[0;31m---------------------------------------------------------------------------\u001b[0m",
      "\u001b[0;31mValueError\u001b[0m                                Traceback (most recent call last)",
      "File \u001b[0;32m~/opt/anaconda3/envs/astromodeling/lib/python3.9/site-packages/matplotlib/pyplot.py:120\u001b[0m, in \u001b[0;36m_draw_all_if_interactive\u001b[0;34m()\u001b[0m\n\u001b[1;32m    118\u001b[0m \u001b[38;5;28;01mdef\u001b[39;00m \u001b[38;5;21m_draw_all_if_interactive\u001b[39m():\n\u001b[1;32m    119\u001b[0m     \u001b[38;5;28;01mif\u001b[39;00m matplotlib\u001b[38;5;241m.\u001b[39mis_interactive():\n\u001b[0;32m--> 120\u001b[0m         \u001b[43mdraw_all\u001b[49m\u001b[43m(\u001b[49m\u001b[43m)\u001b[49m\n",
      "File \u001b[0;32m~/opt/anaconda3/envs/astromodeling/lib/python3.9/site-packages/matplotlib/_pylab_helpers.py:132\u001b[0m, in \u001b[0;36mGcf.draw_all\u001b[0;34m(cls, force)\u001b[0m\n\u001b[1;32m    130\u001b[0m \u001b[38;5;28;01mfor\u001b[39;00m manager \u001b[38;5;129;01min\u001b[39;00m \u001b[38;5;28mcls\u001b[39m\u001b[38;5;241m.\u001b[39mget_all_fig_managers():\n\u001b[1;32m    131\u001b[0m     \u001b[38;5;28;01mif\u001b[39;00m force \u001b[38;5;129;01mor\u001b[39;00m manager\u001b[38;5;241m.\u001b[39mcanvas\u001b[38;5;241m.\u001b[39mfigure\u001b[38;5;241m.\u001b[39mstale:\n\u001b[0;32m--> 132\u001b[0m         \u001b[43mmanager\u001b[49m\u001b[38;5;241;43m.\u001b[39;49m\u001b[43mcanvas\u001b[49m\u001b[38;5;241;43m.\u001b[39;49m\u001b[43mdraw_idle\u001b[49m\u001b[43m(\u001b[49m\u001b[43m)\u001b[49m\n",
      "File \u001b[0;32m~/opt/anaconda3/envs/astromodeling/lib/python3.9/site-packages/matplotlib/backend_bases.py:2082\u001b[0m, in \u001b[0;36mFigureCanvasBase.draw_idle\u001b[0;34m(self, *args, **kwargs)\u001b[0m\n\u001b[1;32m   2080\u001b[0m \u001b[38;5;28;01mif\u001b[39;00m \u001b[38;5;129;01mnot\u001b[39;00m \u001b[38;5;28mself\u001b[39m\u001b[38;5;241m.\u001b[39m_is_idle_drawing:\n\u001b[1;32m   2081\u001b[0m     \u001b[38;5;28;01mwith\u001b[39;00m \u001b[38;5;28mself\u001b[39m\u001b[38;5;241m.\u001b[39m_idle_draw_cntx():\n\u001b[0;32m-> 2082\u001b[0m         \u001b[38;5;28;43mself\u001b[39;49m\u001b[38;5;241;43m.\u001b[39;49m\u001b[43mdraw\u001b[49m\u001b[43m(\u001b[49m\u001b[38;5;241;43m*\u001b[39;49m\u001b[43margs\u001b[49m\u001b[43m,\u001b[49m\u001b[43m \u001b[49m\u001b[38;5;241;43m*\u001b[39;49m\u001b[38;5;241;43m*\u001b[39;49m\u001b[43mkwargs\u001b[49m\u001b[43m)\u001b[49m\n",
      "File \u001b[0;32m~/opt/anaconda3/envs/astromodeling/lib/python3.9/site-packages/matplotlib/backends/backend_agg.py:400\u001b[0m, in \u001b[0;36mFigureCanvasAgg.draw\u001b[0;34m(self)\u001b[0m\n\u001b[1;32m    396\u001b[0m \u001b[38;5;66;03m# Acquire a lock on the shared font cache.\u001b[39;00m\n\u001b[1;32m    397\u001b[0m \u001b[38;5;28;01mwith\u001b[39;00m RendererAgg\u001b[38;5;241m.\u001b[39mlock, \\\n\u001b[1;32m    398\u001b[0m      (\u001b[38;5;28mself\u001b[39m\u001b[38;5;241m.\u001b[39mtoolbar\u001b[38;5;241m.\u001b[39m_wait_cursor_for_draw_cm() \u001b[38;5;28;01mif\u001b[39;00m \u001b[38;5;28mself\u001b[39m\u001b[38;5;241m.\u001b[39mtoolbar\n\u001b[1;32m    399\u001b[0m       \u001b[38;5;28;01melse\u001b[39;00m nullcontext()):\n\u001b[0;32m--> 400\u001b[0m     \u001b[38;5;28;43mself\u001b[39;49m\u001b[38;5;241;43m.\u001b[39;49m\u001b[43mfigure\u001b[49m\u001b[38;5;241;43m.\u001b[39;49m\u001b[43mdraw\u001b[49m\u001b[43m(\u001b[49m\u001b[38;5;28;43mself\u001b[39;49m\u001b[38;5;241;43m.\u001b[39;49m\u001b[43mrenderer\u001b[49m\u001b[43m)\u001b[49m\n\u001b[1;32m    401\u001b[0m     \u001b[38;5;66;03m# A GUI class may be need to update a window using this draw, so\u001b[39;00m\n\u001b[1;32m    402\u001b[0m     \u001b[38;5;66;03m# don't forget to call the superclass.\u001b[39;00m\n\u001b[1;32m    403\u001b[0m     \u001b[38;5;28msuper\u001b[39m()\u001b[38;5;241m.\u001b[39mdraw()\n",
      "File \u001b[0;32m~/opt/anaconda3/envs/astromodeling/lib/python3.9/site-packages/matplotlib/artist.py:95\u001b[0m, in \u001b[0;36m_finalize_rasterization.<locals>.draw_wrapper\u001b[0;34m(artist, renderer, *args, **kwargs)\u001b[0m\n\u001b[1;32m     93\u001b[0m \u001b[38;5;129m@wraps\u001b[39m(draw)\n\u001b[1;32m     94\u001b[0m \u001b[38;5;28;01mdef\u001b[39;00m \u001b[38;5;21mdraw_wrapper\u001b[39m(artist, renderer, \u001b[38;5;241m*\u001b[39margs, \u001b[38;5;241m*\u001b[39m\u001b[38;5;241m*\u001b[39mkwargs):\n\u001b[0;32m---> 95\u001b[0m     result \u001b[38;5;241m=\u001b[39m \u001b[43mdraw\u001b[49m\u001b[43m(\u001b[49m\u001b[43martist\u001b[49m\u001b[43m,\u001b[49m\u001b[43m \u001b[49m\u001b[43mrenderer\u001b[49m\u001b[43m,\u001b[49m\u001b[43m \u001b[49m\u001b[38;5;241;43m*\u001b[39;49m\u001b[43margs\u001b[49m\u001b[43m,\u001b[49m\u001b[43m \u001b[49m\u001b[38;5;241;43m*\u001b[39;49m\u001b[38;5;241;43m*\u001b[39;49m\u001b[43mkwargs\u001b[49m\u001b[43m)\u001b[49m\n\u001b[1;32m     96\u001b[0m     \u001b[38;5;28;01mif\u001b[39;00m renderer\u001b[38;5;241m.\u001b[39m_rasterizing:\n\u001b[1;32m     97\u001b[0m         renderer\u001b[38;5;241m.\u001b[39mstop_rasterizing()\n",
      "File \u001b[0;32m~/opt/anaconda3/envs/astromodeling/lib/python3.9/site-packages/matplotlib/artist.py:72\u001b[0m, in \u001b[0;36mallow_rasterization.<locals>.draw_wrapper\u001b[0;34m(artist, renderer)\u001b[0m\n\u001b[1;32m     69\u001b[0m     \u001b[38;5;28;01mif\u001b[39;00m artist\u001b[38;5;241m.\u001b[39mget_agg_filter() \u001b[38;5;129;01mis\u001b[39;00m \u001b[38;5;129;01mnot\u001b[39;00m \u001b[38;5;28;01mNone\u001b[39;00m:\n\u001b[1;32m     70\u001b[0m         renderer\u001b[38;5;241m.\u001b[39mstart_filter()\n\u001b[0;32m---> 72\u001b[0m     \u001b[38;5;28;01mreturn\u001b[39;00m \u001b[43mdraw\u001b[49m\u001b[43m(\u001b[49m\u001b[43martist\u001b[49m\u001b[43m,\u001b[49m\u001b[43m \u001b[49m\u001b[43mrenderer\u001b[49m\u001b[43m)\u001b[49m\n\u001b[1;32m     73\u001b[0m \u001b[38;5;28;01mfinally\u001b[39;00m:\n\u001b[1;32m     74\u001b[0m     \u001b[38;5;28;01mif\u001b[39;00m artist\u001b[38;5;241m.\u001b[39mget_agg_filter() \u001b[38;5;129;01mis\u001b[39;00m \u001b[38;5;129;01mnot\u001b[39;00m \u001b[38;5;28;01mNone\u001b[39;00m:\n",
      "File \u001b[0;32m~/opt/anaconda3/envs/astromodeling/lib/python3.9/site-packages/matplotlib/figure.py:3140\u001b[0m, in \u001b[0;36mFigure.draw\u001b[0;34m(self, renderer)\u001b[0m\n\u001b[1;32m   3137\u001b[0m         \u001b[38;5;66;03m# ValueError can occur when resizing a window.\u001b[39;00m\n\u001b[1;32m   3139\u001b[0m \u001b[38;5;28mself\u001b[39m\u001b[38;5;241m.\u001b[39mpatch\u001b[38;5;241m.\u001b[39mdraw(renderer)\n\u001b[0;32m-> 3140\u001b[0m \u001b[43mmimage\u001b[49m\u001b[38;5;241;43m.\u001b[39;49m\u001b[43m_draw_list_compositing_images\u001b[49m\u001b[43m(\u001b[49m\n\u001b[1;32m   3141\u001b[0m \u001b[43m    \u001b[49m\u001b[43mrenderer\u001b[49m\u001b[43m,\u001b[49m\u001b[43m \u001b[49m\u001b[38;5;28;43mself\u001b[39;49m\u001b[43m,\u001b[49m\u001b[43m \u001b[49m\u001b[43martists\u001b[49m\u001b[43m,\u001b[49m\u001b[43m \u001b[49m\u001b[38;5;28;43mself\u001b[39;49m\u001b[38;5;241;43m.\u001b[39;49m\u001b[43msuppressComposite\u001b[49m\u001b[43m)\u001b[49m\n\u001b[1;32m   3143\u001b[0m \u001b[38;5;28;01mfor\u001b[39;00m sfig \u001b[38;5;129;01min\u001b[39;00m \u001b[38;5;28mself\u001b[39m\u001b[38;5;241m.\u001b[39msubfigs:\n\u001b[1;32m   3144\u001b[0m     sfig\u001b[38;5;241m.\u001b[39mdraw(renderer)\n",
      "File \u001b[0;32m~/opt/anaconda3/envs/astromodeling/lib/python3.9/site-packages/matplotlib/image.py:131\u001b[0m, in \u001b[0;36m_draw_list_compositing_images\u001b[0;34m(renderer, parent, artists, suppress_composite)\u001b[0m\n\u001b[1;32m    129\u001b[0m \u001b[38;5;28;01mif\u001b[39;00m not_composite \u001b[38;5;129;01mor\u001b[39;00m \u001b[38;5;129;01mnot\u001b[39;00m has_images:\n\u001b[1;32m    130\u001b[0m     \u001b[38;5;28;01mfor\u001b[39;00m a \u001b[38;5;129;01min\u001b[39;00m artists:\n\u001b[0;32m--> 131\u001b[0m         \u001b[43ma\u001b[49m\u001b[38;5;241;43m.\u001b[39;49m\u001b[43mdraw\u001b[49m\u001b[43m(\u001b[49m\u001b[43mrenderer\u001b[49m\u001b[43m)\u001b[49m\n\u001b[1;32m    132\u001b[0m \u001b[38;5;28;01melse\u001b[39;00m:\n\u001b[1;32m    133\u001b[0m     \u001b[38;5;66;03m# Composite any adjacent images together\u001b[39;00m\n\u001b[1;32m    134\u001b[0m     image_group \u001b[38;5;241m=\u001b[39m []\n",
      "File \u001b[0;32m~/opt/anaconda3/envs/astromodeling/lib/python3.9/site-packages/matplotlib/artist.py:72\u001b[0m, in \u001b[0;36mallow_rasterization.<locals>.draw_wrapper\u001b[0;34m(artist, renderer)\u001b[0m\n\u001b[1;32m     69\u001b[0m     \u001b[38;5;28;01mif\u001b[39;00m artist\u001b[38;5;241m.\u001b[39mget_agg_filter() \u001b[38;5;129;01mis\u001b[39;00m \u001b[38;5;129;01mnot\u001b[39;00m \u001b[38;5;28;01mNone\u001b[39;00m:\n\u001b[1;32m     70\u001b[0m         renderer\u001b[38;5;241m.\u001b[39mstart_filter()\n\u001b[0;32m---> 72\u001b[0m     \u001b[38;5;28;01mreturn\u001b[39;00m \u001b[43mdraw\u001b[49m\u001b[43m(\u001b[49m\u001b[43martist\u001b[49m\u001b[43m,\u001b[49m\u001b[43m \u001b[49m\u001b[43mrenderer\u001b[49m\u001b[43m)\u001b[49m\n\u001b[1;32m     73\u001b[0m \u001b[38;5;28;01mfinally\u001b[39;00m:\n\u001b[1;32m     74\u001b[0m     \u001b[38;5;28;01mif\u001b[39;00m artist\u001b[38;5;241m.\u001b[39mget_agg_filter() \u001b[38;5;129;01mis\u001b[39;00m \u001b[38;5;129;01mnot\u001b[39;00m \u001b[38;5;28;01mNone\u001b[39;00m:\n",
      "File \u001b[0;32m~/opt/anaconda3/envs/astromodeling/lib/python3.9/site-packages/matplotlib/axes/_base.py:3028\u001b[0m, in \u001b[0;36m_AxesBase.draw\u001b[0;34m(self, renderer)\u001b[0m\n\u001b[1;32m   3025\u001b[0m     \u001b[38;5;28;01mfor\u001b[39;00m spine \u001b[38;5;129;01min\u001b[39;00m \u001b[38;5;28mself\u001b[39m\u001b[38;5;241m.\u001b[39mspines\u001b[38;5;241m.\u001b[39mvalues():\n\u001b[1;32m   3026\u001b[0m         artists\u001b[38;5;241m.\u001b[39mremove(spine)\n\u001b[0;32m-> 3028\u001b[0m \u001b[38;5;28;43mself\u001b[39;49m\u001b[38;5;241;43m.\u001b[39;49m\u001b[43m_update_title_position\u001b[49m\u001b[43m(\u001b[49m\u001b[43mrenderer\u001b[49m\u001b[43m)\u001b[49m\n\u001b[1;32m   3030\u001b[0m \u001b[38;5;28;01mif\u001b[39;00m \u001b[38;5;129;01mnot\u001b[39;00m \u001b[38;5;28mself\u001b[39m\u001b[38;5;241m.\u001b[39maxison:\n\u001b[1;32m   3031\u001b[0m     \u001b[38;5;28;01mfor\u001b[39;00m _axis \u001b[38;5;129;01min\u001b[39;00m \u001b[38;5;28mself\u001b[39m\u001b[38;5;241m.\u001b[39m_axis_map\u001b[38;5;241m.\u001b[39mvalues():\n",
      "File \u001b[0;32m~/opt/anaconda3/envs/astromodeling/lib/python3.9/site-packages/matplotlib/axes/_base.py:2972\u001b[0m, in \u001b[0;36m_AxesBase._update_title_position\u001b[0;34m(self, renderer)\u001b[0m\n\u001b[1;32m   2970\u001b[0m top \u001b[38;5;241m=\u001b[39m \u001b[38;5;28mmax\u001b[39m(top, bb\u001b[38;5;241m.\u001b[39mymax)\n\u001b[1;32m   2971\u001b[0m \u001b[38;5;28;01mif\u001b[39;00m title\u001b[38;5;241m.\u001b[39mget_text():\n\u001b[0;32m-> 2972\u001b[0m     \u001b[43max\u001b[49m\u001b[38;5;241;43m.\u001b[39;49m\u001b[43myaxis\u001b[49m\u001b[38;5;241;43m.\u001b[39;49m\u001b[43mget_tightbbox\u001b[49m\u001b[43m(\u001b[49m\u001b[43mrenderer\u001b[49m\u001b[43m)\u001b[49m  \u001b[38;5;66;03m# update offsetText\u001b[39;00m\n\u001b[1;32m   2973\u001b[0m     \u001b[38;5;28;01mif\u001b[39;00m ax\u001b[38;5;241m.\u001b[39myaxis\u001b[38;5;241m.\u001b[39moffsetText\u001b[38;5;241m.\u001b[39mget_text():\n\u001b[1;32m   2974\u001b[0m         bb \u001b[38;5;241m=\u001b[39m ax\u001b[38;5;241m.\u001b[39myaxis\u001b[38;5;241m.\u001b[39moffsetText\u001b[38;5;241m.\u001b[39mget_tightbbox(renderer)\n",
      "File \u001b[0;32m~/opt/anaconda3/envs/astromodeling/lib/python3.9/site-packages/matplotlib/axis.py:1323\u001b[0m, in \u001b[0;36mAxis.get_tightbbox\u001b[0;34m(self, renderer, for_layout_only)\u001b[0m\n\u001b[1;32m   1321\u001b[0m \u001b[38;5;28;01mif\u001b[39;00m renderer \u001b[38;5;129;01mis\u001b[39;00m \u001b[38;5;28;01mNone\u001b[39;00m:\n\u001b[1;32m   1322\u001b[0m     renderer \u001b[38;5;241m=\u001b[39m \u001b[38;5;28mself\u001b[39m\u001b[38;5;241m.\u001b[39mfigure\u001b[38;5;241m.\u001b[39m_get_renderer()\n\u001b[0;32m-> 1323\u001b[0m ticks_to_draw \u001b[38;5;241m=\u001b[39m \u001b[38;5;28;43mself\u001b[39;49m\u001b[38;5;241;43m.\u001b[39;49m\u001b[43m_update_ticks\u001b[49m\u001b[43m(\u001b[49m\u001b[43m)\u001b[49m\n\u001b[1;32m   1325\u001b[0m \u001b[38;5;28mself\u001b[39m\u001b[38;5;241m.\u001b[39m_update_label_position(renderer)\n\u001b[1;32m   1327\u001b[0m \u001b[38;5;66;03m# go back to just this axis's tick labels\u001b[39;00m\n",
      "File \u001b[0;32m~/opt/anaconda3/envs/astromodeling/lib/python3.9/site-packages/matplotlib/axis.py:1262\u001b[0m, in \u001b[0;36mAxis._update_ticks\u001b[0;34m(self)\u001b[0m\n\u001b[1;32m   1257\u001b[0m \u001b[38;5;28;01mdef\u001b[39;00m \u001b[38;5;21m_update_ticks\u001b[39m(\u001b[38;5;28mself\u001b[39m):\n\u001b[1;32m   1258\u001b[0m \u001b[38;5;250m    \u001b[39m\u001b[38;5;124;03m\"\"\"\u001b[39;00m\n\u001b[1;32m   1259\u001b[0m \u001b[38;5;124;03m    Update ticks (position and labels) using the current data interval of\u001b[39;00m\n\u001b[1;32m   1260\u001b[0m \u001b[38;5;124;03m    the axes.  Return the list of ticks that will be drawn.\u001b[39;00m\n\u001b[1;32m   1261\u001b[0m \u001b[38;5;124;03m    \"\"\"\u001b[39;00m\n\u001b[0;32m-> 1262\u001b[0m     major_locs \u001b[38;5;241m=\u001b[39m \u001b[38;5;28;43mself\u001b[39;49m\u001b[38;5;241;43m.\u001b[39;49m\u001b[43mget_majorticklocs\u001b[49m\u001b[43m(\u001b[49m\u001b[43m)\u001b[49m\n\u001b[1;32m   1263\u001b[0m     major_labels \u001b[38;5;241m=\u001b[39m \u001b[38;5;28mself\u001b[39m\u001b[38;5;241m.\u001b[39mmajor\u001b[38;5;241m.\u001b[39mformatter\u001b[38;5;241m.\u001b[39mformat_ticks(major_locs)\n\u001b[1;32m   1264\u001b[0m     major_ticks \u001b[38;5;241m=\u001b[39m \u001b[38;5;28mself\u001b[39m\u001b[38;5;241m.\u001b[39mget_major_ticks(\u001b[38;5;28mlen\u001b[39m(major_locs))\n",
      "File \u001b[0;32m~/opt/anaconda3/envs/astromodeling/lib/python3.9/site-packages/matplotlib/axis.py:1484\u001b[0m, in \u001b[0;36mAxis.get_majorticklocs\u001b[0;34m(self)\u001b[0m\n\u001b[1;32m   1482\u001b[0m \u001b[38;5;28;01mdef\u001b[39;00m \u001b[38;5;21mget_majorticklocs\u001b[39m(\u001b[38;5;28mself\u001b[39m):\n\u001b[1;32m   1483\u001b[0m \u001b[38;5;250m    \u001b[39m\u001b[38;5;124;03m\"\"\"Return this Axis' major tick locations in data coordinates.\"\"\"\u001b[39;00m\n\u001b[0;32m-> 1484\u001b[0m     \u001b[38;5;28;01mreturn\u001b[39;00m \u001b[38;5;28;43mself\u001b[39;49m\u001b[38;5;241;43m.\u001b[39;49m\u001b[43mmajor\u001b[49m\u001b[38;5;241;43m.\u001b[39;49m\u001b[43mlocator\u001b[49m\u001b[43m(\u001b[49m\u001b[43m)\u001b[49m\n",
      "File \u001b[0;32m~/opt/anaconda3/envs/astromodeling/lib/python3.9/site-packages/matplotlib/ticker.py:2136\u001b[0m, in \u001b[0;36mMaxNLocator.__call__\u001b[0;34m(self)\u001b[0m\n\u001b[1;32m   2134\u001b[0m \u001b[38;5;28;01mdef\u001b[39;00m \u001b[38;5;21m__call__\u001b[39m(\u001b[38;5;28mself\u001b[39m):\n\u001b[1;32m   2135\u001b[0m     vmin, vmax \u001b[38;5;241m=\u001b[39m \u001b[38;5;28mself\u001b[39m\u001b[38;5;241m.\u001b[39maxis\u001b[38;5;241m.\u001b[39mget_view_interval()\n\u001b[0;32m-> 2136\u001b[0m     \u001b[38;5;28;01mreturn\u001b[39;00m \u001b[38;5;28;43mself\u001b[39;49m\u001b[38;5;241;43m.\u001b[39;49m\u001b[43mtick_values\u001b[49m\u001b[43m(\u001b[49m\u001b[43mvmin\u001b[49m\u001b[43m,\u001b[49m\u001b[43m \u001b[49m\u001b[43mvmax\u001b[49m\u001b[43m)\u001b[49m\n",
      "File \u001b[0;32m~/opt/anaconda3/envs/astromodeling/lib/python3.9/site-packages/matplotlib/ticker.py:2144\u001b[0m, in \u001b[0;36mMaxNLocator.tick_values\u001b[0;34m(self, vmin, vmax)\u001b[0m\n\u001b[1;32m   2141\u001b[0m     vmin \u001b[38;5;241m=\u001b[39m \u001b[38;5;241m-\u001b[39mvmax\n\u001b[1;32m   2142\u001b[0m vmin, vmax \u001b[38;5;241m=\u001b[39m mtransforms\u001b[38;5;241m.\u001b[39mnonsingular(\n\u001b[1;32m   2143\u001b[0m     vmin, vmax, expander\u001b[38;5;241m=\u001b[39m\u001b[38;5;241m1e-13\u001b[39m, tiny\u001b[38;5;241m=\u001b[39m\u001b[38;5;241m1e-14\u001b[39m)\n\u001b[0;32m-> 2144\u001b[0m locs \u001b[38;5;241m=\u001b[39m \u001b[38;5;28;43mself\u001b[39;49m\u001b[38;5;241;43m.\u001b[39;49m\u001b[43m_raw_ticks\u001b[49m\u001b[43m(\u001b[49m\u001b[43mvmin\u001b[49m\u001b[43m,\u001b[49m\u001b[43m \u001b[49m\u001b[43mvmax\u001b[49m\u001b[43m)\u001b[49m\n\u001b[1;32m   2146\u001b[0m prune \u001b[38;5;241m=\u001b[39m \u001b[38;5;28mself\u001b[39m\u001b[38;5;241m.\u001b[39m_prune\n\u001b[1;32m   2147\u001b[0m \u001b[38;5;28;01mif\u001b[39;00m prune \u001b[38;5;241m==\u001b[39m \u001b[38;5;124m'\u001b[39m\u001b[38;5;124mlower\u001b[39m\u001b[38;5;124m'\u001b[39m:\n",
      "File \u001b[0;32m~/opt/anaconda3/envs/astromodeling/lib/python3.9/site-packages/matplotlib/ticker.py:2127\u001b[0m, in \u001b[0;36mMaxNLocator._raw_ticks\u001b[0;34m(self, vmin, vmax)\u001b[0m\n\u001b[1;32m   2125\u001b[0m low \u001b[38;5;241m=\u001b[39m edge\u001b[38;5;241m.\u001b[39mle(_vmin \u001b[38;5;241m-\u001b[39m best_vmin)\n\u001b[1;32m   2126\u001b[0m high \u001b[38;5;241m=\u001b[39m edge\u001b[38;5;241m.\u001b[39mge(_vmax \u001b[38;5;241m-\u001b[39m best_vmin)\n\u001b[0;32m-> 2127\u001b[0m ticks \u001b[38;5;241m=\u001b[39m \u001b[43mnp\u001b[49m\u001b[38;5;241;43m.\u001b[39;49m\u001b[43marange\u001b[49m\u001b[43m(\u001b[49m\u001b[43mlow\u001b[49m\u001b[43m,\u001b[49m\u001b[43m \u001b[49m\u001b[43mhigh\u001b[49m\u001b[43m \u001b[49m\u001b[38;5;241;43m+\u001b[39;49m\u001b[43m \u001b[49m\u001b[38;5;241;43m1\u001b[39;49m\u001b[43m)\u001b[49m \u001b[38;5;241m*\u001b[39m step \u001b[38;5;241m+\u001b[39m best_vmin\n\u001b[1;32m   2128\u001b[0m \u001b[38;5;66;03m# Count only the ticks that will be displayed.\u001b[39;00m\n\u001b[1;32m   2129\u001b[0m nticks \u001b[38;5;241m=\u001b[39m ((ticks \u001b[38;5;241m<\u001b[39m\u001b[38;5;241m=\u001b[39m _vmax) \u001b[38;5;241m&\u001b[39m (ticks \u001b[38;5;241m>\u001b[39m\u001b[38;5;241m=\u001b[39m _vmin))\u001b[38;5;241m.\u001b[39msum()\n",
      "\u001b[0;31mValueError\u001b[0m: arange: cannot compute length"
     ]
    },
    {
     "ename": "ValueError",
     "evalue": "arange: cannot compute length",
     "output_type": "error",
     "traceback": [
      "\u001b[0;31m---------------------------------------------------------------------------\u001b[0m",
      "\u001b[0;31mValueError\u001b[0m                                Traceback (most recent call last)",
      "File \u001b[0;32m~/opt/anaconda3/envs/astromodeling/lib/python3.9/site-packages/IPython/core/formatters.py:340\u001b[0m, in \u001b[0;36mBaseFormatter.__call__\u001b[0;34m(self, obj)\u001b[0m\n\u001b[1;32m    338\u001b[0m     \u001b[38;5;28;01mpass\u001b[39;00m\n\u001b[1;32m    339\u001b[0m \u001b[38;5;28;01melse\u001b[39;00m:\n\u001b[0;32m--> 340\u001b[0m     \u001b[38;5;28;01mreturn\u001b[39;00m \u001b[43mprinter\u001b[49m\u001b[43m(\u001b[49m\u001b[43mobj\u001b[49m\u001b[43m)\u001b[49m\n\u001b[1;32m    341\u001b[0m \u001b[38;5;66;03m# Finally look for special method names\u001b[39;00m\n\u001b[1;32m    342\u001b[0m method \u001b[38;5;241m=\u001b[39m get_real_method(obj, \u001b[38;5;28mself\u001b[39m\u001b[38;5;241m.\u001b[39mprint_method)\n",
      "File \u001b[0;32m~/opt/anaconda3/envs/astromodeling/lib/python3.9/site-packages/IPython/core/pylabtools.py:152\u001b[0m, in \u001b[0;36mprint_figure\u001b[0;34m(fig, fmt, bbox_inches, base64, **kwargs)\u001b[0m\n\u001b[1;32m    149\u001b[0m     \u001b[38;5;28;01mfrom\u001b[39;00m \u001b[38;5;21;01mmatplotlib\u001b[39;00m\u001b[38;5;21;01m.\u001b[39;00m\u001b[38;5;21;01mbackend_bases\u001b[39;00m \u001b[38;5;28;01mimport\u001b[39;00m FigureCanvasBase\n\u001b[1;32m    150\u001b[0m     FigureCanvasBase(fig)\n\u001b[0;32m--> 152\u001b[0m \u001b[43mfig\u001b[49m\u001b[38;5;241;43m.\u001b[39;49m\u001b[43mcanvas\u001b[49m\u001b[38;5;241;43m.\u001b[39;49m\u001b[43mprint_figure\u001b[49m\u001b[43m(\u001b[49m\u001b[43mbytes_io\u001b[49m\u001b[43m,\u001b[49m\u001b[43m \u001b[49m\u001b[38;5;241;43m*\u001b[39;49m\u001b[38;5;241;43m*\u001b[39;49m\u001b[43mkw\u001b[49m\u001b[43m)\u001b[49m\n\u001b[1;32m    153\u001b[0m data \u001b[38;5;241m=\u001b[39m bytes_io\u001b[38;5;241m.\u001b[39mgetvalue()\n\u001b[1;32m    154\u001b[0m \u001b[38;5;28;01mif\u001b[39;00m fmt \u001b[38;5;241m==\u001b[39m \u001b[38;5;124m'\u001b[39m\u001b[38;5;124msvg\u001b[39m\u001b[38;5;124m'\u001b[39m:\n",
      "File \u001b[0;32m~/opt/anaconda3/envs/astromodeling/lib/python3.9/site-packages/matplotlib/backend_bases.py:2342\u001b[0m, in \u001b[0;36mFigureCanvasBase.print_figure\u001b[0;34m(self, filename, dpi, facecolor, edgecolor, orientation, format, bbox_inches, pad_inches, bbox_extra_artists, backend, **kwargs)\u001b[0m\n\u001b[1;32m   2336\u001b[0m     renderer \u001b[38;5;241m=\u001b[39m _get_renderer(\n\u001b[1;32m   2337\u001b[0m         \u001b[38;5;28mself\u001b[39m\u001b[38;5;241m.\u001b[39mfigure,\n\u001b[1;32m   2338\u001b[0m         functools\u001b[38;5;241m.\u001b[39mpartial(\n\u001b[1;32m   2339\u001b[0m             print_method, orientation\u001b[38;5;241m=\u001b[39morientation)\n\u001b[1;32m   2340\u001b[0m     )\n\u001b[1;32m   2341\u001b[0m     \u001b[38;5;28;01mwith\u001b[39;00m \u001b[38;5;28mgetattr\u001b[39m(renderer, \u001b[38;5;124m\"\u001b[39m\u001b[38;5;124m_draw_disabled\u001b[39m\u001b[38;5;124m\"\u001b[39m, nullcontext)():\n\u001b[0;32m-> 2342\u001b[0m         \u001b[38;5;28;43mself\u001b[39;49m\u001b[38;5;241;43m.\u001b[39;49m\u001b[43mfigure\u001b[49m\u001b[38;5;241;43m.\u001b[39;49m\u001b[43mdraw\u001b[49m\u001b[43m(\u001b[49m\u001b[43mrenderer\u001b[49m\u001b[43m)\u001b[49m\n\u001b[1;32m   2344\u001b[0m \u001b[38;5;28;01mif\u001b[39;00m bbox_inches:\n\u001b[1;32m   2345\u001b[0m     \u001b[38;5;28;01mif\u001b[39;00m bbox_inches \u001b[38;5;241m==\u001b[39m \u001b[38;5;124m\"\u001b[39m\u001b[38;5;124mtight\u001b[39m\u001b[38;5;124m\"\u001b[39m:\n",
      "File \u001b[0;32m~/opt/anaconda3/envs/astromodeling/lib/python3.9/site-packages/matplotlib/artist.py:95\u001b[0m, in \u001b[0;36m_finalize_rasterization.<locals>.draw_wrapper\u001b[0;34m(artist, renderer, *args, **kwargs)\u001b[0m\n\u001b[1;32m     93\u001b[0m \u001b[38;5;129m@wraps\u001b[39m(draw)\n\u001b[1;32m     94\u001b[0m \u001b[38;5;28;01mdef\u001b[39;00m \u001b[38;5;21mdraw_wrapper\u001b[39m(artist, renderer, \u001b[38;5;241m*\u001b[39margs, \u001b[38;5;241m*\u001b[39m\u001b[38;5;241m*\u001b[39mkwargs):\n\u001b[0;32m---> 95\u001b[0m     result \u001b[38;5;241m=\u001b[39m \u001b[43mdraw\u001b[49m\u001b[43m(\u001b[49m\u001b[43martist\u001b[49m\u001b[43m,\u001b[49m\u001b[43m \u001b[49m\u001b[43mrenderer\u001b[49m\u001b[43m,\u001b[49m\u001b[43m \u001b[49m\u001b[38;5;241;43m*\u001b[39;49m\u001b[43margs\u001b[49m\u001b[43m,\u001b[49m\u001b[43m \u001b[49m\u001b[38;5;241;43m*\u001b[39;49m\u001b[38;5;241;43m*\u001b[39;49m\u001b[43mkwargs\u001b[49m\u001b[43m)\u001b[49m\n\u001b[1;32m     96\u001b[0m     \u001b[38;5;28;01mif\u001b[39;00m renderer\u001b[38;5;241m.\u001b[39m_rasterizing:\n\u001b[1;32m     97\u001b[0m         renderer\u001b[38;5;241m.\u001b[39mstop_rasterizing()\n",
      "File \u001b[0;32m~/opt/anaconda3/envs/astromodeling/lib/python3.9/site-packages/matplotlib/artist.py:72\u001b[0m, in \u001b[0;36mallow_rasterization.<locals>.draw_wrapper\u001b[0;34m(artist, renderer)\u001b[0m\n\u001b[1;32m     69\u001b[0m     \u001b[38;5;28;01mif\u001b[39;00m artist\u001b[38;5;241m.\u001b[39mget_agg_filter() \u001b[38;5;129;01mis\u001b[39;00m \u001b[38;5;129;01mnot\u001b[39;00m \u001b[38;5;28;01mNone\u001b[39;00m:\n\u001b[1;32m     70\u001b[0m         renderer\u001b[38;5;241m.\u001b[39mstart_filter()\n\u001b[0;32m---> 72\u001b[0m     \u001b[38;5;28;01mreturn\u001b[39;00m \u001b[43mdraw\u001b[49m\u001b[43m(\u001b[49m\u001b[43martist\u001b[49m\u001b[43m,\u001b[49m\u001b[43m \u001b[49m\u001b[43mrenderer\u001b[49m\u001b[43m)\u001b[49m\n\u001b[1;32m     73\u001b[0m \u001b[38;5;28;01mfinally\u001b[39;00m:\n\u001b[1;32m     74\u001b[0m     \u001b[38;5;28;01mif\u001b[39;00m artist\u001b[38;5;241m.\u001b[39mget_agg_filter() \u001b[38;5;129;01mis\u001b[39;00m \u001b[38;5;129;01mnot\u001b[39;00m \u001b[38;5;28;01mNone\u001b[39;00m:\n",
      "File \u001b[0;32m~/opt/anaconda3/envs/astromodeling/lib/python3.9/site-packages/matplotlib/figure.py:3140\u001b[0m, in \u001b[0;36mFigure.draw\u001b[0;34m(self, renderer)\u001b[0m\n\u001b[1;32m   3137\u001b[0m         \u001b[38;5;66;03m# ValueError can occur when resizing a window.\u001b[39;00m\n\u001b[1;32m   3139\u001b[0m \u001b[38;5;28mself\u001b[39m\u001b[38;5;241m.\u001b[39mpatch\u001b[38;5;241m.\u001b[39mdraw(renderer)\n\u001b[0;32m-> 3140\u001b[0m \u001b[43mmimage\u001b[49m\u001b[38;5;241;43m.\u001b[39;49m\u001b[43m_draw_list_compositing_images\u001b[49m\u001b[43m(\u001b[49m\n\u001b[1;32m   3141\u001b[0m \u001b[43m    \u001b[49m\u001b[43mrenderer\u001b[49m\u001b[43m,\u001b[49m\u001b[43m \u001b[49m\u001b[38;5;28;43mself\u001b[39;49m\u001b[43m,\u001b[49m\u001b[43m \u001b[49m\u001b[43martists\u001b[49m\u001b[43m,\u001b[49m\u001b[43m \u001b[49m\u001b[38;5;28;43mself\u001b[39;49m\u001b[38;5;241;43m.\u001b[39;49m\u001b[43msuppressComposite\u001b[49m\u001b[43m)\u001b[49m\n\u001b[1;32m   3143\u001b[0m \u001b[38;5;28;01mfor\u001b[39;00m sfig \u001b[38;5;129;01min\u001b[39;00m \u001b[38;5;28mself\u001b[39m\u001b[38;5;241m.\u001b[39msubfigs:\n\u001b[1;32m   3144\u001b[0m     sfig\u001b[38;5;241m.\u001b[39mdraw(renderer)\n",
      "File \u001b[0;32m~/opt/anaconda3/envs/astromodeling/lib/python3.9/site-packages/matplotlib/image.py:131\u001b[0m, in \u001b[0;36m_draw_list_compositing_images\u001b[0;34m(renderer, parent, artists, suppress_composite)\u001b[0m\n\u001b[1;32m    129\u001b[0m \u001b[38;5;28;01mif\u001b[39;00m not_composite \u001b[38;5;129;01mor\u001b[39;00m \u001b[38;5;129;01mnot\u001b[39;00m has_images:\n\u001b[1;32m    130\u001b[0m     \u001b[38;5;28;01mfor\u001b[39;00m a \u001b[38;5;129;01min\u001b[39;00m artists:\n\u001b[0;32m--> 131\u001b[0m         \u001b[43ma\u001b[49m\u001b[38;5;241;43m.\u001b[39;49m\u001b[43mdraw\u001b[49m\u001b[43m(\u001b[49m\u001b[43mrenderer\u001b[49m\u001b[43m)\u001b[49m\n\u001b[1;32m    132\u001b[0m \u001b[38;5;28;01melse\u001b[39;00m:\n\u001b[1;32m    133\u001b[0m     \u001b[38;5;66;03m# Composite any adjacent images together\u001b[39;00m\n\u001b[1;32m    134\u001b[0m     image_group \u001b[38;5;241m=\u001b[39m []\n",
      "File \u001b[0;32m~/opt/anaconda3/envs/astromodeling/lib/python3.9/site-packages/matplotlib/artist.py:72\u001b[0m, in \u001b[0;36mallow_rasterization.<locals>.draw_wrapper\u001b[0;34m(artist, renderer)\u001b[0m\n\u001b[1;32m     69\u001b[0m     \u001b[38;5;28;01mif\u001b[39;00m artist\u001b[38;5;241m.\u001b[39mget_agg_filter() \u001b[38;5;129;01mis\u001b[39;00m \u001b[38;5;129;01mnot\u001b[39;00m \u001b[38;5;28;01mNone\u001b[39;00m:\n\u001b[1;32m     70\u001b[0m         renderer\u001b[38;5;241m.\u001b[39mstart_filter()\n\u001b[0;32m---> 72\u001b[0m     \u001b[38;5;28;01mreturn\u001b[39;00m \u001b[43mdraw\u001b[49m\u001b[43m(\u001b[49m\u001b[43martist\u001b[49m\u001b[43m,\u001b[49m\u001b[43m \u001b[49m\u001b[43mrenderer\u001b[49m\u001b[43m)\u001b[49m\n\u001b[1;32m     73\u001b[0m \u001b[38;5;28;01mfinally\u001b[39;00m:\n\u001b[1;32m     74\u001b[0m     \u001b[38;5;28;01mif\u001b[39;00m artist\u001b[38;5;241m.\u001b[39mget_agg_filter() \u001b[38;5;129;01mis\u001b[39;00m \u001b[38;5;129;01mnot\u001b[39;00m \u001b[38;5;28;01mNone\u001b[39;00m:\n",
      "File \u001b[0;32m~/opt/anaconda3/envs/astromodeling/lib/python3.9/site-packages/matplotlib/axes/_base.py:3028\u001b[0m, in \u001b[0;36m_AxesBase.draw\u001b[0;34m(self, renderer)\u001b[0m\n\u001b[1;32m   3025\u001b[0m     \u001b[38;5;28;01mfor\u001b[39;00m spine \u001b[38;5;129;01min\u001b[39;00m \u001b[38;5;28mself\u001b[39m\u001b[38;5;241m.\u001b[39mspines\u001b[38;5;241m.\u001b[39mvalues():\n\u001b[1;32m   3026\u001b[0m         artists\u001b[38;5;241m.\u001b[39mremove(spine)\n\u001b[0;32m-> 3028\u001b[0m \u001b[38;5;28;43mself\u001b[39;49m\u001b[38;5;241;43m.\u001b[39;49m\u001b[43m_update_title_position\u001b[49m\u001b[43m(\u001b[49m\u001b[43mrenderer\u001b[49m\u001b[43m)\u001b[49m\n\u001b[1;32m   3030\u001b[0m \u001b[38;5;28;01mif\u001b[39;00m \u001b[38;5;129;01mnot\u001b[39;00m \u001b[38;5;28mself\u001b[39m\u001b[38;5;241m.\u001b[39maxison:\n\u001b[1;32m   3031\u001b[0m     \u001b[38;5;28;01mfor\u001b[39;00m _axis \u001b[38;5;129;01min\u001b[39;00m \u001b[38;5;28mself\u001b[39m\u001b[38;5;241m.\u001b[39m_axis_map\u001b[38;5;241m.\u001b[39mvalues():\n",
      "File \u001b[0;32m~/opt/anaconda3/envs/astromodeling/lib/python3.9/site-packages/matplotlib/axes/_base.py:2972\u001b[0m, in \u001b[0;36m_AxesBase._update_title_position\u001b[0;34m(self, renderer)\u001b[0m\n\u001b[1;32m   2970\u001b[0m top \u001b[38;5;241m=\u001b[39m \u001b[38;5;28mmax\u001b[39m(top, bb\u001b[38;5;241m.\u001b[39mymax)\n\u001b[1;32m   2971\u001b[0m \u001b[38;5;28;01mif\u001b[39;00m title\u001b[38;5;241m.\u001b[39mget_text():\n\u001b[0;32m-> 2972\u001b[0m     \u001b[43max\u001b[49m\u001b[38;5;241;43m.\u001b[39;49m\u001b[43myaxis\u001b[49m\u001b[38;5;241;43m.\u001b[39;49m\u001b[43mget_tightbbox\u001b[49m\u001b[43m(\u001b[49m\u001b[43mrenderer\u001b[49m\u001b[43m)\u001b[49m  \u001b[38;5;66;03m# update offsetText\u001b[39;00m\n\u001b[1;32m   2973\u001b[0m     \u001b[38;5;28;01mif\u001b[39;00m ax\u001b[38;5;241m.\u001b[39myaxis\u001b[38;5;241m.\u001b[39moffsetText\u001b[38;5;241m.\u001b[39mget_text():\n\u001b[1;32m   2974\u001b[0m         bb \u001b[38;5;241m=\u001b[39m ax\u001b[38;5;241m.\u001b[39myaxis\u001b[38;5;241m.\u001b[39moffsetText\u001b[38;5;241m.\u001b[39mget_tightbbox(renderer)\n",
      "File \u001b[0;32m~/opt/anaconda3/envs/astromodeling/lib/python3.9/site-packages/matplotlib/axis.py:1323\u001b[0m, in \u001b[0;36mAxis.get_tightbbox\u001b[0;34m(self, renderer, for_layout_only)\u001b[0m\n\u001b[1;32m   1321\u001b[0m \u001b[38;5;28;01mif\u001b[39;00m renderer \u001b[38;5;129;01mis\u001b[39;00m \u001b[38;5;28;01mNone\u001b[39;00m:\n\u001b[1;32m   1322\u001b[0m     renderer \u001b[38;5;241m=\u001b[39m \u001b[38;5;28mself\u001b[39m\u001b[38;5;241m.\u001b[39mfigure\u001b[38;5;241m.\u001b[39m_get_renderer()\n\u001b[0;32m-> 1323\u001b[0m ticks_to_draw \u001b[38;5;241m=\u001b[39m \u001b[38;5;28;43mself\u001b[39;49m\u001b[38;5;241;43m.\u001b[39;49m\u001b[43m_update_ticks\u001b[49m\u001b[43m(\u001b[49m\u001b[43m)\u001b[49m\n\u001b[1;32m   1325\u001b[0m \u001b[38;5;28mself\u001b[39m\u001b[38;5;241m.\u001b[39m_update_label_position(renderer)\n\u001b[1;32m   1327\u001b[0m \u001b[38;5;66;03m# go back to just this axis's tick labels\u001b[39;00m\n",
      "File \u001b[0;32m~/opt/anaconda3/envs/astromodeling/lib/python3.9/site-packages/matplotlib/axis.py:1262\u001b[0m, in \u001b[0;36mAxis._update_ticks\u001b[0;34m(self)\u001b[0m\n\u001b[1;32m   1257\u001b[0m \u001b[38;5;28;01mdef\u001b[39;00m \u001b[38;5;21m_update_ticks\u001b[39m(\u001b[38;5;28mself\u001b[39m):\n\u001b[1;32m   1258\u001b[0m \u001b[38;5;250m    \u001b[39m\u001b[38;5;124;03m\"\"\"\u001b[39;00m\n\u001b[1;32m   1259\u001b[0m \u001b[38;5;124;03m    Update ticks (position and labels) using the current data interval of\u001b[39;00m\n\u001b[1;32m   1260\u001b[0m \u001b[38;5;124;03m    the axes.  Return the list of ticks that will be drawn.\u001b[39;00m\n\u001b[1;32m   1261\u001b[0m \u001b[38;5;124;03m    \"\"\"\u001b[39;00m\n\u001b[0;32m-> 1262\u001b[0m     major_locs \u001b[38;5;241m=\u001b[39m \u001b[38;5;28;43mself\u001b[39;49m\u001b[38;5;241;43m.\u001b[39;49m\u001b[43mget_majorticklocs\u001b[49m\u001b[43m(\u001b[49m\u001b[43m)\u001b[49m\n\u001b[1;32m   1263\u001b[0m     major_labels \u001b[38;5;241m=\u001b[39m \u001b[38;5;28mself\u001b[39m\u001b[38;5;241m.\u001b[39mmajor\u001b[38;5;241m.\u001b[39mformatter\u001b[38;5;241m.\u001b[39mformat_ticks(major_locs)\n\u001b[1;32m   1264\u001b[0m     major_ticks \u001b[38;5;241m=\u001b[39m \u001b[38;5;28mself\u001b[39m\u001b[38;5;241m.\u001b[39mget_major_ticks(\u001b[38;5;28mlen\u001b[39m(major_locs))\n",
      "File \u001b[0;32m~/opt/anaconda3/envs/astromodeling/lib/python3.9/site-packages/matplotlib/axis.py:1484\u001b[0m, in \u001b[0;36mAxis.get_majorticklocs\u001b[0;34m(self)\u001b[0m\n\u001b[1;32m   1482\u001b[0m \u001b[38;5;28;01mdef\u001b[39;00m \u001b[38;5;21mget_majorticklocs\u001b[39m(\u001b[38;5;28mself\u001b[39m):\n\u001b[1;32m   1483\u001b[0m \u001b[38;5;250m    \u001b[39m\u001b[38;5;124;03m\"\"\"Return this Axis' major tick locations in data coordinates.\"\"\"\u001b[39;00m\n\u001b[0;32m-> 1484\u001b[0m     \u001b[38;5;28;01mreturn\u001b[39;00m \u001b[38;5;28;43mself\u001b[39;49m\u001b[38;5;241;43m.\u001b[39;49m\u001b[43mmajor\u001b[49m\u001b[38;5;241;43m.\u001b[39;49m\u001b[43mlocator\u001b[49m\u001b[43m(\u001b[49m\u001b[43m)\u001b[49m\n",
      "File \u001b[0;32m~/opt/anaconda3/envs/astromodeling/lib/python3.9/site-packages/matplotlib/ticker.py:2136\u001b[0m, in \u001b[0;36mMaxNLocator.__call__\u001b[0;34m(self)\u001b[0m\n\u001b[1;32m   2134\u001b[0m \u001b[38;5;28;01mdef\u001b[39;00m \u001b[38;5;21m__call__\u001b[39m(\u001b[38;5;28mself\u001b[39m):\n\u001b[1;32m   2135\u001b[0m     vmin, vmax \u001b[38;5;241m=\u001b[39m \u001b[38;5;28mself\u001b[39m\u001b[38;5;241m.\u001b[39maxis\u001b[38;5;241m.\u001b[39mget_view_interval()\n\u001b[0;32m-> 2136\u001b[0m     \u001b[38;5;28;01mreturn\u001b[39;00m \u001b[38;5;28;43mself\u001b[39;49m\u001b[38;5;241;43m.\u001b[39;49m\u001b[43mtick_values\u001b[49m\u001b[43m(\u001b[49m\u001b[43mvmin\u001b[49m\u001b[43m,\u001b[49m\u001b[43m \u001b[49m\u001b[43mvmax\u001b[49m\u001b[43m)\u001b[49m\n",
      "File \u001b[0;32m~/opt/anaconda3/envs/astromodeling/lib/python3.9/site-packages/matplotlib/ticker.py:2144\u001b[0m, in \u001b[0;36mMaxNLocator.tick_values\u001b[0;34m(self, vmin, vmax)\u001b[0m\n\u001b[1;32m   2141\u001b[0m     vmin \u001b[38;5;241m=\u001b[39m \u001b[38;5;241m-\u001b[39mvmax\n\u001b[1;32m   2142\u001b[0m vmin, vmax \u001b[38;5;241m=\u001b[39m mtransforms\u001b[38;5;241m.\u001b[39mnonsingular(\n\u001b[1;32m   2143\u001b[0m     vmin, vmax, expander\u001b[38;5;241m=\u001b[39m\u001b[38;5;241m1e-13\u001b[39m, tiny\u001b[38;5;241m=\u001b[39m\u001b[38;5;241m1e-14\u001b[39m)\n\u001b[0;32m-> 2144\u001b[0m locs \u001b[38;5;241m=\u001b[39m \u001b[38;5;28;43mself\u001b[39;49m\u001b[38;5;241;43m.\u001b[39;49m\u001b[43m_raw_ticks\u001b[49m\u001b[43m(\u001b[49m\u001b[43mvmin\u001b[49m\u001b[43m,\u001b[49m\u001b[43m \u001b[49m\u001b[43mvmax\u001b[49m\u001b[43m)\u001b[49m\n\u001b[1;32m   2146\u001b[0m prune \u001b[38;5;241m=\u001b[39m \u001b[38;5;28mself\u001b[39m\u001b[38;5;241m.\u001b[39m_prune\n\u001b[1;32m   2147\u001b[0m \u001b[38;5;28;01mif\u001b[39;00m prune \u001b[38;5;241m==\u001b[39m \u001b[38;5;124m'\u001b[39m\u001b[38;5;124mlower\u001b[39m\u001b[38;5;124m'\u001b[39m:\n",
      "File \u001b[0;32m~/opt/anaconda3/envs/astromodeling/lib/python3.9/site-packages/matplotlib/ticker.py:2127\u001b[0m, in \u001b[0;36mMaxNLocator._raw_ticks\u001b[0;34m(self, vmin, vmax)\u001b[0m\n\u001b[1;32m   2125\u001b[0m low \u001b[38;5;241m=\u001b[39m edge\u001b[38;5;241m.\u001b[39mle(_vmin \u001b[38;5;241m-\u001b[39m best_vmin)\n\u001b[1;32m   2126\u001b[0m high \u001b[38;5;241m=\u001b[39m edge\u001b[38;5;241m.\u001b[39mge(_vmax \u001b[38;5;241m-\u001b[39m best_vmin)\n\u001b[0;32m-> 2127\u001b[0m ticks \u001b[38;5;241m=\u001b[39m \u001b[43mnp\u001b[49m\u001b[38;5;241;43m.\u001b[39;49m\u001b[43marange\u001b[49m\u001b[43m(\u001b[49m\u001b[43mlow\u001b[49m\u001b[43m,\u001b[49m\u001b[43m \u001b[49m\u001b[43mhigh\u001b[49m\u001b[43m \u001b[49m\u001b[38;5;241;43m+\u001b[39;49m\u001b[43m \u001b[49m\u001b[38;5;241;43m1\u001b[39;49m\u001b[43m)\u001b[49m \u001b[38;5;241m*\u001b[39m step \u001b[38;5;241m+\u001b[39m best_vmin\n\u001b[1;32m   2128\u001b[0m \u001b[38;5;66;03m# Count only the ticks that will be displayed.\u001b[39;00m\n\u001b[1;32m   2129\u001b[0m nticks \u001b[38;5;241m=\u001b[39m ((ticks \u001b[38;5;241m<\u001b[39m\u001b[38;5;241m=\u001b[39m _vmax) \u001b[38;5;241m&\u001b[39m (ticks \u001b[38;5;241m>\u001b[39m\u001b[38;5;241m=\u001b[39m _vmin))\u001b[38;5;241m.\u001b[39msum()\n",
      "\u001b[0;31mValueError\u001b[0m: arange: cannot compute length"
     ]
    },
    {
     "data": {
      "text/plain": [
       "<Figure size 640x480 with 1 Axes>"
      ]
     },
     "metadata": {},
     "output_type": "display_data"
    }
   ],
   "source": [
    "plt.plot(DtoDF, presentFFdepth, c='blue', label='Final FF Depth')\n",
    "plt.plot(DtoDF, presentPFdepth, c='red', label='Final PF Depth')\n",
    "plt.xlabel('Distance to delta front [m]')\n",
    "plt.ylabel('Depth [m]')\n",
    "plt.title('Permafrost and freezing front depths')\n",
    "plt.gca().invert_yaxis()\n",
    "plt.legend(loc='upper right')"
   ]
  },
  {
   "cell_type": "markdown",
   "id": "9dcbc894",
   "metadata": {},
   "source": [
    "## Final Aggradation Rate and Recharge Equivalent"
   ]
  },
  {
   "cell_type": "code",
   "execution_count": null,
   "id": "43d16fd0",
   "metadata": {},
   "outputs": [],
   "source": [
    "plt.plot(DtoDF[2:], presentAggrRate[2:], c='blue')\n",
    "plt.xlabel('Distance to delta front [m]')\n",
    "plt.ylabel('Rate [m/yr]')\n",
    "plt.title('Aggradation rate and recharge equivalent')"
   ]
  },
  {
   "cell_type": "code",
   "execution_count": null,
   "id": "1c8bcf30",
   "metadata": {},
   "outputs": [],
   "source": [
    "# next steps: add in temp-dependent material properties? play with diff layers? Investigate FF and PF depths "
   ]
  },
  {
   "cell_type": "markdown",
   "id": "3f4d63ee",
   "metadata": {},
   "source": [
    "## Plotting Final Effective Material Properties "
   ]
  },
  {
   "cell_type": "code",
   "execution_count": null,
   "id": "2c5c0984",
   "metadata": {},
   "outputs": [],
   "source": [
    "print(a_eq_0_1)"
   ]
  },
  {
   "cell_type": "code",
   "execution_count": null,
   "id": "6cf9750a",
   "metadata": {},
   "outputs": [],
   "source": [
    "print(C_eq_0_1)"
   ]
  },
  {
   "cell_type": "code",
   "execution_count": null,
   "id": "75508c89",
   "metadata": {},
   "outputs": [],
   "source": [
    "### Fig - Final effective material property distrubutions\n",
    "#plotting curves for initial and final effective thermal diffusivity distributions\n",
    "\n",
    "plt.figure()\n",
    "#plt.xlim([100,400])\n",
    "plt.plot(a_eq_0_1, z, linestyle='dashed',color='darkmagenta', label='Final, zone 1')\n",
    "#plt.plot(a_eq_1_2, z, color='dodgerblue', label='Final, zone 2')\n",
    "plt.gca().invert_yaxis()\n",
    "plt.xlabel('Thermal Diffusivity [m^2/s]')\n",
    "plt.ylabel('Depth [m]')\n",
    "plt.title('Zone 1: Effective Thermal Diffusivity vs. Depth, Runtime = %r yr' %(runtime))\n",
    "plt.legend(bbox_to_anchor=(1.05, 1), loc='upper left', borderaxespad=0)\n"
   ]
  },
  {
   "cell_type": "code",
   "execution_count": null,
   "id": "5b2db4da",
   "metadata": {},
   "outputs": [],
   "source": [
    "### Fig - Final effective material property distrubutions\n",
    "#plotting curves for initial and final effective heat capacity distributions\n",
    "\n",
    "plt.figure()\n",
    "#plt.xlim([100,400])\n",
    "plt.plot(C_eq_0_1/1e6, z, linestyle='dashed',color='darkmagenta', label='Final, zone 1')\n",
    "plt.plot(C_eq_1_2/1e6, z, color='dodgerblue', label='Final, zone 2')\n",
    "plt.gca().invert_yaxis()\n",
    "plt.xlabel('Heat Capacity [MJ/K]')\n",
    "plt.ylabel('Depth [m]')\n",
    "plt.title('Zone 1: Effective Heat Capacity vs. Depth, Runtime = %r yr' %(runtime))\n",
    "plt.legend(bbox_to_anchor=(1.05, 1), loc='upper left', borderaxespad=0)\n"
   ]
  },
  {
   "cell_type": "code",
   "execution_count": null,
   "id": "2e265999",
   "metadata": {},
   "outputs": [],
   "source": [
    "np.shape(a_eq_0_1)"
   ]
  },
  {
   "cell_type": "code",
   "execution_count": null,
   "id": "ac907034",
   "metadata": {},
   "outputs": [],
   "source": []
  }
 ],
 "metadata": {
  "kernelspec": {
   "display_name": "Python 3 (ipykernel)",
   "language": "python",
   "name": "python3"
  },
  "language_info": {
   "codemirror_mode": {
    "name": "ipython",
    "version": 3
   },
   "file_extension": ".py",
   "mimetype": "text/x-python",
   "name": "python",
   "nbconvert_exporter": "python",
   "pygments_lexer": "ipython3",
   "version": "3.9.15"
  }
 },
 "nbformat": 4,
 "nbformat_minor": 5
}
