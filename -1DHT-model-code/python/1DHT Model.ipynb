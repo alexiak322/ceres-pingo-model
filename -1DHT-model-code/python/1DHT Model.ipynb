{
 "cells": [
  {
   "cell_type": "markdown",
   "id": "93852fb1-0d56-45cd-aa0b-ded85986970e",
   "metadata": {},
   "source": [
    "## Adapting the 1DHT model from Hornum et al. (2020) from MATLAB to Python and changing material properties to fit Ceres."
   ]
  },
  {
   "cell_type": "code",
   "execution_count": 1,
   "id": "0aebd6c0",
   "metadata": {},
   "outputs": [],
   "source": [
    "import numpy as np\n",
    "from scipy.interpolate import interp1d\n",
    "import pandas as pd\n",
    "import matplotlib\n",
    "import matplotlib.pyplot as plt\n",
    "import time\n",
    "from line_profiler import LineProfiler"
   ]
  },
  {
   "cell_type": "markdown",
   "id": "5966d2fa-cb5b-47d9-b94a-1fe0b3fcea68",
   "metadata": {},
   "source": [
    "### Constants and Material Properties"
   ]
  },
  {
   "cell_type": "code",
   "execution_count": 2,
   "id": "525aafba",
   "metadata": {},
   "outputs": [],
   "source": [
    "toyr =60*60*24*365     # to year from s\n",
    "\n",
    "            # Thermal properties of water and ice (from Williams and Smith, 1989) %%%\n",
    "            \n",
    "p_w = 1000             # density [kg/m3]\n",
    "cp_w = 4180            # specific heat capacity [J/(kg*K)]\n",
    "k_w = 0.56*toyr # thermal conductivity [(J/yr)/(m K)]\n",
    "## NOTE TO MYSELF BC THIS HAS ALWAYS CONFUSED ME: normally, k is in units of W/mK (i.e., J/smK)\n",
    "## by multipling by the number of seconds in a year, the units get turned to J/(yr m K), so that one we multiply by our timestep\n",
    "## (1/20 yr), units cancel nicely to J/mK\n",
    "\n",
    "p_ice = 917\n",
    "cp_ice = 2100\n",
    "k_ice = 2.24*toyr\n",
    "L=333.6*1000           # Latent heat of fusion [J/kg]\n",
    "\n",
    "#Julie paper\n",
    "\n",
    "#silicate rock\n",
    "p_rock = 2430\n",
    "cp_rock = 2000\n",
    "k_rock = 2 * toyr\n",
    "\n",
    "#hydrated salt — not using this bc salt is being represented thru SFC Hydrohalite Schofield et al. 2014\n",
    "p_salt = 2200\n",
    "cp_salt = 920\n",
    "k_salt = 0.6 * toyr\n",
    "\n",
    "#p_boulder = (0.56*p_hyd)+(0.25*p_rock)+(0.19*p_salt)\n",
    "#cp_boulder = (0.56*cp_hyd)+(0.25*cp_rock)+(0.19*cp_salt)\n",
    "#k_boulder = (0.56*k_hyd)+(0.25*k_rock)+(0.19*k_salt)\n",
    "\n",
    "\n",
    "            ## Porosity and thermal properties of CERES materials ##\n",
    "            \n",
    "n_Sc=1                 # Porosity scenario is chosen here: 1=minimum n, 2=intermediate n, 3=maximum n\n",
    "nLob=[0.33, 0.45, 0.55, 0.66]    ## [min interm. max] Lobate (thermal model; 6B) ##\n",
    "nIce = [0, 0.2, 0.4] # Lee et al. 2005\n",
    "\n",
    "\n",
    "                    ### Material 1 - Lobate\n",
    "#matrix material: clay (silicate ONLY)\n",
    "nL = nLob[n_Sc]   \n",
    "nI = nIce[n_Sc]\n",
    "p_soilL = p_rock       ## DENSITY (thermal model; 2B)             \n",
    "cp_soilL = cp_rock       ## HEAT CAPACITY; GRAB FROM JULIE'S DATABASE (this is going to be tricky with temperature dependence)    \n",
    "k_soilL = k_rock   ## THERMAL CONDUCTIVITY; GRAB FROM JULIE'S DATABASE (40% ice, 25% hydrates)       \n",
    "aQ=k_soilL/(p_soilL*cp_soilL) #THERMAL DIFFUSIVITY [m^2/yr]\n",
    "\n",
    "\n",
    "            ### Model parameters ###\n",
    "tstep=0.05         # time step [yr] this is the minimum time step with our material properties\n",
    "ts_1yr=1/tstep     # number of time steps in a year; 20\n",
    "dz=2               # cell size [m]\n",
    "grid_depth=600     ## grid depth, GRID SPANS 600m (depth of lobate flow) (domain constraints; 5B)\n",
    "z=np.arange(0,grid_depth+dz,dz) # cell nodes, 0,2,4,6 M ETC.\n",
    "nocell=len(z)    # number of cells\n",
    "w = 0.957725 #Hornum SFC constant\n",
    "#print(nocell)"
   ]
  },
  {
   "cell_type": "markdown",
   "id": "ba440108-fb04-4527-ae40-fa2213807d87",
   "metadata": {},
   "source": [
    "### Initial Temperature Profile"
   ]
  },
  {
   "cell_type": "code",
   "execution_count": 3,
   "id": "a6c1029d",
   "metadata": {
    "scrolled": true
   },
   "outputs": [
    {
     "name": "stdout",
     "output_type": "stream",
     "text": [
      "[273.15 273.15 273.15 273.15 273.15 273.15 273.15 273.15 273.15 273.15\n",
      " 273.15 273.15 273.15 273.15 273.15 273.15 273.15 273.15 273.15 273.15\n",
      " 273.15 273.15 273.15 273.15 273.15 273.15 273.15 273.15 273.15 273.15\n",
      " 273.15 273.15 273.15 273.15 273.15 273.15 273.15 273.15 273.15 273.15\n",
      " 273.15 273.15 273.15 273.15 273.15 273.15 273.15 273.15 273.15 273.15\n",
      " 273.15 273.15 273.15 273.15 273.15 273.15 273.15 273.15 273.15 273.15\n",
      " 273.15 273.15 273.15 273.15 273.15 273.15 273.15 273.15 273.15 273.15\n",
      " 273.15 273.15 273.15 273.15 273.15 273.15 273.15 273.15 273.15 273.15\n",
      " 273.15 273.15 273.15 273.15 273.15 273.15 273.15 273.15 273.15 273.15\n",
      " 273.15 273.15 273.15 273.15 273.15 273.15 273.15 273.15 273.15 273.15\n",
      " 273.15 273.15 273.15 273.15 273.15 273.15 273.15 273.15 273.15 273.15\n",
      " 273.15 273.15 273.15 273.15 273.15 273.15 273.15 273.15 273.15 273.15\n",
      " 273.15 273.15 273.15 273.15 273.15 273.15 273.15 273.15 273.15 273.15\n",
      " 273.15 273.15 273.15 273.15 273.15 273.15 273.15 273.15 273.15 273.15\n",
      " 273.15 273.15 273.15 273.15 273.15 273.15 273.15 273.15 273.15 273.15\n",
      " 273.15 273.15 273.15 273.15 273.15 273.15 273.15 273.15 273.15 273.15\n",
      " 273.15 273.15 273.15 273.15 273.15 273.15 273.15 273.15 273.15 273.15\n",
      " 273.15 273.15 273.15 273.15 273.15 273.15 273.15 273.15 273.15 273.15\n",
      " 273.15 273.15 273.15 273.15 273.15 273.15 273.15 273.15 273.15 273.15\n",
      " 273.15 273.15 273.15 273.15 273.15 273.15 273.15 273.15 273.15 273.15\n",
      " 273.15 273.15 273.15 273.15 273.15 273.15 273.15 273.15 273.15 273.15\n",
      " 273.15 273.15 273.15 273.15 273.15 273.15 273.15 273.15 273.15 273.15\n",
      " 273.15 273.15 273.15 273.15 273.15 273.15 273.15 273.15 273.15 273.15\n",
      " 273.15 273.15 273.15 273.15 273.15 273.15 273.15 273.15 273.15 273.15\n",
      " 273.15 273.15 273.15 273.15 273.15 273.15 273.15 273.15 273.15 273.15\n",
      " 273.15 273.15 273.15 273.15 273.15 273.15 273.15 273.15 273.15 273.15\n",
      " 273.15 273.15 273.15 273.15 273.15 273.15 273.15 273.15 273.15 273.15\n",
      " 273.15 273.15 273.15 273.15 273.15 273.15 273.15 273.15 273.15 273.15\n",
      " 273.15 273.15 273.15 273.15 273.15 273.15 273.15 273.15 273.15 273.15\n",
      " 273.15 273.15 273.15 273.15 273.15 273.15 273.15 273.15 273.15 273.15\n",
      " 273.15]\n"
     ]
    }
   ],
   "source": [
    "#Kv= -273.15              # set to -273.15 if in Kelvin. 0 if in C\n",
    "T_gradient=0.00273    ## Thermal gradient [K/m] (Raymond et al. 2020) (thermal model; 7B)\n",
    "#T_0=273           # Initial surface temperature - NOT USED if temperature reconstruction is defined\n",
    "#T_end=350 # Initial temperature at bottom of grid - NOT USED in for loop (estimate from Bowling)\n",
    "T_ini=np.zeros(nocell) # Initial temperature distribution, gives every cell node a temperature\n",
    "for i in range(nocell):\n",
    "    #if 0 <= i < 2:\n",
    "    #    T_ini[i] = 150.00\n",
    "    #elif 2 <= i < (nocell-1)/2:\n",
    "    #    T_ini[i] = T_ini[i-1] + 0.821 #K/m\n",
    "    #elif i == (nocell-1)/2:\n",
    "    #    T_ini[i] = 273.15\n",
    "    #elif i > (nocell-1)/2:\n",
    "    #    T_ini[i] = T_ini[i-1] - 0.821\n",
    "    #elif i == grid_depth-1:\n",
    "    #    T_ini[i] = 150.00\n",
    "    #else:\n",
    "    #    T_ini_1[i] = 300.00\n",
    "    T_ini[i] = 273.15\n",
    "\n",
    "#T_ini = [round(item, 3) for item in T_ini_1] #rounding all floats to the nearest hundredth to match with interpolated SFC\n",
    "print(T_ini)"
   ]
  },
  {
   "cell_type": "markdown",
   "id": "f2e7db7e-299e-4ddd-b814-bbdf8f07045f",
   "metadata": {},
   "source": [
    "### Ceres temperature reconstruction—for top temperature boundary condition"
   ]
  },
  {
   "cell_type": "code",
   "execution_count": 18,
   "id": "e7e2af4f",
   "metadata": {},
   "outputs": [],
   "source": [
    "# Ceres temperature reconstruction (just a .txt file) with 100k rows each with a temp of 150 K\n",
    "# Load the data from the text file\n",
    "TCurve_data = pd.read_csv('cerestempcurve.txt', header=None)\n",
    "\n",
    "T_ann10 = TCurve_data[1] #temperatures, dep variable\n",
    "tt_yr = TCurve_data[0] #years, indep variable\n",
    "\n",
    "ttt = np.arange(0, 100000+tstep, tstep) #do this for maximum runtime, can filter down later\n",
    "interp_function = interp1d(tt_yr, T_ann10, kind='linear', fill_value='extrapolate')\n",
    "\n",
    "T_ann10q = interp_function(ttt) #interpolating the surface temperature so there is one for every time step\n",
    "#print(T_ann10q)"
   ]
  },
  {
   "cell_type": "markdown",
   "id": "92897358-df3a-4b6e-ae5b-e535c802dc83",
   "metadata": {},
   "source": [
    "### Defining functions for fw and dfw for different SFCs"
   ]
  },
  {
   "cell_type": "code",
   "execution_count": 189,
   "id": "2440e5ce-10f7-4118-8112-c6c805621ddc",
   "metadata": {},
   "outputs": [],
   "source": [
    "# Use these functions for SFC equation from Sizemore et al. (2015)\n",
    "T_f = 0.05102\n",
    "beta = 0.254\n",
    "\n",
    "def calculate_fw_Siz(T, T_f, beta):\n",
    "    if T >= 273.15-T_f:\n",
    "        return 1.0  # Water is fully liquid\n",
    "    #elif 265 <= T < 273.15-T_f:\n",
    "    #    return (T_f / (273.15 - T)) ** beta\n",
    "    #elif 240 <= T < 265:\n",
    "    #    return (0.011024*T) - 2.64576\n",
    "    #elif T < 240:\n",
    "     #   return 0.0 #Water is fully frozen\n",
    "    elif T < 273.15-T_f:\n",
    "        return (T_f / (273.15 - T)) ** beta\n",
    "        \n",
    "\n",
    "def calculate_dfw_Siz(T, T_f, beta):\n",
    "    if T >= 273.15-T_f:\n",
    "        return 0.0  # No change in liquid water fraction above melting point\n",
    "    #elif 265 <= T < 273.15-T_f:\n",
    "    #    return (beta * T_f**beta) / ((273.15 - T) ** (beta + 1))\n",
    "    #elif 240 <= T < 265:     \n",
    "    #    return 0.011024\n",
    "    #elif T < 240:\n",
    "    #    return 0.0 #Water is fully frozen\n",
    "    elif T < 273.15-T_f:\n",
    "        return (beta * T_f**beta) / ((273.15 - T) ** (beta + 1))"
   ]
  },
  {
   "cell_type": "code",
   "execution_count": 190,
   "id": "c59269df-e7cd-4ef3-8be4-beb3fe7a4a25",
   "metadata": {},
   "outputs": [],
   "source": [
    "# Use these functions for SFC equation from Hesse & Castillo (2018)\n",
    "def calculate_fw_HC(T):\n",
    "    if T >= 273.15:\n",
    "        return 1.0  # Water is fully liquid\n",
    "    elif 245 <= T < 273.15:\n",
    "        return (1/28.15)*(T-245)\n",
    "    elif T < 245:\n",
    "        return 0.0 #Water is fully frozen\n",
    "        \n",
    "\n",
    "def calculate_dfw_HC(T):\n",
    "    if T >= 273.15:\n",
    "        return 0.0  # No change in liquid water fraction above melting point\n",
    "    elif 245 <= T < 273.15:\n",
    "        return (1/28.15)\n",
    "    elif T < 245:\n",
    "        return 0.0 #Water is fully frozen"
   ]
  },
  {
   "cell_type": "code",
   "execution_count": 192,
   "id": "c6e7b88e-3c2d-4100-a30f-279a48019c57",
   "metadata": {},
   "outputs": [
    {
     "data": {
      "text/plain": [
       "(200.0, 275.0)"
      ]
     },
     "execution_count": 192,
     "metadata": {},
     "output_type": "execute_result"
    },
    {
     "data": {
      "image/png": "[encoded data removed]",
      "text/plain": [
       "<Figure size 640x480 with 1 Axes>"
      ]
     },
     "metadata": {},
     "output_type": "display_data"
    }
   ],
   "source": [
    "test_temps = np.arange(100,300,1)\n",
    "plt.plot(test_temps, np.exp(-((test_temps-273.15)/w)**2), c='blue', label=\"Hornum SFC\")\n",
    "\n",
    "plt.plot(test_temps[0:141], np.zeros(len(test_temps[0:141])), c='red', label='Sizemore SFC')\n",
    "plt.plot(test_temps[141:166], (0.011024*test_temps[141:166]) - 2.64576, c='red', label='Sizemore SFC')\n",
    "plt.plot(test_temps[166:174], (T_f / (273.15 - test_temps[166:174])) ** beta, c='red', label='Sizemore SFC')\n",
    "plt.plot(test_temps[174:], np.ones(len(test_temps[174:])), c='red', label='Sizemore SFC')\n",
    "\n",
    "plt.plot(test_temps[0:146], np.zeros(len(test_temps[0:146])), c='green', label='Julie SFC')\n",
    "plt.plot(test_temps[146:174], (1/28.15)*(test_temps[146:174]-245), c='green', label='Julie SFC')\n",
    "plt.plot(test_temps[174:], np.ones(len(test_temps[174:])), c='green', label='Julie SFC')\n",
    "\n",
    "plt.xlabel('Temperature [K]')\n",
    "plt.ylabel('Water Fraction')\n",
    "plt.legend()\n",
    "plt.xlim(200,275)"
   ]
  },
  {
   "cell_type": "markdown",
   "id": "b41a33a1-4d7e-4f3d-8ce9-6a7cd7c7fcfe",
   "metadata": {},
   "source": [
    "### Assigning material IDs to different columns and defining runtime"
   ]
  },
  {
   "cell_type": "code",
   "execution_count": 193,
   "id": "20941230",
   "metadata": {},
   "outputs": [],
   "source": [
    "# 1=Lobate 2=Boulders 3=Ice\n",
    "onegrid=np.ones(nocell) # 1 x 301 matrix\n",
    "\n",
    "                # Material IDs ZONEs\n",
    "Z0_1MatID=np.ones(nocell)\n",
    "#Z0_1MatID[0]=3\n",
    "#Z0_1MatID[1]=3\n",
    "#Z0_1MatID[291:]=2 #boulders (bottom 20m)\n",
    "\n",
    "Z1_2MatID=np.ones(nocell)\n",
    "#Z1_2MatID[0]=3\n",
    "#Z1_2MatID[1]=3\n",
    "#Z1_2MatID[251:]=2 #boulders (bottom 100m)\n",
    "\n",
    "            ### Creating one-vectors and empty matrices used in for-loop ###\n",
    "n_grid=np.zeros(nocell) # all of these have nocell elements -> all material properties define at nodes (1 x nocell matrix)\n",
    "p_soil=np.zeros(nocell)\n",
    "cp_soil=np.zeros(nocell)\n",
    "k_soil=np.zeros(nocell)\n",
    "\n",
    "df_w=np.zeros(nocell) ## CHANGE IN fraction of water in pore space\n",
    "k_eq=np.zeros(nocell-1) ## EQUIVALENT THERMAL CONDUCTIVITY\n",
    "C_eq=np.zeros(nocell)   ## EQUIVALENT HEAT CAPACITY\n",
    "a_eq=np.zeros(nocell)   ## EQUIVALENT THERMAL DIFFUSIVITY\n",
    "\n",
    "runtime = 500\n",
    "\n",
    "T_matx_0_1=np.zeros((nocell,runtime)) ### CREATING EMPTY TEMP MATRICES FOR EACH ZONE'S RUN TIME (100000 yr)\n",
    "T_matx_0_1[:,0] = np.copy(T_ini)                                    ### add more as needed\n",
    "T_matx_1_2=np.zeros((nocell,runtime))\n",
    "T_matx_1_2[:,0] = np.copy(T_ini)"
   ]
  },
  {
   "cell_type": "markdown",
   "id": "082e066f-2e3f-4f26-9a97-4e2a6565caac",
   "metadata": {},
   "source": [
    "### Initializing fraction arrays using desired SFC"
   ]
  },
  {
   "cell_type": "code",
   "execution_count": 194,
   "id": "03e8d25e",
   "metadata": {},
   "outputs": [
    {
     "name": "stdout",
     "output_type": "stream",
     "text": [
      "[1. 1. 1. 1. 1. 1. 1. 1. 1. 1. 1. 1. 1. 1. 1. 1. 1. 1. 1. 1. 1. 1. 1. 1.\n",
      " 1. 1. 1. 1. 1. 1. 1. 1. 1. 1. 1. 1. 1. 1. 1. 1. 1. 1. 1. 1. 1. 1. 1. 1.\n",
      " 1. 1. 1. 1. 1. 1. 1. 1. 1. 1. 1. 1. 1. 1. 1. 1. 1. 1. 1. 1. 1. 1. 1. 1.\n",
      " 1. 1. 1. 1. 1. 1. 1. 1. 1. 1. 1. 1. 1. 1. 1. 1. 1. 1. 1. 1. 1. 1. 1. 1.\n",
      " 1. 1. 1. 1. 1. 1. 1. 1. 1. 1. 1. 1. 1. 1. 1. 1. 1. 1. 1. 1. 1. 1. 1. 1.\n",
      " 1. 1. 1. 1. 1. 1. 1. 1. 1. 1. 1. 1. 1. 1. 1. 1. 1. 1. 1. 1. 1. 1. 1. 1.\n",
      " 1. 1. 1. 1. 1. 1. 1. 1. 1. 1. 1. 1. 1. 1. 1. 1. 1. 1. 1. 1. 1. 1. 1. 1.\n",
      " 1. 1. 1. 1. 1. 1. 1. 1. 1. 1. 1. 1. 1. 1. 1. 1. 1. 1. 1. 1. 1. 1. 1. 1.\n",
      " 1. 1. 1. 1. 1. 1. 1. 1. 1. 1. 1. 1. 1. 1. 1. 1. 1. 1. 1. 1. 1. 1. 1. 1.\n",
      " 1. 1. 1. 1. 1. 1. 1. 1. 1. 1. 1. 1. 1. 1. 1. 1. 1. 1. 1. 1. 1. 1. 1. 1.\n",
      " 1. 1. 1. 1. 1. 1. 1. 1. 1. 1. 1. 1. 1. 1. 1. 1. 1. 1. 1. 1. 1. 1. 1. 1.\n",
      " 1. 1. 1. 1. 1. 1. 1. 1. 1. 1. 1. 1. 1. 1. 1. 1. 1. 1. 1. 1. 1. 1. 1. 1.\n",
      " 1. 1. 1. 1. 1. 1. 1. 1. 1. 1. 1. 1. 1.]\n"
     ]
    }
   ],
   "source": [
    "# First, initialize the fraction arrays\n",
    "F_w = np.zeros(nocell)\n",
    "F_ice = np.zeros(nocell)\n",
    "f_w = np.zeros(nocell)\n",
    "f_ice = np.zeros(nocell)\n",
    "F_soil = np.zeros(nocell)\n",
    "\n",
    "for i in range(nocell): #len(T_ini) = nocell\n",
    "    if T_ini[i] >= 273.15:\n",
    "        f_w[i] = 1\n",
    "    else:\n",
    "        f_w[i] = calculate_fw_HC(T_ini[i]) #Hesse & Castillo (2018)\n",
    "        #f_w[i] = calculate_fw_Siz(T_ini[i], T_f, beta) #Sizemore et al. (2015)\n",
    "        #f_w[i] = np.exp(-((T_ini[i]-273.15)/w)**2) #Hornum SFC\n",
    "\n",
    "#using f_w values, assign initial values of other fraction arrays\n",
    "for i in range(nocell):\n",
    "    f_ice[i] = 1 - f_w[i]\n",
    "    F_soil[i] = 1 - nL\n",
    "    F_w[i] = f_w[i] * nL\n",
    "    F_ice[i] = f_ice[i] * nL\n",
    "    \n",
    "\n",
    "#column-specific ice fraction arrays\n",
    "f_matx_0_1=np.zeros((nocell,runtime))\n",
    "f_matx_0_1[:,0] = np.copy(f_w)\n",
    "f_matx_1_2=np.zeros((nocell,runtime))\n",
    "f_matx_1_2[:,0] = np.copy(f_w)\n",
    "\n",
    "print(f_w)"
   ]
  },
  {
   "cell_type": "markdown",
   "id": "1d3d4518-a124-46cb-bb3c-8ad29f6729ac",
   "metadata": {},
   "source": [
    "### The numerical model. Code for column 2 is commented out."
   ]
  },
  {
   "cell_type": "code",
   "execution_count": 195,
   "id": "b92d2769",
   "metadata": {
    "scrolled": true
   },
   "outputs": [],
   "source": [
    "### Numerical Model ###\n",
    "from line_profiler import LineProfiler\n",
    "\n",
    "# Create a LineProfiler object\n",
    "profiler = LineProfiler()\n",
    "@profiler\n",
    "def model_run():\n",
    "    start_time = time.time()\n",
    "\n",
    "    col_incl=[1]       ### Specify which of the 12 columns (zones) to include in the ground temperature simulation (e.g. [1:12] (all), [4] (only one), [1 5 11] (several specific ones).\n",
    "    for col in col_incl:\n",
    "        if col==1:            ### Defining the column in use\n",
    "            runtime=500      # Simulation runtime\n",
    "            materialid=np.copy(Z0_1MatID)\n",
    "        elif col==2:            ### Defining the column in use\n",
    "            runtime=500      # Simulation runtime\n",
    "            materialid=np.copy(Z1_2MatID)\n",
    "\n",
    "        material_properties = {1: (nL, p_soilL, cp_soilL, k_soilL),\\\n",
    "                               2: (nL, p_rock, cp_rock, k_rock),\\\n",
    "                               3: (nI, p_ice, cp_ice, k_ice)}\n",
    "\n",
    "        for ii in range(nocell):\n",
    "            if materialid[ii] in material_properties:\n",
    "                n_grid[ii], p_soil[ii], cp_soil[ii], k_soil[ii] = material_properties[materialid[ii]]\n",
    "            else:\n",
    "                print('error')\n",
    "\n",
    "        no_tstep = int(runtime / tstep)  # Total number of time steps, DIFFERENT FOR EACH ZONE\n",
    "\n",
    "        T_11 = np.copy(T_ann10q[:no_tstep + 1])  # Cutting temperature curve to simulation period\n",
    "        #T_1 = np.flip(T_11)  # New T_1\n",
    "\n",
    "        ### stability criterion ###\n",
    "        # calculates the effective thermal diffusivity of the soil and ice material\n",
    "        # if stability < 0.5, model will proceed\n",
    "        k_s_ice = ((n_grid * np.sqrt(k_ice)) + ((1-n_grid) * np.sqrt(k_soil))) ** 2\n",
    "        C_s_ice = (n_grid * p_ice * cp_ice) + ((1 - n_grid) * p_soil * cp_soil)\n",
    "        a_s_ice = k_s_ice / C_s_ice\n",
    "        stability = (np.max(a_s_ice) * tstep / dz**2)\n",
    "\n",
    "        #temperature array used in numerical model\n",
    "        T = np.zeros((nocell, no_tstep))\n",
    "        T[:, 0] = np.copy(T_ini)\n",
    "\n",
    "        ### heat transfer loop starts\n",
    "        if col==1:\n",
    "            xT_ini = np.copy(T_ini)\n",
    "            k = 0 #time step count\n",
    "            l = 0 #year count\n",
    "            for t in range(no_tstep):\n",
    "                if stability > 0.5:\n",
    "                    print('stability is:', stability)\n",
    "                    break\n",
    "                k += 1\n",
    "                for i in range(1, nocell-1): #excluding top and bottom bc they have boundary conditions\n",
    "                    if xT_ini[i] < 100: #sanity check \n",
    "                        print(\"year =\", l, 'time step =', k)\n",
    "                        print(\"cell number:\", i, \"temperature:\", xT_ini[i])\n",
    "                        print(\"water fraction =\", f_w[i], \"dfw =\", df_w[i])\n",
    "                        break\n",
    "                    if xT_ini[i] >= 273.15:\n",
    "                        f_w[i] = 1\n",
    "                    else:\n",
    "                        #f_w[i] = calculate_fw_HC(xT_ini[i])\n",
    "                        f_w[i] = calculate_fw_Siz(xT_ini[i], T_f, beta) #Sizemore et al. (2015)\n",
    "                        #f_w[i] = np.exp(-((xT_ini[i]-273.15)/w)**2) #Hornum SFC\n",
    "\n",
    "                    f_ice[i] = 1 - f_w[i]\n",
    "                    F_w[i] = f_w[i] * n_grid[i]\n",
    "                    F_ice[i] = f_ice[i] * n_grid[i]\n",
    "                    \n",
    "                    if xT_ini[i] >= 273.15:\n",
    "                        df_w[i] = 0\n",
    "                    else:\n",
    "                        #df_w[i] = calculate_fw_HC(xT_ini[i])\n",
    "                        df_w[i] = calculate_dfw_Siz(xT_ini[i], T_f, beta) #Sizemore et al. (2015)\n",
    "                        #df_w[i] = -2 * (xT_ini[i]-273.15) * np.exp(-((xT_ini[i]-273.15) / w) ** 2) #Hornum SFC\n",
    "\n",
    "                    #calculating equivalent material properties\n",
    "                    k_eq[i] = ((F_soil[i] * np.sqrt(k_soil[i])) + (F_w[i] * np.sqrt(k_w)) + (F_ice[i] * np.sqrt(k_ice))) ** 2\n",
    "                    C_eq[i] = (F_soil[i] * p_soil[i] * cp_soil[i]) + (F_w[i] * p_w * cp_w) + (F_ice[i] * p_ice * (cp_ice + L * df_w[i]))\n",
    "                    a_eq[i] = k_eq[i] / C_eq[i]\n",
    "\n",
    "                    #if (xT_ini[i + 1] - xT_ini[i - 1]) != 0:\n",
    "                    T[i, t] = (((a_eq[i]*tstep)/dz**2) * (xT_ini[i + 1] + xT_ini[i - 1])) + (xT_ini[i] * (1 - ((2*a_eq[i]*tstep)/dz**2)))\n",
    "                    #else:\n",
    "                     #   T[i, t] = xT_ini[i]\n",
    "    \n",
    "                    T[0, t] = T_11[k + (l*20)] #setting the top temp to B.C. from csv file\n",
    "                    #T[0, t] = 50\n",
    "                    #f_w[0] = calculate_fw_HC(xT_ini[0])\n",
    "                    f_w[0] = calculate_fw_Siz(xT_ini[0], T_f, beta) #Sizemore et al. (2015)\n",
    "                    #f_w[0] = np.exp(-((xT_ini[0]-273.15)/w)**2) #Hornum SFC\n",
    "                    \n",
    "                    T[nocell - 1, t] = T[nocell - 2, t] + (dz * T_gradient) # constant flux BC\n",
    "                    #f_w[nocell-1] = calculate_fw_HC(xT_ini[nocell-1])\n",
    "                    f_w[nocell-1] = calculate_fw_Siz(xT_ini[-1], T_f, beta) #Sizemore et al. (2015)\n",
    "                    #f_w[nocell-1] = np.exp(-((xT_ini[-1]-273.15)/w)**2) #Hornum SFC\n",
    "\n",
    "                xT_ini = np.copy(T[:, t])    ### Value used in loop\n",
    "\n",
    "                a_eq_0_1=np.copy(a_eq)      ### Vectors for figures         <<<<<<<<<<<<<<<--------------------\n",
    "                C_eq_0_1=np.copy(C_eq)\n",
    "                f_w_0_1=np.copy(f_w)\n",
    "                f_ice_0_1=np.copy(f_ice)\n",
    "\n",
    "                 ### Creating a matrix with the temperature distribution for each year\n",
    "                if k==ts_1yr: # IF ALL TIME STEPS WERE COMPLETED IN ONE YEAR,\n",
    "                    if l != runtime:\n",
    "                        ## UPDATES THE MATRICES FOR EACH COLUMN: ONE TEMP PER CELL PER YEAR\n",
    "                        # updates column of T matrix w temps from time step at the end of each year\n",
    "                        T_matx_0_1[:,l]=np.copy(T[:,t])     ### Vectors for figures         <<<<<<<<<<<<<<<--------------\n",
    "                        f_matx_0_1[:,l]=np.copy(f_w)\n",
    "                        l+=1 # INCREASE TO NEXT YEAR\n",
    "                        k=0\n",
    "                    elif l == runtime:\n",
    "                        l += 1\n",
    "                        k = 0\n",
    "\n",
    "    \n",
    "    print('complete')\n",
    "    end_time = time.time()\n",
    "    elapsed_time = end_time - start_time\n",
    "    print(f\"Elapsed time: {elapsed_time} seconds\")"
   ]
  },
  {
   "cell_type": "code",
   "execution_count": 196,
   "id": "9c1330ce",
   "metadata": {},
   "outputs": [
    {
     "name": "stdout",
     "output_type": "stream",
     "text": [
      "complete\n",
      "Elapsed time: 123.43422627449036 seconds\n"
     ]
    }
   ],
   "source": [
    "model_run()"
   ]
  },
  {
   "cell_type": "code",
   "execution_count": 121,
   "id": "3d79ad6a-4b75-4c42-ad96-aba5d9520de8",
   "metadata": {},
   "outputs": [
    {
     "name": "stdout",
     "output_type": "stream",
     "text": [
      "[150.         190.79064583 231.58128448 272.37190879 272.83168086\n",
      " 273.14927624 273.1484917  273.14981153 273.14999881 273.14999977\n",
      " 273.14999998 273.15       273.15       273.15       273.15\n",
      " 273.15       273.15       273.15       273.15       273.15\n",
      " 273.15       273.15       273.15       273.15       273.15\n",
      " 273.15       273.15       273.15       273.15       273.15\n",
      " 273.15       273.15       273.15       273.15       273.15\n",
      " 273.15       273.15       273.15       273.15       273.15\n",
      " 273.15       273.15       273.15       273.15       273.15\n",
      " 273.15       273.15       273.15       273.15       273.15\n",
      " 273.15       273.15       273.15       273.15       273.15\n",
      " 273.15       273.15       273.15       273.15       273.15\n",
      " 273.15       273.15       273.15       273.15       273.15\n",
      " 273.15       273.15       273.15       273.15       273.15\n",
      " 273.15       273.15       273.15       273.15       273.15\n",
      " 273.15       273.15       273.15       273.15       273.15\n",
      " 273.15       273.15       273.15       273.15       273.15\n",
      " 273.15       273.15       273.15       273.15       273.15\n",
      " 273.15       273.15       273.15       273.15       273.15\n",
      " 273.15       273.15       273.15       273.15       273.15\n",
      " 273.15       273.15       273.15       273.15       273.15\n",
      " 273.15       273.15       273.15       273.15       273.15\n",
      " 273.15       273.15       273.15       273.15       273.15\n",
      " 273.15       273.15       273.15       273.15       273.15\n",
      " 273.15       273.15       273.15       273.15       273.15\n",
      " 273.15       273.15       273.15       273.15       273.15\n",
      " 273.15       273.15       273.15       273.15       273.15\n",
      " 273.15       273.15       273.15       273.15       273.15\n",
      " 273.15       273.15       273.15       273.15       273.15\n",
      " 273.15       273.15000001 273.15000001 273.15000001 273.15000001\n",
      " 273.15000001 273.15000001 273.15000002 273.15000002 273.15000002\n",
      " 273.15000003 273.15000003 273.15000004 273.15000005 273.15000006\n",
      " 273.15000007 273.15000008 273.15000009 273.15000011 273.15000013\n",
      " 273.15000016 273.15000018 273.15000022 273.15000026 273.1500003\n",
      " 273.15000036 273.15000042 273.15000049 273.15000058 273.15000068\n",
      " 273.1500008  273.15000093 273.15000109 273.15000127 273.15000148\n",
      " 273.15000173 273.15000201 273.15000234 273.15000272 273.15000316\n",
      " 273.15000366 273.15000424 273.1500049  273.15000567 273.15000654\n",
      " 273.15000755 273.15000869 273.15001    273.1500115  273.15001321\n",
      " 273.15001515 273.15001737 273.15001988 273.15002274 273.15002598\n",
      " 273.15002965 273.15003381 273.15003851 273.15004381 273.1500498\n",
      " 273.15005654 273.15006413 273.15007267 273.15008226 273.15009302\n",
      " 273.15010508 273.15011858 273.15013368 273.15015055 273.15016938\n",
      " 273.15019037 273.15021375 273.15023975 273.15026865 273.15030073\n",
      " 273.1503363  273.15037571 273.15041931 273.15046751 273.15052074\n",
      " 273.15057944 273.15064413 273.15071533 273.15079363 273.15087962\n",
      " 273.15097398 273.15107742 273.15119067 273.15131455 273.15144991\n",
      " 273.15159767 273.15175879 273.15193429 273.15212527 273.15233287\n",
      " 273.15255832 273.15280289 273.15306792 273.15335485 273.15366517\n",
      " 273.15400044 273.15436229 273.15475244 273.15517269 273.15562489\n",
      " 273.15611099 273.15663301 273.15719303 273.15779324 273.15843587\n",
      " 273.15912324 273.15985775 273.16064185 273.16147808 273.16236903\n",
      " 273.16331735 273.16432576 273.16539705 273.16653402 273.16773956\n",
      " 273.16901657 273.17036802 273.17179689 273.17330619 273.17489895\n",
      " 273.17657822 273.17834706 273.18020852 273.18216566 273.18422149\n",
      " 273.18637905 273.18864132 273.19101123 273.1934917  273.19608558\n",
      " 273.19879565 273.20162463 273.20457516 273.20764982 273.21085104\n",
      " 273.21418122 273.21764259 273.2212373  273.22496738 273.22883471\n",
      " 273.23284106 273.23698804 273.24127711 273.24570961 273.2502867\n",
      " 273.25500939 273.25987852 273.26489477 273.27005865 273.27537051\n",
      " 273.28083051]\n"
     ]
    }
   ],
   "source": [
    "print(T_matx_0_1[:,200])"
   ]
  },
  {
   "cell_type": "code",
   "execution_count": null,
   "id": "933a6983",
   "metadata": {},
   "outputs": [],
   "source": [
    "profiler.print_stats()"
   ]
  },
  {
   "cell_type": "code",
   "execution_count": 197,
   "id": "bb7ce837",
   "metadata": {},
   "outputs": [
    {
     "data": {
      "text/plain": [
       "<matplotlib.legend.Legend at 0x144cf4450>"
      ]
     },
     "execution_count": 197,
     "metadata": {},
     "output_type": "execute_result"
    },
    {
     "data": {
      "image/png": "[encoded data removed]",
      "text/plain": [
       "<Figure size 640x480 with 1 Axes>"
      ]
     },
     "metadata": {},
     "output_type": "display_data"
    }
   ],
   "source": [
    "### Fig - Final temperature distrubution\n",
    "#plotting curves for initial and final temp distributions\n",
    "\n",
    "plt.figure()\n",
    "#plt.xlim([100,400])\n",
    "#plt.ylim(-.1,40)\n",
    "plt.plot(T_matx_0_1[:,0], z, linestyle='dashed',color='red', label='Initial Temp Dist.')\n",
    "#plt.plot(T_matx_0_1[:,1000], z, color='orange', label='1000 yr')\n",
    "#plt.plot(T_matx_0_1[:,5000], z, color='yellow', label='5000 yr')\n",
    "#plt.plot(T_matx_0_1[:,4000], z, color='green', label='4000 yr')\n",
    "#plt.plot(T_matx_0_1[:,4500], z, color='blue', label='4500 yr')\n",
    "plt.plot(T_matx_0_1[:,runtime-1], z, color='purple', label='Final Temp Dist.')\n",
    "plt.gca().invert_yaxis()\n",
    "plt.xlabel('Temperature [K]')\n",
    "plt.ylabel('Depth [m]')\n",
    "plt.title('Our SFC: Temperature vs. Depth, Runtime = %r yr' %(runtime))\n",
    "plt.legend(bbox_to_anchor=(1.05, 1), loc='upper left', borderaxespad=0)"
   ]
  },
  {
   "cell_type": "code",
   "execution_count": 198,
   "id": "6d6c3098",
   "metadata": {},
   "outputs": [
    {
     "data": {
      "text/plain": [
       "<matplotlib.legend.Legend at 0x147a45210>"
      ]
     },
     "execution_count": 198,
     "metadata": {},
     "output_type": "execute_result"
    },
    {
     "data": {
      "image/png": "[encoded data removed]",
      "text/plain": [
       "<Figure size 640x480 with 1 Axes>"
      ]
     },
     "metadata": {},
     "output_type": "display_data"
    }
   ],
   "source": [
    "### Fig - Final ice fraction distrubution\n",
    "#plotting curves for initial and final f_ice distributions\n",
    "\n",
    "plt.figure()\n",
    "plt.xlim([-0.01,1.01])\n",
    "plt.scatter(f_matx_0_1[:,0], z, color='darkmagenta', label='Initial Water Fraction Dist.', s=5)\n",
    "#plt.scatter(f_matx_0_1[:,1000], z, color='pink', label='1000 yr', s=5)\n",
    "#plt.scatter(f_matx_0_1[:,5000], z, color='green', label='5000 yr', s=5)\n",
    "#plt.scatter(f_matx_0_1[:,10000], z, color='red', label='10000 yr', s=5)\n",
    "#plt.plot(f_matx_0_1[:,8000], z, color='teal', label='8000 yr')\n",
    "plt.scatter(f_matx_0_1[:,runtime-1], z, color='dodgerblue', label='Final Water Fraction Dist.', s=5)\n",
    "plt.gca().invert_yaxis()\n",
    "plt.xlabel('Water Fraction')\n",
    "plt.ylabel('Depth [m]')\n",
    "plt.title('Zone 1: Water Fraction vs. Depth, Runtime = %r yr' %(runtime))\n",
    "plt.legend(bbox_to_anchor=(1.05, 1), loc='upper left', borderaxespad=0)"
   ]
  },
  {
   "cell_type": "markdown",
   "id": "6a945ea8",
   "metadata": {},
   "source": [
    "### Plotting aggradation rate and depth of PF & FF"
   ]
  },
  {
   "cell_type": "code",
   "execution_count": null,
   "id": "15306d6f",
   "metadata": {},
   "outputs": [],
   "source": [
    "TqFF= 271.15 #K, freezing front temp\n",
    "Tq_1= 272.15 #not sure what this is\n",
    "TqPF= 273.15 #permafrost temp\n",
    "t_intv=1         ### Time interval between columns in T_matx [yr]\n",
    "nocell_1=nocell-1\n",
    "\n",
    "Dcol0=0 #not sure what these are \n",
    "Dcol1=615\n",
    "Dcol2=1965\n",
    "Dcol3=3375\n",
    "Dcol4=4505\n",
    "Dcol5=5220\n",
    "Dcol6=5670\n",
    "Dcol7=6020\n",
    "Dcol8=6570\n",
    "Dcol9=7337.5\n",
    "Dcol10=8712.5\n",
    "Dcol11=12305\n",
    "Dcol12=15000\n",
    "DcolFar=18000    ### value not used\n",
    "\n",
    "\n",
    "presentFFdepth = np.empty(nocell)\n",
    "presentPFdepth = np.empty(nocell)\n",
    "presentAggrRate = np.empty(nocell)\n",
    "DtoDF = np.empty(nocell)\n",
    "\n",
    "presentFFdepth[0]=0\n",
    "presentPFdepth[0]=0\n",
    "presentAggrRate[0]=0\n",
    "DtoDF[0]=0\n",
    "\n",
    "temp = np.zeros((nocell,runtime))"
   ]
  },
  {
   "cell_type": "code",
   "execution_count": null,
   "id": "1857b61a",
   "metadata": {},
   "outputs": [],
   "source": [
    "colcount = [1]\n",
    "\n",
    "for col in colcount:\n",
    "    if col==1:\n",
    "        l = runtime  # Runtime [yr]\n",
    "        k = 0\n",
    "        zqFF = np.zeros(l)\n",
    "        zq_1 = np.zeros(l)\n",
    "        zqPF = np.zeros(l)\n",
    "        temp = np.zeros((nocell, l))\n",
    "        tt = np.arange(1, l + 1, t_intv)\n",
    "        tt_shift = np.arange(1, l, t_intv)\n",
    "        aggr_rateFF = np.zeros(l-1)\n",
    "        aggr_rate_1 = np.zeros(l-1)\n",
    "        aggr_ratePF = np.zeros(l-1)\n",
    "\n",
    "        for i in range(l):\n",
    "            k += 1\n",
    "            temp[0:nocell, k-1] = T_matx_0_1[0:nocell, k-1]  # Use the appropriate T_matx\n",
    "\n",
    "            transposed_temp = np.transpose(temp[0:nocell_1, k-1]) # Switches rows and columns\n",
    "            interp_func = interp1d(transposed_temp, z[0:nocell_1], kind='linear')\n",
    "            \n",
    "            if TqFF < np.min(transposed_temp) or TqFF > np.max(transposed_temp):\n",
    "            # Handle the case of values outside the interpolation range\n",
    "            # For example, use the closest available data point for interpolation\n",
    "                interpolated_value = interp_func(np.clip(TqFF, np.min(transposed_temp), np.max(transposed_temp)))\n",
    "            else:\n",
    "                interpolated_value = interp_func(TqFF)\n",
    "\n",
    "            zqFF[i] = interpolated_value\n",
    "            tt[i] = t_intv * k\n",
    "\n",
    "        k = 0\n",
    "        for i in range(l):\n",
    "            k += 1\n",
    "            temp[0:nocell, k-1] = T_matx_0_1[0:nocell, k-1]  # Use the appropriate T_matx\n",
    "            \n",
    "            if Tq_1 < np.min(transposed_temp) or Tq_1 > np.max(transposed_temp):\n",
    "            # Handle the case of values outside the interpolation range\n",
    "            # For example, use the closest available data point for interpolation\n",
    "                interpolated_value = interp_func(np.clip(Tq_1, np.min(transposed_temp), np.max(transposed_temp)))\n",
    "            else:\n",
    "                interpolated_value = interp_func(Tq_1)\n",
    "\n",
    "\n",
    "            zq_1[i] = interpolated_value\n",
    "            tt[i] = t_intv * k\n",
    "\n",
    "        k = 0\n",
    "        for i in range(l):\n",
    "            k += 1\n",
    "            temp[0:nocell, k-1] = T_matx_0_1[0:nocell, k-1]  # Use the appropriate T_matx\n",
    "            \n",
    "            if TqPF < np.min(transposed_temp) or TqPF > np.max(transposed_temp):\n",
    "            # Handle the case of values outside the interpolation range\n",
    "            # For example, use the closest available data point for interpolation\n",
    "                interpolated_value = interp_func(np.clip(TqPF, np.min(transposed_temp), np.max(transposed_temp)))\n",
    "            else:\n",
    "                interpolated_value = interp_func(TqPF)\n",
    "\n",
    "            zqPF[i] = interpolated_value\n",
    "            tt[i] = t_intv * k\n",
    "\n",
    "        colcount[0] += 1\n",
    "        presentFFdepth[colcount[0]]=zqFF[len(zqFF)-1]\n",
    "        presentPFdepth[colcount[0]]=zqPF[len(zqPF)-1]\n",
    "        DtoDF[colcount]=Dcol1\n",
    "\n",
    "        no_points = len(zqFF)\n",
    "        tt_shifted = tt - 0.5 * t_intv\n",
    "        tt_shift[0:(no_points - 1)] = tt_shifted[1:no_points]\n",
    "        tt_shift_BP = np.flip(tt_shift)\n",
    "        tt_flip = np.flip(tt)\n",
    "\n",
    "        for ii in range(len(zqFF)-1):\n",
    "            aggr_rateFF[ii] = (zqFF[ii + 1] - zqFF[ii]) / t_intv\n",
    "\n",
    "        for ii in range(len(zqFF)-1):\n",
    "            aggr_rate_1[ii] = (zq_1[ii + 1] - zq_1[ii]) / t_intv\n",
    "\n",
    "        for ii in range(len(zqFF)-1):\n",
    "            aggr_ratePF[ii] = (zqPF[ii + 1] - zqPF[ii]) / t_intv\n",
    "\n",
    "        presentAggrRate[colcount]=aggr_rateFF[len(aggr_rateFF)-1]\n",
    "\n",
    "# Plotting\n",
    "fig, axes = plt.subplots(nrows=2, ncols=1, figsize=(8, 10))\n",
    "\n",
    "# Plot the Freezing front and PF depth data in the first subplot\n",
    "axes[0].plot(tt, zqFF, '-.', label='Freezing Front')\n",
    "axes[0].plot(tt, zqPF, '-.', label='Permafrost Front')\n",
    "axes[0].set_title('Freezing front and permafrost depth - Zone 0-1')\n",
    "axes[0].invert_yaxis()\n",
    "axes[0].set_xlabel('Elapsed Time [yr]')\n",
    "axes[0].set_ylabel('Depth [m]')\n",
    "axes[0].legend(loc='upper left')\n",
    "axes[0].set_ylim(grid_depth+100, 0)\n",
    "\n",
    "# Plot the Aggradation rate data in the second subplot\n",
    "axes[1].plot(tt_shift, aggr_rateFF, 'k')\n",
    "axes[1].set_title('FF Aggradation rate - Zone 0-1')\n",
    "axes[1].set_xlabel('Elapsed Time [yr]')\n",
    "axes[1].set_ylabel('Rate [m/yr]')\n",
    "#axes[1].legend(loc='upper right')\n",
    "\n",
    "# Adjust layout and show the plots\n",
    "plt.tight_layout()\n",
    "plt.show()"
   ]
  },
  {
   "cell_type": "code",
   "execution_count": null,
   "id": "e10d8209",
   "metadata": {},
   "outputs": [],
   "source": [
    "print(zqFF)"
   ]
  },
  {
   "cell_type": "code",
   "execution_count": null,
   "id": "b1c25741",
   "metadata": {},
   "outputs": [],
   "source": [
    "print(zqPF)"
   ]
  },
  {
   "cell_type": "markdown",
   "id": "5a9c64e1",
   "metadata": {},
   "source": [
    "## Final PF and FF depths"
   ]
  },
  {
   "cell_type": "code",
   "execution_count": null,
   "id": "2fe1e967",
   "metadata": {},
   "outputs": [],
   "source": [
    "plt.plot(DtoDF, presentFFdepth, c='blue', label='Final FF Depth')\n",
    "plt.plot(DtoDF, presentPFdepth, c='red', label='Final PF Depth')\n",
    "plt.xlabel('Distance to delta front [m]')\n",
    "plt.ylabel('Depth [m]')\n",
    "plt.title('Permafrost and freezing front depths')\n",
    "plt.gca().invert_yaxis()\n",
    "plt.legend(loc='upper right')"
   ]
  },
  {
   "cell_type": "markdown",
   "id": "9dcbc894",
   "metadata": {},
   "source": [
    "## Final Aggradation Rate and Recharge Equivalent"
   ]
  },
  {
   "cell_type": "code",
   "execution_count": null,
   "id": "43d16fd0",
   "metadata": {},
   "outputs": [],
   "source": [
    "plt.plot(DtoDF[2:], presentAggrRate[2:], c='blue')\n",
    "plt.xlabel('Distance to delta front [m]')\n",
    "plt.ylabel('Rate [m/yr]')\n",
    "plt.title('Aggradation rate and recharge equivalent')"
   ]
  },
  {
   "cell_type": "code",
   "execution_count": null,
   "id": "1c8bcf30",
   "metadata": {},
   "outputs": [],
   "source": [
    "# next steps: add in temp-dependent material properties? play with diff layers? Investigate FF and PF depths "
   ]
  },
  {
   "cell_type": "markdown",
   "id": "3f4d63ee",
   "metadata": {},
   "source": [
    "## Plotting Final Effective Material Properties "
   ]
  },
  {
   "cell_type": "code",
   "execution_count": null,
   "id": "2c5c0984",
   "metadata": {},
   "outputs": [],
   "source": [
    "print(a_eq_0_1)"
   ]
  },
  {
   "cell_type": "code",
   "execution_count": null,
   "id": "6cf9750a",
   "metadata": {},
   "outputs": [],
   "source": [
    "print(C_eq_0_1)"
   ]
  },
  {
   "cell_type": "code",
   "execution_count": null,
   "id": "75508c89",
   "metadata": {},
   "outputs": [],
   "source": [
    "### Fig - Final effective material property distrubutions\n",
    "#plotting curves for initial and final effective thermal diffusivity distributions\n",
    "\n",
    "plt.figure()\n",
    "#plt.xlim([100,400])\n",
    "plt.plot(a_eq_0_1, z, linestyle='dashed',color='darkmagenta', label='Final, zone 1')\n",
    "#plt.plot(a_eq_1_2, z, color='dodgerblue', label='Final, zone 2')\n",
    "plt.gca().invert_yaxis()\n",
    "plt.xlabel('Thermal Diffusivity [m^2/s]')\n",
    "plt.ylabel('Depth [m]')\n",
    "plt.title('Zone 1: Effective Thermal Diffusivity vs. Depth, Runtime = %r yr' %(runtime))\n",
    "plt.legend(bbox_to_anchor=(1.05, 1), loc='upper left', borderaxespad=0)\n"
   ]
  },
  {
   "cell_type": "code",
   "execution_count": null,
   "id": "5b2db4da",
   "metadata": {},
   "outputs": [],
   "source": [
    "### Fig - Final effective material property distrubutions\n",
    "#plotting curves for initial and final effective heat capacity distributions\n",
    "\n",
    "plt.figure()\n",
    "#plt.xlim([100,400])\n",
    "plt.plot(C_eq_0_1/1e6, z, linestyle='dashed',color='darkmagenta', label='Final, zone 1')\n",
    "plt.plot(C_eq_1_2/1e6, z, color='dodgerblue', label='Final, zone 2')\n",
    "plt.gca().invert_yaxis()\n",
    "plt.xlabel('Heat Capacity [MJ/K]')\n",
    "plt.ylabel('Depth [m]')\n",
    "plt.title('Zone 1: Effective Heat Capacity vs. Depth, Runtime = %r yr' %(runtime))\n",
    "plt.legend(bbox_to_anchor=(1.05, 1), loc='upper left', borderaxespad=0)\n"
   ]
  },
  {
   "cell_type": "code",
   "execution_count": null,
   "id": "2e265999",
   "metadata": {},
   "outputs": [],
   "source": [
    "np.shape(a_eq_0_1)"
   ]
  },
  {
   "cell_type": "code",
   "execution_count": null,
   "id": "ac907034",
   "metadata": {},
   "outputs": [],
   "source": []
  }
 ],
 "metadata": {
  "kernelspec": {
   "display_name": "Python 3 (ipykernel)",
   "language": "python",
   "name": "python3"
  },
  "language_info": {
   "codemirror_mode": {
    "name": "ipython",
    "version": 3
   },
   "file_extension": ".py",
   "mimetype": "text/x-python",
   "name": "python",
   "nbconvert_exporter": "python",
   "pygments_lexer": "ipython3",
   "version": "3.11.6"
  }
 },
 "nbformat": 4,
 "nbformat_minor": 5
}
