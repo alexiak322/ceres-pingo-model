{
 "cells": [
  {
   "cell_type": "code",
   "execution_count": 1,
   "id": "10c6b166",
   "metadata": {},
   "outputs": [],
   "source": [
    "# Adapting the 1DHT model from Hornum et al. (2020) from MATLAB to Python"
   ]
  },
  {
   "cell_type": "code",
   "execution_count": 1,
   "id": "0aebd6c0",
   "metadata": {},
   "outputs": [],
   "source": [
    "import numpy as np\n",
    "from scipy.interpolate import interp1d\n",
    "import pandas as pd\n",
    "import matplotlib\n",
    "import matplotlib.pyplot as plt"
   ]
  },
  {
   "cell_type": "code",
   "execution_count": 2,
   "id": "525aafba",
   "metadata": {},
   "outputs": [
    {
     "name": "stdout",
     "output_type": "stream",
     "text": [
      "301\n"
     ]
    }
   ],
   "source": [
    "#      Constants and general model setup\n",
    "toyr =60*60*24*365     # to year from s\n",
    "\n",
    "            # Thermal properties of water and ice (from Williams and Smith, 1989) %%%\n",
    "            \n",
    "p_w = 1000             # density [kg/m3]\n",
    "p_ice = 917\n",
    "cp_w = 4180            # specific heat capacity [J/(kg*K)]\n",
    "cp_ice = 2100\n",
    "k_w = 0.56*toyr        # thermal conductivity [(J/yr)/(m K)]\n",
    "k_ice = 2.24*toyr\n",
    "L=333.6*1000           # Latent heat of fusion [J/kg]\n",
    "\n",
    "            ## Porosity and thermal properties of CERES materials ##\n",
    "            \n",
    "n_Sc=2                 # Porosity scenario is chosen here: 1=minimum n, 2=intermediate n, 3=maximum n\n",
    "nLob=[0.33, 0.5, 0.66]    ## [min interm. max] Lobate (thermal model; 6B) ##\n",
    "\n",
    "\n",
    "                    ### Material 1 - Lobate\n",
    "nL = nLob[n_Sc]        \n",
    "p_soilL = 1300       ## DENSITY (thermal model; 2B)             \n",
    "cp_soilL = 1538       ## HEAT CAPACITY; GRAB FROM JULIE'S DATABASE (this is going to be tricky with    \n",
    "k_soilL = 1.3*toyr   ## THERMAL CONDUCTIVITY; GRAB FROM JULIE'S DATABASE (20% ice, 45% hydrates)       \n",
    "aQ=k_soilL/(p_soilL*cp_soilL) #THERMAL DIFFUSIVITY [m^2/yr]\n",
    "\n",
    "\n",
    "            ### Model parameters ###\n",
    "tstep=0.05         # time step [yr] this is the minimum time step with our material properties\n",
    "ts_1yr=1/tstep     # number of time steps in a year; 20\n",
    "dz=2               # cell size [m]\n",
    "grid_depth=600     ## grid depth, GRID SPANS 600m (depth of lobate flow) (domain constraints; 5B)\n",
    "z=np.arange(0,grid_depth+dz,dz) # cell nodes, 0,2,4,6 M ETC.\n",
    "nocell=len(z)    # number of cells\n",
    "print(nocell)"
   ]
  },
  {
   "cell_type": "code",
   "execution_count": 3,
   "id": "a6c1029d",
   "metadata": {},
   "outputs": [
    {
     "name": "stdout",
     "output_type": "stream",
     "text": [
      "[150. 150. 152. 153. 154. 155. 156. 157. 158. 159. 160. 161. 162. 163.\n",
      " 164. 165. 166. 167. 168. 169. 170. 171. 172. 173. 174. 175. 176. 177.\n",
      " 178. 179. 180. 181. 182. 183. 184. 185. 186. 187. 188. 189. 190. 191.\n",
      " 192. 193. 194. 195. 196. 197. 198. 199. 200. 201. 202. 203. 204. 205.\n",
      " 206. 207. 208. 209. 210. 211. 212. 213. 214. 215. 216. 217. 218. 219.\n",
      " 220. 221. 222. 223. 224. 225. 226. 227. 228. 229. 230. 231. 232. 233.\n",
      " 234. 235. 236. 237. 238. 239. 240. 241. 242. 243. 244. 245. 246. 247.\n",
      " 248. 249. 250. 251. 252. 253. 254. 255. 256. 257. 258. 259. 260. 261.\n",
      " 262. 263. 264. 265. 266. 267. 268. 269. 270. 271. 272. 273. 274. 275.\n",
      " 276. 277. 278. 279. 280. 281. 282. 283. 284. 285. 286. 287. 288. 289.\n",
      " 290. 291. 292. 293. 294. 295. 296. 297. 298. 299. 300. 300. 300. 300.\n",
      " 300. 300. 300. 300. 300. 300. 300. 300. 300. 300. 300. 300. 300. 300.\n",
      " 300. 300. 300. 300. 300. 300. 300. 300. 300. 300. 300. 300. 300. 300.\n",
      " 300. 300. 300. 300. 300. 300. 300. 300. 300. 300. 300. 300. 300. 300.\n",
      " 300. 300. 300. 300. 300. 300. 300. 300. 300. 300. 300. 300. 300. 300.\n",
      " 300. 300. 300. 300. 300. 300. 300. 300. 300. 300. 300. 300. 300. 300.\n",
      " 300. 300. 300. 300. 300. 300. 300. 300. 300. 300. 300. 300. 300. 300.\n",
      " 300. 300. 300. 300. 300. 300. 300. 300. 300. 300. 300. 300. 300. 300.\n",
      " 300. 300. 300. 300. 300. 300. 300. 300. 300. 300. 300. 300. 300. 300.\n",
      " 300. 300. 300. 300. 300. 300. 300. 300. 300. 300. 300. 300. 300. 300.\n",
      " 300. 300. 300. 300. 300. 300. 300. 300. 300. 300. 300. 300. 300. 300.\n",
      " 300. 300. 300. 300. 300. 300. 300.]\n"
     ]
    },
    {
     "data": {
      "text/plain": [
       "301"
      ]
     },
     "execution_count": 3,
     "metadata": {},
     "output_type": "execute_result"
    }
   ],
   "source": [
    " ### Temperature ###\n",
    "Kv= -273.15              # set to -273.15 if in Kelvin. 0 if in C\n",
    "T_gradient=0.00273    ## Thermal gradient [K/m] (Raymond et al. 2020) (thermal model; 7B)\n",
    "T_0=273           # Initial surface temperature - NOT USED if temperature reconstruction is defined\n",
    "T_end=350 # Initial temperature at bottom of grid - NOT USED in for loop (estimate from Bowling)\n",
    "T_ini=np.zeros(nocell) # Initial temperature distribution, gives every cell node a temperature\n",
    "for i in range(len(T_ini)):\n",
    "    if 0 <= i < 2:\n",
    "        T_ini[i] = 150\n",
    "    elif 2 <= i < (nocell-1)/2:\n",
    "        T_ini[i] = (((300-150)/(300))*z[i]) + 150\n",
    "    #elif i == (nocell-1)/2:\n",
    "    #    T_ini[i] = 273\n",
    "    #elif i > (nocell-1)/2:\n",
    "    #    T_ini[i] = (((150-273)/300)*z[i-150]) + 273\n",
    "    #if i == grid_depth:\n",
    "    #    T_ini[i] = 273\n",
    "    else:\n",
    "        T_ini[i] = 300\n",
    "#T_ini[-1] = 150\n",
    "print(T_ini)\n",
    "len(T_ini)"
   ]
  },
  {
   "cell_type": "code",
   "execution_count": 4,
   "id": "3d6e26c5",
   "metadata": {},
   "outputs": [
    {
     "name": "stdout",
     "output_type": "stream",
     "text": [
      "[123]\n"
     ]
    }
   ],
   "source": [
    "indices = np.where(T_ini == 273)[0]\n",
    "print(indices)"
   ]
  },
  {
   "cell_type": "code",
   "execution_count": 5,
   "id": "e7e2af4f",
   "metadata": {},
   "outputs": [
    {
     "name": "stdout",
     "output_type": "stream",
     "text": [
      "150.0\n"
     ]
    }
   ],
   "source": [
    "# Ceres temperature reconstruction (just a .txt file) with 100k rows each with a temp of 150 K\n",
    "# Load the data from the text file\n",
    "TCurve_data = pd.read_csv('cerestempcurve.txt', header=None)\n",
    "\n",
    "T_ann10 = TCurve_data[1] #temperatures\n",
    "tt_yr = TCurve_data[0] #years\n",
    "\n",
    "ttt = np.arange(0, 100000+tstep, tstep) #do this for maximum runtime, can filter down later\n",
    "interp_function = interp1d(tt_yr, T_ann10, kind='linear', fill_value='extrapolate')\n",
    "\n",
    "T_ann10q = interp_function(ttt) #interpolating the surface temperature so there is one for every time step\n",
    "\n",
    "print(T_ann10q[-1])"
   ]
  },
  {
   "cell_type": "code",
   "execution_count": 6,
   "id": "8592bbef",
   "metadata": {},
   "outputs": [
    {
     "data": {
      "text/plain": [
       "2000001"
      ]
     },
     "execution_count": 6,
     "metadata": {},
     "output_type": "execute_result"
    }
   ],
   "source": [
    "len(T_ann10q) #this is the amount of time steps if we were to run it for 100000 years"
   ]
  },
  {
   "cell_type": "code",
   "execution_count": 7,
   "id": "75f202d8",
   "metadata": {},
   "outputs": [],
   "source": [
    "### Assigning material IDs to the different model grids and creating empty vectors and matrices. ###\n",
    "### For now, we are only doing one column and one material ID (lobate) ###\n",
    "\n",
    "# 1=Lobate\n",
    "onegrid=np.ones(nocell) # 1 x 301 matrix\n",
    "\n",
    "                # Material IDs ZONEs 2-3 (3), 1-2 (2), 0-1 (1)\n",
    "Z0_1MatID=np.ones(nocell) #setting entire domain to same material\n",
    "\n",
    "            ### Creating one-vectors and empty matrices used in for-loop ###\n",
    "n_grid=np.ones(nocell) # all of these have nocell elements -> all material properties define at nodes (1 x nocell matrix)\n",
    "p_soil=np.ones(nocell)\n",
    "cp_soil=np.ones(nocell)\n",
    "k_soil=np.ones(nocell)\n",
    "\n",
    "F_w = np.zeros(nocell) #all cells have 0 percent water except for bottom (this was from the original code, but \n",
    "                       # need to think about this more)\n",
    "F_w[nocell-1] = 1\n",
    "\n",
    "f_w = np.ones(nocell) ##fraction of liquid water in the pore space\n",
    "f_w[0] = 0\n",
    "f_w[1] = 0 ##top two cells are carapace\n",
    "\n",
    "F_ice = np.zeros(nocell) #initiate model when all cells (besides carapace) are above freezing temp\n",
    "#F_ice[0] = 0\n",
    "#F_ice[1] = 0\n",
    "\n",
    "f_ice = np.zeros(nocell)\n",
    "#f_ice[0]=0      \n",
    "#f_ice[1]=0\n",
    "\n",
    "\n",
    "dF_w=np.zeros(nocell-1) ## CHANGE IN TOTAL FRACTION OF WATER??? \n",
    "k_eq=np.zeros(nocell-1) ## EQUIVALENT THERMAL CONDUCTIVITY\n",
    "C_eq=np.zeros(nocell)   ## EQUIVALENT HEAT CAPACITY\n",
    "a_eq=np.zeros(nocell)   ## EQUIVALENT THERMAL DIFFUSIVITY\n",
    "\n",
    "runtime = 10000\n",
    "\n",
    "T_matx_0_1=np.zeros((nocell,runtime)) ### CREATING EMPTY TEMP MATRICES FOR EACH ZONE'S RUN TIME (100000 yr)\n",
    "#T_matx_0_1[:,0] = T_ini.copy()                                    ### add more as needed\n",
    "\n",
    "F_matx_0_1=np.zeros((nocell,runtime)) # NOT SURE WHAT F MEANS, IS THIS FRACTION OF WATER OF EACH CELL IN EACH ZONE?\n",
    "F_matx_0_1[:,0] = F_ice.copy()\n",
    "\n",
    "w=0.957725     # Correction factor, DESCRIBED IN SECTION 4.1 IN PAPER, T_S = -2 ºC, T_L = 0 ºC"
   ]
  },
  {
   "cell_type": "code",
   "execution_count": 8,
   "id": "5b93f0c6",
   "metadata": {},
   "outputs": [],
   "source": [
    "### Numerical Model ###\n",
    "### Only writing for one column ###\n",
    "\n",
    "col_incl=[1]       ### Specify which of the 12 columns (zones) to include in the ground temperature simulation (e.g. [1:12] (all), [4] (only one), [1 5 11] (several specific ones).\n",
    "for col in col_incl:\n",
    "    if col==1:            ### Defining the column in use\n",
    "        runtime=10000      # Simulation runtime\n",
    "        materialid=Z0_1MatID\n",
    "        \n",
    "for ii in range(nocell): #applying material properties to each cell in the domain\n",
    "    if materialid[ii] == 1:\n",
    "        n_grid[ii] = onegrid[ii] * nL\n",
    "    if materialid[ii] == 1:\n",
    "        p_soil[ii] = onegrid[ii] * p_soilL\n",
    "    if materialid[ii] == 1:\n",
    "        cp_soil[ii] = onegrid[ii] * cp_soilL\n",
    "    if materialid[ii] == 1:\n",
    "        k_soil[ii] = onegrid[ii] * k_soilL\n",
    "    if materialid[ii] == 2:\n",
    "        n_grid[ii] = onegrid[ii] * nL\n",
    "    if materialid[ii] == 2:\n",
    "        p_soil[ii] = onegrid[ii] * p_ice\n",
    "    if materialid[ii] == 2:\n",
    "        cp_soil[ii] = onegrid[ii] * cp_ice\n",
    "    if materialid[ii] == 2:\n",
    "        k_soil[ii] = onegrid[ii] * k_ice\n",
    "\n",
    "f_w[nocell-1] = n_grid[nocell-1]*1\n",
    "f_ice[0] = n_grid[0]*1   \n",
    "f_soil = 1-n_grid\n",
    "\n",
    "no_tstep = int(runtime / tstep)  # Total number of time steps, DIFFERENT FOR EACH ZONE\n",
    "\n",
    "T_11 = T_ann10q[:no_tstep + 1]  # Cutting temperature curve to simulation period\n",
    "T_1 = np.flip(T_11)  # New T_1 #This is just 150 K for each time step"
   ]
  },
  {
   "cell_type": "code",
   "execution_count": 9,
   "id": "733b7557",
   "metadata": {},
   "outputs": [
    {
     "name": "stdout",
     "output_type": "stream",
     "text": [
      "[1300. 1300. 1300. 1300. 1300. 1300. 1300. 1300. 1300. 1300. 1300. 1300.\n",
      " 1300. 1300. 1300. 1300. 1300. 1300. 1300. 1300. 1300. 1300. 1300. 1300.\n",
      " 1300. 1300. 1300. 1300. 1300. 1300. 1300. 1300. 1300. 1300. 1300. 1300.\n",
      " 1300. 1300. 1300. 1300. 1300. 1300. 1300. 1300. 1300. 1300. 1300. 1300.\n",
      " 1300. 1300. 1300. 1300. 1300. 1300. 1300. 1300. 1300. 1300. 1300. 1300.\n",
      " 1300. 1300. 1300. 1300. 1300. 1300. 1300. 1300. 1300. 1300. 1300. 1300.\n",
      " 1300. 1300. 1300. 1300. 1300. 1300. 1300. 1300. 1300. 1300. 1300. 1300.\n",
      " 1300. 1300. 1300. 1300. 1300. 1300. 1300. 1300. 1300. 1300. 1300. 1300.\n",
      " 1300. 1300. 1300. 1300. 1300. 1300. 1300. 1300. 1300. 1300. 1300. 1300.\n",
      " 1300. 1300. 1300. 1300. 1300. 1300. 1300. 1300. 1300. 1300. 1300. 1300.\n",
      " 1300. 1300. 1300. 1300. 1300. 1300. 1300. 1300. 1300. 1300. 1300. 1300.\n",
      " 1300. 1300. 1300. 1300. 1300. 1300. 1300. 1300. 1300. 1300. 1300. 1300.\n",
      " 1300. 1300. 1300. 1300. 1300. 1300. 1300. 1300. 1300. 1300. 1300. 1300.\n",
      " 1300. 1300. 1300. 1300. 1300. 1300. 1300. 1300. 1300. 1300. 1300. 1300.\n",
      " 1300. 1300. 1300. 1300. 1300. 1300. 1300. 1300. 1300. 1300. 1300. 1300.\n",
      " 1300. 1300. 1300. 1300. 1300. 1300. 1300. 1300. 1300. 1300. 1300. 1300.\n",
      " 1300. 1300. 1300. 1300. 1300. 1300. 1300. 1300. 1300. 1300. 1300. 1300.\n",
      " 1300. 1300. 1300. 1300. 1300. 1300. 1300. 1300. 1300. 1300. 1300. 1300.\n",
      " 1300. 1300. 1300. 1300. 1300. 1300. 1300. 1300. 1300. 1300. 1300. 1300.\n",
      " 1300. 1300. 1300. 1300. 1300. 1300. 1300. 1300. 1300. 1300. 1300. 1300.\n",
      " 1300. 1300. 1300. 1300. 1300. 1300. 1300. 1300. 1300. 1300. 1300. 1300.\n",
      " 1300. 1300. 1300. 1300. 1300. 1300. 1300. 1300. 1300. 1300. 1300. 1300.\n",
      " 1300. 1300. 1300. 1300. 1300. 1300. 1300. 1300. 1300. 1300. 1300. 1300.\n",
      " 1300. 1300. 1300. 1300. 1300. 1300. 1300. 1300. 1300. 1300. 1300. 1300.\n",
      " 1300. 1300. 1300. 1300. 1300. 1300. 1300. 1300. 1300. 1300. 1300. 1300.\n",
      " 1300.]\n"
     ]
    }
   ],
   "source": [
    "print(p_soil)"
   ]
  },
  {
   "cell_type": "code",
   "execution_count": 10,
   "id": "4744e229",
   "metadata": {},
   "outputs": [
    {
     "name": "stdout",
     "output_type": "stream",
     "text": [
      "0.3823027147652911\n"
     ]
    }
   ],
   "source": [
    "### stability criterion ###\n",
    "# calculates the effective thermal diffusivity of the soil and ice material\n",
    "# if stability < 0.5, model will proceed\n",
    "\n",
    "k_s_ice = ((n_grid * np.sqrt(k_ice)) + ((1-n_grid) * np.sqrt(k_soil))) ** 2\n",
    "C_s_ice = (n_grid * p_ice * cp_ice) + ((1 - n_grid) * p_soil * cp_soil)\n",
    "a_s_ice = k_s_ice / C_s_ice\n",
    "stability = (np.max(a_s_ice) * tstep / dz**2)\n",
    "print(stability)"
   ]
  },
  {
   "cell_type": "code",
   "execution_count": 11,
   "id": "f3456f97",
   "metadata": {},
   "outputs": [
    {
     "name": "stdout",
     "output_type": "stream",
     "text": [
      "[[150.   0.   0. ...   0.   0.   0.]\n",
      " [150.   0.   0. ...   0.   0.   0.]\n",
      " [152.   0.   0. ...   0.   0.   0.]\n",
      " ...\n",
      " [300.   0.   0. ...   0.   0.   0.]\n",
      " [300.   0.   0. ...   0.   0.   0.]\n",
      " [300.   0.   0. ...   0.   0.   0.]]\n"
     ]
    },
    {
     "data": {
      "text/plain": [
       "(301, 200000)"
      ]
     },
     "execution_count": 11,
     "metadata": {},
     "output_type": "execute_result"
    }
   ],
   "source": [
    "#temperature array used in numerical model\n",
    "\n",
    "T = np.zeros((nocell, no_tstep))\n",
    "T[:, 0] = T_ini.copy()\n",
    "\n",
    "print(T)\n",
    "T.shape"
   ]
  },
  {
   "cell_type": "code",
   "execution_count": 12,
   "id": "ce061ec5",
   "metadata": {},
   "outputs": [
    {
     "name": "stdout",
     "output_type": "stream",
     "text": [
      "complete\n"
     ]
    }
   ],
   "source": [
    "### Numerical Model ###\n",
    "### heat transfer loop starts\n",
    "if col==1:\n",
    "    xT_ini = T_ini.copy()\n",
    "    k = 0 #time step count\n",
    "    l = 0 #year count\n",
    "    for t in range(no_tstep):\n",
    "        if stability > 0.5:\n",
    "            break\n",
    "        k += 1\n",
    "        for i in range(1, nocell-1): #excluding top bc it has prescribed fractions\n",
    "            if xT_ini[i] < 271.15: #solidus temperature of water\n",
    "                F_w[i] = 0\n",
    "            elif xT_ini[i] > 273: #liquidus\n",
    "                F_w[i] = 1\n",
    "            else:\n",
    "                F_w[i] = np.exp(-(xT_ini[i] / w) ** 2)  # eq. A, Freezing curve\n",
    "            F_ice[i] = 1 - F_w[i]\n",
    "\n",
    "            if xT_ini[i] < -2:\n",
    "                dF_w[i] = 0\n",
    "            elif xT_ini[i] > 0:\n",
    "                dF_w[i] = 0\n",
    "            else:\n",
    "                dF_w[i] = -2 * xT_ini[i] * np.exp(-(xT_ini[i] / w) ** 2)  # derivative of eq. A in paper\n",
    "            \n",
    "            f_w[i] = F_w[i] * n_grid[i]\n",
    "            f_ice[i] = F_ice[i] * n_grid[i]\n",
    "\n",
    "            #calculating equivalent material properties\n",
    "            k_eq[i] = ((f_soil[i] * np.sqrt(k_soil[i])) + (f_w[i] * np.sqrt(k_w)) + (f_ice[i] * np.sqrt(k_ice))) ** 2\n",
    "            C_eq[i] = (f_soil[i] * p_soil[i] * cp_soil[i]) + (f_w[i] * p_w * cp_w) + (f_ice[i] * p_ice * (cp_ice + L * dF_w[i]))\n",
    "            a_eq[i] = k_eq[i] / C_eq[i]\n",
    "\n",
    "            if (xT_ini[i + 1] - xT_ini[i - 1]) != 0:\n",
    "                T[i, t] = (((a_eq[i]*tstep)/dz**2) * (xT_ini[i + 1] + xT_ini[i - 1])) + (xT_ini[i] * (1 - ((2*a_eq[i]*tstep)/dz**2)))\n",
    "            else:\n",
    "                T[i, t] = xT_ini[i]\n",
    "            \n",
    "            T[0, t] = T_1[t] #setting the top boundary to 150 K\n",
    "            T[nocell - 1, t] = T[nocell - 2, t] + dz * T_gradient #this can be changed to whatever we want the bottom boundary to be\n",
    "            \n",
    "        xT_ini = T[:, t]      ### Value used in loop\n",
    "                \n",
    "        a_eq_0_1=a_eq.copy()      ### Vectors for figures         <<<<<<<<<<<<<<<--------------------\n",
    "        C_eq_0_1=C_eq.copy()\n",
    "        F_w_0_1=F_w.copy()\n",
    "        F_ice_0_1=F_ice.copy()\n",
    "        \n",
    "         ### Creating a matrix with the temperature distribution for each year\n",
    "        if k==ts_1yr: # IF ALL TIME STEPS WERE COMPLETED IN ONE YEAR,\n",
    "            if l != runtime:\n",
    "                ## UPDATES THE MATRICES FOR EACH COLUMN: ONE TEMP PER CELL PER YEAR\n",
    "                # updates column of T matrix w temps from time step\n",
    "                T_matx_0_1[:,l]=T[:,t].copy()     ### Vectors for figures         <<<<<<<<<<<<<<<--------------\n",
    "                F_matx_0_1[:,l]=F_w[i].copy()\n",
    "                l+=1 # INCREASE TO NEXT YEAR\n",
    "                k=0\n",
    "            elif l == runtime:\n",
    "                l += 1\n",
    "                k = 0\n",
    "print('complete')"
   ]
  },
  {
   "cell_type": "code",
   "execution_count": 14,
   "id": "94c51c5b",
   "metadata": {},
   "outputs": [
    {
     "data": {
      "text/plain": [
       "(301, 200000)"
      ]
     },
     "execution_count": 14,
     "metadata": {},
     "output_type": "execute_result"
    }
   ],
   "source": [
    "T.shape"
   ]
  },
  {
   "cell_type": "code",
   "execution_count": 15,
   "id": "b65aa6af",
   "metadata": {},
   "outputs": [
    {
     "data": {
      "text/plain": [
       "(301, 10000)"
      ]
     },
     "execution_count": 15,
     "metadata": {},
     "output_type": "execute_result"
    }
   ],
   "source": [
    "T_matx_0_1.shape "
   ]
  },
  {
   "cell_type": "code",
   "execution_count": 16,
   "id": "bb7ce837",
   "metadata": {},
   "outputs": [
    {
     "data": {
      "text/plain": [
       "<matplotlib.legend.Legend at 0x140437820>"
      ]
     },
     "execution_count": 16,
     "metadata": {},
     "output_type": "execute_result"
    },
    {
     "data": {
      "image/png": "[encoded data removed]",
      "text/plain": [
       "<Figure size 640x480 with 1 Axes>"
      ]
     },
     "metadata": {},
     "output_type": "display_data"
    }
   ],
   "source": [
    "### Fig - Final temperature distrubution\n",
    "#plotting curves for initial and final temp distributions\n",
    "\n",
    "plt.xlim([100,400])\n",
    "plt.plot(T_matx_0_1[:,0], z, linestyle='dashed',color='darkmagenta', label='Initial Temp Dist.')\n",
    "plt.plot(T_matx_0_1[:,runtime-1], z, color='dodgerblue', label='Final Temp Dist.')\n",
    "plt.gca().invert_yaxis()\n",
    "plt.xlabel('Temperature [K]')\n",
    "plt.ylabel('Depth [m]')\n",
    "plt.title('Temperature vs. Depth, Runtime = %r yr' %(runtime))\n",
    "plt.legend(bbox_to_anchor=(1.05, 1), loc='upper left', borderaxespad=0)"
   ]
  },
  {
   "cell_type": "code",
   "execution_count": 73,
   "id": "0dd041b8",
   "metadata": {},
   "outputs": [],
   "source": [
    "# when runtime is 100,000 yr, code takes ~2 hr to run\n",
    "\n",
    "# code below here needs more work "
   ]
  },
  {
   "cell_type": "markdown",
   "id": "6a945ea8",
   "metadata": {},
   "source": [
    "## Aggradation rate and depth of PF & FF"
   ]
  },
  {
   "cell_type": "code",
   "execution_count": 56,
   "id": "da781758",
   "metadata": {},
   "outputs": [],
   "source": [
    "TqFF= 271 #K, freezing front temp\n",
    "Tq_1= 272 #not sure what this is\n",
    "TqPF= 273 #permafrost temp\n",
    "t_intv=1         ### Time interval between columns in T_matx [yr]\n",
    "nocell_1=nocell-1\n",
    "\n",
    "Dcol0=0 #not sure what these are \n",
    "Dcol1=615\n",
    "Dcol2=1965\n",
    "Dcol3=3375\n",
    "Dcol4=4505\n",
    "Dcol5=5220\n",
    "Dcol6=5670\n",
    "Dcol7=6020\n",
    "Dcol8=6570\n",
    "Dcol9=7337.5\n",
    "Dcol10=8712.5\n",
    "Dcol11=12305\n",
    "Dcol12=15000\n",
    "DcolFar=18000    ### value not used\n",
    "\n",
    "\n",
    "presentFFdepth = np.empty(nocell)\n",
    "presentPFdepth = np.empty(nocell)\n",
    "presentAggrRate = np.empty(nocell)\n",
    "DtoDF = np.empty(nocell) #DF = delta front — this was used in terrestrial model but not needed here\n",
    "\n",
    "presentFFdepth[0]=0\n",
    "presentPFdepth[0]=0\n",
    "presentAggrRate[0]=0\n",
    "DtoDF[0]=0\n",
    "\n",
    "temp = np.zeros((nocell,runtime))"
   ]
  },
  {
   "cell_type": "code",
   "execution_count": 57,
   "id": "1e10c524",
   "metadata": {},
   "outputs": [
    {
     "ename": "ValueError",
     "evalue": "A value (271.0) in x_new is above the interpolation range's maximum value (270.98864231881095).",
     "output_type": "error",
     "traceback": [
      "\u001b[0;31m---------------------------------------------------------------------------\u001b[0m",
      "\u001b[0;31mValueError\u001b[0m                                Traceback (most recent call last)",
      "Cell \u001b[0;32mIn[57], line 26\u001b[0m\n\u001b[1;32m     23\u001b[0m     interp_func \u001b[38;5;241m=\u001b[39m interp1d(transposed_temp, z[\u001b[38;5;241m0\u001b[39m:nocell_1], kind\u001b[38;5;241m=\u001b[39m\u001b[38;5;124m'\u001b[39m\u001b[38;5;124mlinear\u001b[39m\u001b[38;5;124m'\u001b[39m)\n\u001b[1;32m     25\u001b[0m     \u001b[38;5;66;03m# Interpolate the value\u001b[39;00m\n\u001b[0;32m---> 26\u001b[0m     zqFF[i] \u001b[38;5;241m=\u001b[39m \u001b[43minterp_func\u001b[49m\u001b[43m(\u001b[49m\u001b[43mTqFF\u001b[49m\u001b[43m)\u001b[49m\n\u001b[1;32m     28\u001b[0m     tt[i]\u001b[38;5;241m=\u001b[39mt_intv\u001b[38;5;241m*\u001b[39mk\n\u001b[1;32m     31\u001b[0m k\u001b[38;5;241m=\u001b[39m\u001b[38;5;241m0\u001b[39m\n",
      "File \u001b[0;32m~/opt/anaconda3/envs/astromodeling/lib/python3.9/site-packages/scipy/interpolate/_polyint.py:80\u001b[0m, in \u001b[0;36m_Interpolator1D.__call__\u001b[0;34m(self, x)\u001b[0m\n\u001b[1;32m     59\u001b[0m \u001b[38;5;250m\u001b[39m\u001b[38;5;124;03m\"\"\"\u001b[39;00m\n\u001b[1;32m     60\u001b[0m \u001b[38;5;124;03mEvaluate the interpolant\u001b[39;00m\n\u001b[1;32m     61\u001b[0m \n\u001b[0;32m   (...)\u001b[0m\n\u001b[1;32m     77\u001b[0m \n\u001b[1;32m     78\u001b[0m \u001b[38;5;124;03m\"\"\"\u001b[39;00m\n\u001b[1;32m     79\u001b[0m x, x_shape \u001b[38;5;241m=\u001b[39m \u001b[38;5;28mself\u001b[39m\u001b[38;5;241m.\u001b[39m_prepare_x(x)\n\u001b[0;32m---> 80\u001b[0m y \u001b[38;5;241m=\u001b[39m \u001b[38;5;28;43mself\u001b[39;49m\u001b[38;5;241;43m.\u001b[39;49m\u001b[43m_evaluate\u001b[49m\u001b[43m(\u001b[49m\u001b[43mx\u001b[49m\u001b[43m)\u001b[49m\n\u001b[1;32m     81\u001b[0m \u001b[38;5;28;01mreturn\u001b[39;00m \u001b[38;5;28mself\u001b[39m\u001b[38;5;241m.\u001b[39m_finish_y(y, x_shape)\n",
      "File \u001b[0;32m~/opt/anaconda3/envs/astromodeling/lib/python3.9/site-packages/scipy/interpolate/_interpolate.py:752\u001b[0m, in \u001b[0;36minterp1d._evaluate\u001b[0;34m(self, x_new)\u001b[0m\n\u001b[1;32m    750\u001b[0m y_new \u001b[38;5;241m=\u001b[39m \u001b[38;5;28mself\u001b[39m\u001b[38;5;241m.\u001b[39m_call(\u001b[38;5;28mself\u001b[39m, x_new)\n\u001b[1;32m    751\u001b[0m \u001b[38;5;28;01mif\u001b[39;00m \u001b[38;5;129;01mnot\u001b[39;00m \u001b[38;5;28mself\u001b[39m\u001b[38;5;241m.\u001b[39m_extrapolate:\n\u001b[0;32m--> 752\u001b[0m     below_bounds, above_bounds \u001b[38;5;241m=\u001b[39m \u001b[38;5;28;43mself\u001b[39;49m\u001b[38;5;241;43m.\u001b[39;49m\u001b[43m_check_bounds\u001b[49m\u001b[43m(\u001b[49m\u001b[43mx_new\u001b[49m\u001b[43m)\u001b[49m\n\u001b[1;32m    753\u001b[0m     \u001b[38;5;28;01mif\u001b[39;00m \u001b[38;5;28mlen\u001b[39m(y_new) \u001b[38;5;241m>\u001b[39m \u001b[38;5;241m0\u001b[39m:\n\u001b[1;32m    754\u001b[0m         \u001b[38;5;66;03m# Note fill_value must be broadcast up to the proper size\u001b[39;00m\n\u001b[1;32m    755\u001b[0m         \u001b[38;5;66;03m# and flattened to work here\u001b[39;00m\n\u001b[1;32m    756\u001b[0m         y_new[below_bounds] \u001b[38;5;241m=\u001b[39m \u001b[38;5;28mself\u001b[39m\u001b[38;5;241m.\u001b[39m_fill_value_below\n",
      "File \u001b[0;32m~/opt/anaconda3/envs/astromodeling/lib/python3.9/site-packages/scipy/interpolate/_interpolate.py:786\u001b[0m, in \u001b[0;36minterp1d._check_bounds\u001b[0;34m(self, x_new)\u001b[0m\n\u001b[1;32m    784\u001b[0m \u001b[38;5;28;01mif\u001b[39;00m \u001b[38;5;28mself\u001b[39m\u001b[38;5;241m.\u001b[39mbounds_error \u001b[38;5;129;01mand\u001b[39;00m above_bounds\u001b[38;5;241m.\u001b[39many():\n\u001b[1;32m    785\u001b[0m     above_bounds_value \u001b[38;5;241m=\u001b[39m x_new[np\u001b[38;5;241m.\u001b[39margmax(above_bounds)]\n\u001b[0;32m--> 786\u001b[0m     \u001b[38;5;28;01mraise\u001b[39;00m \u001b[38;5;167;01mValueError\u001b[39;00m(\u001b[38;5;124m\"\u001b[39m\u001b[38;5;124mA value (\u001b[39m\u001b[38;5;132;01m{}\u001b[39;00m\u001b[38;5;124m) in x_new is above \u001b[39m\u001b[38;5;124m\"\u001b[39m\n\u001b[1;32m    787\u001b[0m                      \u001b[38;5;124m\"\u001b[39m\u001b[38;5;124mthe interpolation range\u001b[39m\u001b[38;5;124m'\u001b[39m\u001b[38;5;124ms maximum value (\u001b[39m\u001b[38;5;132;01m{}\u001b[39;00m\u001b[38;5;124m).\u001b[39m\u001b[38;5;124m\"\u001b[39m\n\u001b[1;32m    788\u001b[0m                      \u001b[38;5;241m.\u001b[39mformat(above_bounds_value, \u001b[38;5;28mself\u001b[39m\u001b[38;5;241m.\u001b[39mx[\u001b[38;5;241m-\u001b[39m\u001b[38;5;241m1\u001b[39m]))\n\u001b[1;32m    790\u001b[0m \u001b[38;5;66;03m# !! Should we emit a warning if some values are out of bounds?\u001b[39;00m\n\u001b[1;32m    791\u001b[0m \u001b[38;5;66;03m# !! matlab does not.\u001b[39;00m\n\u001b[1;32m    792\u001b[0m \u001b[38;5;28;01mreturn\u001b[39;00m below_bounds, above_bounds\n",
      "\u001b[0;31mValueError\u001b[0m: A value (271.0) in x_new is above the interpolation range's maximum value (270.98864231881095)."
     ]
    }
   ],
   "source": [
    "colcount=1\n",
    "if any(element == 1 for element in col_incl):\n",
    "    l=runtime                  # runtime [yr]\n",
    "    k=0\n",
    "    zqFF=np.zeros(l)\n",
    "    zq_1=np.zeros(l)\n",
    "    zqPF=np.zeros(l)\n",
    "    temp=np.zeros((nocell,l))\n",
    "    tt=np.arange(1, l + 1, t_intv) \n",
    "    tt_shift = np.arange(1, l, t_intv)\n",
    "    aggr_rateFF = np.zeros((1,l-1))\n",
    "    aggr_rate_1 = np.zeros((1,l-1))\n",
    "    aggr_ratePF = np.zeros((1,l-1))\n",
    "\n",
    "    for i in range(l):\n",
    "        k+=1\n",
    "        temp[0:nocell,k-1]=T_matx_0_1[0:nocell,k-1]             ### use right T_matx\n",
    "\n",
    "        # Transpose the temperature data for interpolation\n",
    "        transposed_temp = np.transpose(temp[0:nocell_1, k-1])\n",
    "\n",
    "        # Create an interpolation function\n",
    "        interp_func = interp1d(transposed_temp, z[0:nocell_1], kind='linear')\n",
    "\n",
    "        # Interpolate the value\n",
    "        zqFF[i] = interp_func(TqFF)\n",
    "        \n",
    "        tt[i]=t_intv*k\n",
    "\n",
    "\n",
    "    k=0\n",
    "    for i in range(l):\n",
    "        k+=1\n",
    "        temp[0:nocell,k-1]=T_matx_0_1[0:nocell,k-1]             ### use right T_matx\n",
    "\n",
    "        # Transpose the temperature data for interpolation\n",
    "        transposed_temp = np.transpose(temp[0:nocell_1, k-1])\n",
    "\n",
    "        # Create an interpolation function\n",
    "        interp_func = interp1d(transposed_temp, z[0:nocell_1], kind='linear')\n",
    "\n",
    "        # Interpolate the value\n",
    "        zq_1[i] = interp_func(Tq_1)\n",
    "        \n",
    "        tt[i]=t_intv*k\n",
    "\n",
    "    k=0\n",
    "    for i in range(l):\n",
    "        k+=1\n",
    "        temp[0:nocell,k-1]=T_matx_0_1[0:nocell,k-1]             ### use right T_matx\n",
    "\n",
    "        # Transpose the temperature data for interpolation\n",
    "        transposed_temp = np.transpose(temp[0:nocell_1, k-1])\n",
    "\n",
    "        # Create an interpolation function\n",
    "        interp_func = interp1d(transposed_temp, z[0:nocell_1], kind='linear')\n",
    "\n",
    "        # Interpolate the value\n",
    "        zqPF[i] = interp_func(TqPF)\n",
    "        \n",
    "        tt[i]=t_intv*k\n",
    "    \n",
    "    colcount+=1\n",
    "    presentFFdepth[colcount]=zqFF[len(zqFF)-1]\n",
    "    presentPFdepth[colcount]=zqPF[len(zqPF)-1]\n",
    "    DtoDF[colcount]=Dcol1\n",
    "\n",
    "    no_points=np.size(zqFF)\n",
    "    tt_shifted = tt - 0.5 * t_intv\n",
    "    tt_shift = np.zeros(no_points - 1)\n",
    "    tt_shift[0:(no_points - 1)] = tt_shifted[1:no_points]\n",
    "    tt_shift_BP = np.flip(tt_shift)\n",
    "    tt_flip = np.flip(tt)\n",
    "\n",
    "    for ii in range(len(zqFF)-1):\n",
    "        aggr_rateFF[ii] = (zqFF[ii + 1] - zqFF[ii]) / t_intv\n",
    "\n",
    "    for ii in range(len(zqFF)-1):\n",
    "        aggr_rate_1[ii] = (zq_1[ii + 1] - zq_1[ii]) / t_intv\n",
    "\n",
    "    for ii in range(len(zqFF)-1):\n",
    "        aggr_ratePF[ii] = (zqPF[ii + 1] - zqPF[ii]) / t_intv\n",
    "\n",
    "    presentAggrRate[colcount]=aggr_rate_1[len(aggr_rate_1)-1]\n",
    "  \n",
    "\n",
    "    #presentAggrRate[colcount]=aggr_rate_1[len(aggr_rate_1)]\n",
    "    \n",
    "    ### Freezing front and PF depth\n",
    "    plt.plot(tt_flip,zqFF,'-.')\n",
    "    plt.plot(tt_flip,zqPF,'-.')\n",
    "    plt.title('Freezing front and permafrost depth - Zone 0-1')\n",
    "    plt.gca().invert_yaxis()\n",
    "    plt.xlabel('Time [yr BP]')\n",
    "    plt.ylabel('Depth [m]')\n",
    "\n",
    "    ### Aggradation rate\n",
    "    plt.plot(tt_shift_BP,aggr_rateFF,'b--')\n",
    "    plt.plot(tt_shift_BP,aggr_rate_1,'k')\n",
    "    plt.plot(tt_shift_BP,aggr_ratePF,'r--')\n",
    "    plt.xlabel('Time [yr BP]')\n",
    "    plt.ylabel('Rate [m/yr]')\n",
    "    plt.title('Aggradation rate - Zone 0-1')\n"
   ]
  },
  {
   "cell_type": "markdown",
   "id": "c120576a",
   "metadata": {},
   "source": [
    "### This code was working (below), but now I am getting some weird interpolation error."
   ]
  },
  {
   "cell_type": "code",
   "execution_count": 17,
   "id": "15306d6f",
   "metadata": {},
   "outputs": [],
   "source": [
    "TqFF= 271 #K, freezing front temp\n",
    "Tq_1= 272 #not sure what this is\n",
    "TqPF= 273 #permafrost temp\n",
    "t_intv=1         ### Time interval between columns in T_matx [yr]\n",
    "nocell_1=nocell-1\n",
    "\n",
    "Dcol0=0 #not sure what these are \n",
    "Dcol1=615\n",
    "Dcol2=1965\n",
    "Dcol3=3375\n",
    "Dcol4=4505\n",
    "Dcol5=5220\n",
    "Dcol6=5670\n",
    "Dcol7=6020\n",
    "Dcol8=6570\n",
    "Dcol9=7337.5\n",
    "Dcol10=8712.5\n",
    "Dcol11=12305\n",
    "Dcol12=15000\n",
    "DcolFar=18000    ### value not used\n",
    "\n",
    "\n",
    "presentFFdepth = np.empty(nocell)\n",
    "presentPFdepth = np.empty(nocell)\n",
    "presentAggrRate = np.empty(nocell)\n",
    "DtoDF = np.empty(nocell)\n",
    "\n",
    "presentFFdepth[0]=0\n",
    "presentPFdepth[0]=0\n",
    "presentAggrRate[0]=0\n",
    "DtoDF[0]=0\n",
    "\n",
    "temp = np.zeros((nocell,runtime))"
   ]
  },
  {
   "cell_type": "code",
   "execution_count": 18,
   "id": "1857b61a",
   "metadata": {},
   "outputs": [
    {
     "data": {
      "image/png": "[encoded data removed]",
      "text/plain": [
       "<Figure size 800x1000 with 2 Axes>"
      ]
     },
     "metadata": {},
     "output_type": "display_data"
    }
   ],
   "source": [
    "colcount = 1\n",
    "\n",
    "for col in col_incl:\n",
    "    if col==1:\n",
    "        l = runtime  # Runtime [yr]\n",
    "        k = 0\n",
    "        zqFF = np.zeros(l)\n",
    "        zq_1 = np.zeros(l)\n",
    "        zqPF = np.zeros(l)\n",
    "        temp = np.zeros((nocell, l))\n",
    "        tt = np.arange(1, l + 1, t_intv)\n",
    "        tt_shift = np.arange(1, l, t_intv)\n",
    "        aggr_rateFF = np.zeros(l-1)\n",
    "        aggr_rate_1 = np.zeros(l-1)\n",
    "        aggr_ratePF = np.zeros(l-1)\n",
    "\n",
    "        for i in range(l):\n",
    "            k += 1\n",
    "            temp[0:nocell, k-1] = T_matx_0_1[0:nocell, k-1]  # Use the appropriate T_matx\n",
    "\n",
    "            transposed_temp = np.transpose(temp[0:nocell_1, k-1]) # Switches rows and columns\n",
    "            interp_func = interp1d(transposed_temp, z[0:nocell_1], kind='linear')\n",
    "            \n",
    "            if TqFF < np.min(transposed_temp) or TqFF > np.max(transposed_temp):\n",
    "            # Handle the case of values outside the interpolation range\n",
    "            # For example, use the closest available data point for interpolation\n",
    "                interpolated_value = interp_func(np.clip(TqFF, np.min(transposed_temp), np.max(transposed_temp)))\n",
    "            else:\n",
    "                interpolated_value = interp_func(TqFF)\n",
    "\n",
    "            zqFF[i] = interpolated_value\n",
    "            tt[i] = t_intv * k\n",
    "\n",
    "        k = 0\n",
    "        for i in range(l):\n",
    "            k += 1\n",
    "            temp[0:nocell, k-1] = T_matx_0_1[0:nocell, k-1]  # Use the appropriate T_matx\n",
    "            \n",
    "            if Tq_1 < np.min(transposed_temp) or Tq_1 > np.max(transposed_temp):\n",
    "            # Handle the case of values outside the interpolation range\n",
    "            # For example, use the closest available data point for interpolation\n",
    "                interpolated_value = interp_func(np.clip(Tq_1, np.min(transposed_temp), np.max(transposed_temp)))\n",
    "            else:\n",
    "                interpolated_value = interp_func(Tq_1)\n",
    "\n",
    "\n",
    "            zq_1[i] = interpolated_value\n",
    "            tt[i] = t_intv * k\n",
    "\n",
    "        k = 0\n",
    "        for i in range(l):\n",
    "            k += 1\n",
    "            temp[0:nocell, k-1] = T_matx_0_1[0:nocell, k-1]  # Use the appropriate T_matx\n",
    "            \n",
    "            if TqPF < np.min(transposed_temp) or TqPF > np.max(transposed_temp):\n",
    "            # Handle the case of values outside the interpolation range\n",
    "            # For example, use the closest available data point for interpolation\n",
    "                interpolated_value = interp_func(np.clip(TqPF, np.min(transposed_temp), np.max(transposed_temp)))\n",
    "            else:\n",
    "                interpolated_value = interp_func(TqPF)\n",
    "\n",
    "            zqPF[i] = interpolated_value\n",
    "\n",
    "        colcount += 1\n",
    "        presentFFdepth[colcount]=zqFF[len(zqFF)-1]\n",
    "        presentPFdepth[colcount]=zqPF[len(zqPF)-1]\n",
    "        DtoDF[colcount]=Dcol1\n",
    "\n",
    "        no_points = len(zqFF)\n",
    "        tt_shifted = tt - 0.5 * t_intv\n",
    "        tt_shift[0:(no_points - 1)] = tt_shifted[1:no_points]\n",
    "        tt_shift_BP = np.flip(tt_shift)\n",
    "        tt_flip = np.flip(tt)\n",
    "\n",
    "        for ii in range(len(zqFF)-1):\n",
    "            aggr_rateFF[ii] = (zqFF[ii + 1] - zqFF[ii]) / t_intv\n",
    "\n",
    "        for ii in range(len(zqFF)-1):\n",
    "            aggr_rate_1[ii] = (zq_1[ii + 1] - zq_1[ii]) / t_intv\n",
    "\n",
    "        for ii in range(len(zqFF)-1):\n",
    "            aggr_ratePF[ii] = (zqPF[ii + 1] - zqPF[ii]) / t_intv\n",
    "\n",
    "        presentAggrRate[colcount]=aggr_rateFF[len(aggr_rateFF)-1]\n",
    "\n",
    "# Plotting\n",
    "fig, axes = plt.subplots(nrows=2, ncols=1, figsize=(8, 10))\n",
    "\n",
    "# Plot the Freezing front and PF depth data in the first subplot\n",
    "axes[0].plot(tt, zqFF, '-.', label='Freezing Front')\n",
    "axes[0].plot(tt, zqPF, '-.', label='Permafrost Front')\n",
    "axes[0].set_title('Freezing front and permafrost depth - Zone 0-1')\n",
    "axes[0].invert_yaxis()\n",
    "axes[0].set_xlabel('Elapsed Time [yr]')\n",
    "axes[0].set_ylabel('Depth [m]')\n",
    "axes[0].legend(loc='upper left')\n",
    "axes[0].set_ylim(grid_depth+100, 0)\n",
    "\n",
    "# Plot the Aggradation rate data in the second subplot\n",
    "axes[1].plot(tt_shift, aggr_rateFF, 'k')\n",
    "axes[1].set_title('FF Aggradation rate - Zone 0-1')\n",
    "axes[1].set_xlabel('Elapsed Time [yr]')\n",
    "axes[1].set_ylabel('Rate [m/yr]')\n",
    "#axes[1].legend(loc='upper right')\n",
    "\n",
    "# Adjust layout and show the plots\n",
    "plt.tight_layout()\n",
    "plt.show()"
   ]
  },
  {
   "cell_type": "code",
   "execution_count": null,
   "id": "29e43c03",
   "metadata": {},
   "outputs": [],
   "source": [
    "#current problem: no permafrost aggradation\n",
    "#this is bc zq_1 and zqPF don't change at all. I think this is still an interpolation issue.\n",
    "#maybe not a problem—I think we only have to track the freezing front"
   ]
  },
  {
   "cell_type": "code",
   "execution_count": 18,
   "id": "e10d8209",
   "metadata": {},
   "outputs": [
    {
     "name": "stdout",
     "output_type": "stream",
     "text": [
      "[ 18.22483496  25.08997356  30.31763543 ... 598.         598.\n",
      " 598.        ]\n"
     ]
    }
   ],
   "source": [
    "print(zqFF)"
   ]
  },
  {
   "cell_type": "code",
   "execution_count": 19,
   "id": "b1c25741",
   "metadata": {},
   "outputs": [
    {
     "name": "stdout",
     "output_type": "stream",
     "text": [
      "[598. 598. 598. ... 598. 598. 598.]\n"
     ]
    }
   ],
   "source": [
    "print(zqPF)"
   ]
  },
  {
   "cell_type": "markdown",
   "id": "5a9c64e1",
   "metadata": {},
   "source": [
    "## Final PF and FF depths"
   ]
  },
  {
   "cell_type": "code",
   "execution_count": 21,
   "id": "2fe1e967",
   "metadata": {},
   "outputs": [
    {
     "data": {
      "text/plain": [
       "<matplotlib.legend.Legend at 0x1447e2c40>"
      ]
     },
     "execution_count": 21,
     "metadata": {},
     "output_type": "execute_result"
    },
    {
     "data": {
      "image/png": "[encoded data removed]",
      "text/plain": [
       "<Figure size 640x480 with 1 Axes>"
      ]
     },
     "metadata": {},
     "output_type": "display_data"
    }
   ],
   "source": [
    "#the DtoDF variable was used in Hornum 2020 to show how ff and pf depths related to distance to delta front at their field site\n",
    "plt.plot(DtoDF, presentFFdepth, c='blue', label='Final FF Depth')\n",
    "plt.plot(DtoDF, presentPFdepth, c='red', label='Final PF Depth')\n",
    "plt.xlabel('Distance to delta front [m]')\n",
    "plt.ylabel('Depth [m]')\n",
    "plt.title('Permafrost and freezing front depths')\n",
    "plt.gca().invert_yaxis()\n",
    "plt.legend(loc='upper right')"
   ]
  },
  {
   "cell_type": "markdown",
   "id": "9dcbc894",
   "metadata": {},
   "source": [
    "## Final Aggradation Rate and Recharge Equivalent"
   ]
  },
  {
   "cell_type": "code",
   "execution_count": 22,
   "id": "43d16fd0",
   "metadata": {},
   "outputs": [
    {
     "data": {
      "text/plain": [
       "Text(0.5, 1.0, 'Aggradation rate and recharge equivalent')"
      ]
     },
     "execution_count": 22,
     "metadata": {},
     "output_type": "execute_result"
    },
    {
     "data": {
      "image/png": "[encoded data removed]",
      "text/plain": [
       "<Figure size 640x480 with 1 Axes>"
      ]
     },
     "metadata": {},
     "output_type": "display_data"
    }
   ],
   "source": [
    "plt.plot(DtoDF[2:], presentAggrRate[2:], c='blue')\n",
    "plt.xlabel('Distance to delta front [m]')\n",
    "plt.ylabel('Rate [m/yr]')\n",
    "plt.title('Aggradation rate and recharge equivalent')"
   ]
  },
  {
   "cell_type": "code",
   "execution_count": null,
   "id": "1c8bcf30",
   "metadata": {},
   "outputs": [],
   "source": [
    "# next steps: add in temp-dependent material properties? play with diff layers? Investigate FF and PF depths "
   ]
  }
 ],
 "metadata": {
  "kernelspec": {
   "display_name": "Python 3 (ipykernel)",
   "language": "python",
   "name": "python3"
  },
  "language_info": {
   "codemirror_mode": {
    "name": "ipython",
    "version": 3
   },
   "file_extension": ".py",
   "mimetype": "text/x-python",
   "name": "python",
   "nbconvert_exporter": "python",
   "pygments_lexer": "ipython3",
   "version": "3.9.15"
  }
 },
 "nbformat": 4,
 "nbformat_minor": 5
}
