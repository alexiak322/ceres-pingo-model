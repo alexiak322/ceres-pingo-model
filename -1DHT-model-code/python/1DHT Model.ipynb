{
 "cells": [
  {
   "cell_type": "markdown",
   "id": "93852fb1-0d56-45cd-aa0b-ded85986970e",
   "metadata": {},
   "source": [
    "## Adapting the 1DHT model from Hornum et al. (2020) from MATLAB to Python and changing material properties to fit Ceres."
   ]
  },
  {
   "cell_type": "code",
   "execution_count": 2,
   "id": "0aebd6c0",
   "metadata": {},
   "outputs": [
    {
     "ename": "ModuleNotFoundError",
     "evalue": "No module named 'line_profiler'",
     "output_type": "error",
     "traceback": [
      "\u001b[0;31m---------------------------------------------------------------------------\u001b[0m",
      "\u001b[0;31mModuleNotFoundError\u001b[0m                       Traceback (most recent call last)",
      "Cell \u001b[0;32mIn[2], line 7\u001b[0m\n\u001b[1;32m      5\u001b[0m \u001b[38;5;28;01mimport\u001b[39;00m \u001b[38;5;21;01mmatplotlib\u001b[39;00m\u001b[38;5;21;01m.\u001b[39;00m\u001b[38;5;21;01mpyplot\u001b[39;00m \u001b[38;5;28;01mas\u001b[39;00m \u001b[38;5;21;01mplt\u001b[39;00m\n\u001b[1;32m      6\u001b[0m \u001b[38;5;28;01mimport\u001b[39;00m \u001b[38;5;21;01mtime\u001b[39;00m\n\u001b[0;32m----> 7\u001b[0m \u001b[38;5;28;01mfrom\u001b[39;00m \u001b[38;5;21;01mline_profiler\u001b[39;00m \u001b[38;5;28;01mimport\u001b[39;00m LineProfiler\n",
      "\u001b[0;31mModuleNotFoundError\u001b[0m: No module named 'line_profiler'"
     ]
    }
   ],
   "source": [
    "import numpy as np\n",
    "from scipy.interpolate import interp1d\n",
    "import pandas as pd\n",
    "import matplotlib\n",
    "import matplotlib.pyplot as plt\n",
    "import time\n",
    "#from line_profiler import LineProfiler"
   ]
  },
  {
   "cell_type": "markdown",
   "id": "5966d2fa-cb5b-47d9-b94a-1fe0b3fcea68",
   "metadata": {},
   "source": [
    "### Constants and Material Properties"
   ]
  },
  {
   "cell_type": "code",
   "execution_count": 4,
   "id": "525aafba",
   "metadata": {},
   "outputs": [
    {
     "name": "stdout",
     "output_type": "stream",
     "text": [
      "301\n"
     ]
    }
   ],
   "source": [
    "toyr =60*60*24*365     # to year from s\n",
    "\n",
    "            # Thermal properties of water and ice (from Williams and Smith, 1989) %%%\n",
    "            \n",
    "p_w = 1000             # density [kg/m3]\n",
    "cp_w = 4180            # specific heat capacity [J/(kg*K)]\n",
    "k_w = 0.56*toyr # thermal conductivity [(J/yr)/(m K)]\n",
    "## NOTE TO MYSELF BC THIS HAS ALWAYS CONFUSED ME: normally, k is in units of W/mK (i.e., J/smK)\n",
    "## by multipling by the number of seconds in a year, the units get turned to J/(yr m K), so that one we multiply by our timestep\n",
    "## (1/20 yr), units cancel nicely to J/mK\n",
    "\n",
    "p_ice = 917\n",
    "cp_ice = 2100\n",
    "k_ice = 2.24*toyr\n",
    "L=333.6*1000           # Latent heat of fusion [J/kg]\n",
    "\n",
    "#Julie paper\n",
    "\n",
    "#silicate rock\n",
    "p_rock = 2430\n",
    "cp_rock = 2000\n",
    "k_rock = 2 * toyr\n",
    "\n",
    "#hydrated salt — not using this bc salt is being represented thru SFC Hydrohalite Schofield et al. 2014\n",
    "p_salt = 2200\n",
    "cp_salt = 920\n",
    "k_salt = 0.6 * toyr\n",
    "\n",
    "#p_boulder = (0.56*p_hyd)+(0.25*p_rock)+(0.19*p_salt)\n",
    "#cp_boulder = (0.56*cp_hyd)+(0.25*cp_rock)+(0.19*cp_salt)\n",
    "#k_boulder = (0.56*k_hyd)+(0.25*k_rock)+(0.19*k_salt)\n",
    "\n",
    "\n",
    "            ## Porosity and thermal properties of CERES materials ##\n",
    "            \n",
    "n_Sc=1                 # Porosity scenario is chosen here: 1=minimum n, 2=intermediate n, 3=maximum n\n",
    "nLob=[0.33, 0.45, 0.55, 0.66]    ## [min interm. max] Lobate (thermal model; 6B) ##\n",
    "nIce = [0, 0.2, 0.4] # Lee et al. 2005\n",
    "nQall=[0.3, 0.4, 0.5]    # [min interm. max]\n",
    "nSndall=[0.06, 0.1, 0.15]\n",
    "nShall=[0.08, 0.19, 0.3]\n",
    "\n",
    "nQ = nQall[n_Sc]        \n",
    "p_soilQ = 2400                     \n",
    "cp_soilQ = 850    \n",
    "k_soilQ = 0.5*toyr                 \n",
    "aQ=k_soilQ/(p_soilQ*cp_soilQ)\n",
    "\n",
    "nSnd =nSndall[n_Sc]       \n",
    "p_soilSnd =2600                 \n",
    "cp_soilSnd =900\n",
    "k_soilSnd =2.5*toyr\n",
    "aSnd=k_soilSnd/(p_soilSnd*cp_soilSnd)\n",
    "\n",
    "nSh =nShall[n_Sc]\n",
    "p_soilSh =2600\n",
    "cp_soilSh =800\n",
    "k_soilSh =1.5*toyr\n",
    "aSh=k_soilSh/(p_soilSh*cp_soilSh)\n",
    "\n",
    "\n",
    "                    ### Material 1 - Lobate\n",
    "#matrix material: clay (silicate ONLY)\n",
    "nL = nLob[n_Sc]   \n",
    "nI = nIce[n_Sc]\n",
    "p_soilL = p_rock       ## DENSITY (thermal model; 2B)             \n",
    "cp_soilL = cp_rock       ## HEAT CAPACITY; GRAB FROM JULIE'S DATABASE (this is going to be tricky with temperature dependence)    \n",
    "k_soilL = k_rock   ## THERMAL CONDUCTIVITY; GRAB FROM JULIE'S DATABASE (40% ice, 25% hydrates)       \n",
    "aQ=k_soilL/(p_soilL*cp_soilL) #THERMAL DIFFUSIVITY [m^2/yr]\n",
    "\n",
    "\n",
    "            ### Model parameters ###\n",
    "tstep=0.05         # time step [yr] this is the minimum time step with our material properties\n",
    "ts_1yr=1/tstep     # number of time steps in a year; 20\n",
    "dz=2               # cell size [m]\n",
    "grid_depth=600     ## grid depth, GRID SPANS 600m (depth of lobate flow) (domain constraints; 5B)\n",
    "z=np.arange(0,grid_depth+dz,dz) # cell nodes, 0,2,4,6 M ETC.\n",
    "nocell=len(z)    # number of cells\n",
    "w = 0.957725 #Hornum SFC constant\n",
    "print(nocell)"
   ]
  },
  {
   "cell_type": "markdown",
   "id": "bef4aaca-d8d4-45e9-b4d6-0db759e276af",
   "metadata": {},
   "source": [
    "### Hornum 2020 Model Validation"
   ]
  },
  {
   "cell_type": "code",
   "execution_count": 3,
   "id": "037868d0-258d-452d-b689-22b98e7c6987",
   "metadata": {},
   "outputs": [
    {
     "name": "stdout",
     "output_type": "stream",
     "text": [
      "[277.15    277.15    277.15    ... 278.4601  278.46005 278.46   ]\n",
      "[ 0.    0.05  0.1   0.15  0.2   0.25  0.3   0.35  0.4   0.45  0.5   0.55\n",
      "  0.6   0.65  0.7   0.75  0.8   0.85  0.9   0.95  1.    1.05  1.1   1.15\n",
      "  1.2   1.25  1.3   1.35  1.4   1.45  1.5   1.55  1.6   1.65  1.7   1.75\n",
      "  1.8   1.85  1.9   1.95  2.    2.05  2.1   2.15  2.2   2.25  2.3   2.35\n",
      "  2.4   2.45  2.5   2.55  2.6   2.65  2.7   2.75  2.8   2.85  2.9   2.95\n",
      "  3.    3.05  3.1   3.15  3.2   3.25  3.3   3.35  3.4   3.45  3.5   3.55\n",
      "  3.6   3.65  3.7   3.75  3.8   3.85  3.9   3.95  4.    4.05  4.1   4.15\n",
      "  4.2   4.25  4.3   4.35  4.4   4.45  4.5   4.55  4.6   4.65  4.7   4.75\n",
      "  4.8   4.85  4.9   4.95  5.    5.05  5.1   5.15  5.2   5.25  5.3   5.35\n",
      "  5.4   5.45  5.5   5.55  5.6   5.65  5.7   5.75  5.8   5.85  5.9   5.95\n",
      "  6.    6.05  6.1   6.15  6.2   6.25  6.3   6.35  6.4   6.45  6.5   6.55\n",
      "  6.6   6.65  6.7   6.75  6.8   6.85  6.9   6.95  7.    7.05  7.1   7.15\n",
      "  7.2   7.25  7.3   7.35  7.4   7.45  7.5   7.55  7.6   7.65  7.7   7.75\n",
      "  7.8   7.85  7.9   7.95  8.    8.05  8.1   8.15  8.2   8.25  8.3   8.35\n",
      "  8.4   8.45  8.5   8.55  8.6   8.65  8.7   8.75  8.8   8.85  8.9   8.95\n",
      "  9.    9.05  9.1   9.15  9.2   9.25  9.3   9.35  9.4   9.45  9.5   9.55\n",
      "  9.6   9.65  9.7   9.75  9.8   9.85  9.9   9.95 10.   10.05 10.1  10.15\n",
      " 10.2  10.25 10.3  10.35 10.4  10.45 10.5  10.55 10.6  10.65 10.7  10.75\n",
      " 10.8  10.85 10.9  10.95 11.   11.05 11.1  11.15 11.2  11.25 11.3  11.35\n",
      " 11.4  11.45 11.5  11.55 11.6  11.65 11.7  11.75 11.8  11.85 11.9  11.95\n",
      " 12.   12.05 12.1  12.15 12.2  12.25 12.3  12.35 12.4  12.45 12.5  12.55\n",
      " 12.6  12.65 12.7  12.75 12.8  12.85 12.9  12.95 13.   13.05 13.1  13.15\n",
      " 13.2  13.25 13.3  13.35 13.4  13.45 13.5  13.55 13.6  13.65 13.7  13.75\n",
      " 13.8  13.85 13.9  13.95 14.   14.05 14.1  14.15 14.2  14.25 14.3  14.35\n",
      " 14.4  14.45 14.5  14.55 14.6  14.65 14.7  14.75 14.8  14.85 14.9  14.95\n",
      " 15.   15.05 15.1  15.15 15.2  15.25 15.3  15.35 15.4  15.45 15.5  15.55\n",
      " 15.6  15.65 15.7  15.75 15.8  15.85 15.9  15.95 16.   16.05 16.1  16.15\n",
      " 16.2  16.25 16.3  16.35 16.4  16.45 16.5  16.55 16.6  16.65 16.7  16.75\n",
      " 16.8  16.85 16.9  16.95 17.   17.05 17.1  17.15 17.2  17.25 17.3  17.35\n",
      " 17.4  17.45 17.5  17.55 17.6  17.65 17.7  17.75 17.8  17.85 17.9  17.95\n",
      " 18.   18.05 18.1  18.15 18.2  18.25 18.3  18.35 18.4  18.45 18.5  18.55\n",
      " 18.6  18.65 18.7  18.75 18.8  18.85 18.9  18.95 19.   19.05 19.1  19.15\n",
      " 19.2  19.25 19.3  19.35 19.4  19.45 19.5  19.55 19.6  19.65 19.7  19.75\n",
      " 19.8  19.85 19.9  19.95 20.   20.05 20.1  20.15 20.2  20.25 20.3  20.35\n",
      " 20.4  20.45 20.5  20.55 20.6  20.65 20.7  20.75 20.8  20.85 20.9  20.95\n",
      " 21.   21.05 21.1  21.15 21.2  21.25 21.3  21.35 21.4  21.45 21.5  21.55\n",
      " 21.6  21.65 21.7  21.75 21.8  21.85 21.9  21.95 22.   22.05 22.1  22.15\n",
      " 22.2  22.25 22.3  22.35 22.4  22.45 22.5  22.55 22.6  22.65 22.7  22.75\n",
      " 22.8  22.85 22.9  22.95 23.   23.05 23.1  23.15 23.2  23.25 23.3  23.35\n",
      " 23.4  23.45 23.5  23.55 23.6  23.65 23.7  23.75 23.8  23.85 23.9  23.95\n",
      " 24.   24.05 24.1  24.15 24.2  24.25 24.3  24.35 24.4  24.45 24.5  24.55\n",
      " 24.6  24.65 24.7  24.75 24.8  24.85 24.9  24.95 25.  ]\n"
     ]
    }
   ],
   "source": [
    "Kv=273.15               # set to -273.15 if in Kelvin. 0 if in C\n",
    "T_gradient=1/40    # Thermal gradient\n",
    "T_0=0+Kv           # Initial surface temperature - NOT USED if temperature reconstruction is defined\n",
    "T_end=grid_depth*T_gradient+Kv # Initial temperature at bottom of grid - NOT USED in for loop\n",
    "T_ini=z*T_gradient+Kv # Initial temperature distribution\n",
    "T=np.zeros(nocell)\n",
    "\n",
    "TCurve_data=pd.read_csv('/Users/alexiakubas/Desktop/Ceres/1DHT_clone/-1DHT-model-code/HoloceneTemperatureCurve.txt', header=None) # 'HoloceneTemperatureCurve.txt' should be placed in same folder as this script\n",
    "T_ann10 = TCurve_data[1] + 273.15 #temperatures, dep variable\n",
    "tt_yr = TCurve_data[0] #years, indep variable\n",
    "\n",
    "ttt = np.arange(0, 11000+tstep, tstep) #do this for maximum runtime, can filter down later\n",
    "interp_function = interp1d(tt_yr, T_ann10, kind='linear', fill_value='extrapolate')\n",
    "\n",
    "T_ann10q = interp_function(ttt)    #These temperatures are used in the model for-loop\n",
    "print(T_ann10q)\n",
    "print(T_ini - 273.15)"
   ]
  },
  {
   "cell_type": "markdown",
   "id": "ba440108-fb04-4527-ae40-fa2213807d87",
   "metadata": {},
   "source": [
    "### Ceres Initial Temperature Profile"
   ]
  },
  {
   "cell_type": "code",
   "execution_count": 6,
   "id": "a6c1029d",
   "metadata": {
    "scrolled": true
   },
   "outputs": [
    {
     "name": "stdout",
     "output_type": "stream",
     "text": [
      "[273.15 273.15 273.15 273.15 273.15 273.15 273.15 273.15 273.15 273.15\n",
      " 273.15 273.15 273.15 273.15 273.15 273.15 273.15 273.15 273.15 273.15\n",
      " 273.15 273.15 273.15 273.15 273.15 273.15 273.15 273.15 273.15 273.15\n",
      " 273.15 273.15 273.15 273.15 273.15 273.15 273.15 273.15 273.15 273.15\n",
      " 273.15 273.15 273.15 273.15 273.15 273.15 273.15 273.15 273.15 273.15\n",
      " 273.15 273.15 273.15 273.15 273.15 273.15 273.15 273.15 273.15 273.15\n",
      " 273.15 273.15 273.15 273.15 273.15 273.15 273.15 273.15 273.15 273.15\n",
      " 273.15 273.15 273.15 273.15 273.15 273.15 273.15 273.15 273.15 273.15\n",
      " 273.15 273.15 273.15 273.15 273.15 273.15 273.15 273.15 273.15 273.15\n",
      " 273.15 273.15 273.15 273.15 273.15 273.15 273.15 273.15 273.15 273.15\n",
      " 273.15 273.15 273.15 273.15 273.15 273.15 273.15 273.15 273.15 273.15\n",
      " 273.15 273.15 273.15 273.15 273.15 273.15 273.15 273.15 273.15 273.15\n",
      " 273.15 273.15 273.15 273.15 273.15 273.15 273.15 273.15 273.15 273.15\n",
      " 273.15 273.15 273.15 273.15 273.15 273.15 273.15 273.15 273.15 273.15\n",
      " 273.15 273.15 273.15 273.15 273.15 273.15 273.15 273.15 273.15 273.15\n",
      " 273.15 273.15 273.15 273.15 273.15 273.15 273.15 273.15 273.15 273.15\n",
      " 273.15 273.15 273.15 273.15 273.15 273.15 273.15 273.15 273.15 273.15\n",
      " 273.15 273.15 273.15 273.15 273.15 273.15 273.15 273.15 273.15 273.15\n",
      " 273.15 273.15 273.15 273.15 273.15 273.15 273.15 273.15 273.15 273.15\n",
      " 273.15 273.15 273.15 273.15 273.15 273.15 273.15 273.15 273.15 273.15\n",
      " 273.15 273.15 273.15 273.15 273.15 273.15 273.15 273.15 273.15 273.15\n",
      " 273.15 273.15 273.15 273.15 273.15 273.15 273.15 273.15 273.15 273.15\n",
      " 273.15 273.15 273.15 273.15 273.15 273.15 273.15 273.15 273.15 273.15\n",
      " 273.15 273.15 273.15 273.15 273.15 273.15 273.15 273.15 273.15 273.15\n",
      " 273.15 273.15 273.15 273.15 273.15 273.15 273.15 273.15 273.15 273.15\n",
      " 273.15 273.15 273.15 273.15 273.15 273.15 273.15 273.15 273.15 273.15\n",
      " 273.15 273.15 273.15 273.15 273.15 273.15 273.15 273.15 273.15 273.15\n",
      " 273.15 273.15 273.15 273.15 273.15 273.15 273.15 273.15 273.15 273.15\n",
      " 273.15 273.15 273.15 273.15 273.15 273.15 273.15 273.15 273.15 273.15\n",
      " 273.15 273.15 273.15 273.15 273.15 273.15 273.15 273.15 273.15 273.15\n",
      " 273.15]\n"
     ]
    }
   ],
   "source": [
    "#Kv= -273.15              # set to -273.15 if in Kelvin. 0 if in C\n",
    "T_gradient=0.00273    ## Thermal gradient [K/m] (Raymond et al. 2020) (thermal model; 7B)\n",
    "#T_0=273           # Initial surface temperature - NOT USED if temperature reconstruction is defined\n",
    "#T_end=350 # Initial temperature at bottom of grid - NOT USED in for loop (estimate from Bowling)\n",
    "T_ini=np.zeros(nocell) # Initial temperature distribution, gives every cell node a temperature\n",
    "for i in range(nocell):\n",
    "    #if 0 <= i < 2:\n",
    "    #    T_ini[i] = 150.00\n",
    "    #elif 2 <= i < (nocell-1)/2:\n",
    "    #    T_ini[i] = T_ini[i-1] + 0.821 #K/m\n",
    "    #elif i == (nocell-1)/2:\n",
    "    #    T_ini[i] = 273.15\n",
    "    #elif i > (nocell-1)/2:\n",
    "    #    T_ini[i] = T_ini[i-1] - 0.821\n",
    "    #elif i == grid_depth-1:\n",
    "    #    T_ini[i] = 150.00\n",
    "    #else:\n",
    "    #    T_ini_1[i] = 300.00\n",
    "    T_ini[i] = 273.15\n",
    "\n",
    "#T_ini = [round(item, 3) for item in T_ini_1] #rounding all floats to the nearest hundredth to match with interpolated SFC\n",
    "print(T_ini)"
   ]
  },
  {
   "cell_type": "markdown",
   "id": "f2e7db7e-299e-4ddd-b814-bbdf8f07045f",
   "metadata": {},
   "source": [
    "### Ceres temperature reconstruction—for top temperature boundary condition"
   ]
  },
  {
   "cell_type": "code",
   "execution_count": 7,
   "id": "e7e2af4f",
   "metadata": {},
   "outputs": [],
   "source": [
    "# Ceres temperature reconstruction (just a .txt file) with 100k rows each with a temp of 150 K\n",
    "# Load the data from the text file\n",
    "\n",
    "TCurve_data = pd.read_csv('cerestempcurve.txt', header=None)\n",
    "#TCurve_data = pd.read_csv('cerestempcurve_rampeddown.csv', header=None)\n",
    "\n",
    "T_ann10 = TCurve_data[1] #temperatures, dep variable\n",
    "tt_yr = TCurve_data[0] #years, indep variable\n",
    "\n",
    "ttt = np.arange(0, 100000+tstep, tstep) #do this for maximum runtime, can filter down later\n",
    "interp_function = interp1d(tt_yr, T_ann10, kind='linear', fill_value='extrapolate')\n",
    "\n",
    "T_ann10q = interp_function(ttt) #interpolating the surface temperature so there is one for every time step\n",
    "#print(T_ann10q)"
   ]
  },
  {
   "cell_type": "markdown",
   "id": "92897358-df3a-4b6e-ae5b-e535c802dc83",
   "metadata": {},
   "source": [
    "### Defining functions for fw and dfw for different SFCs"
   ]
  },
  {
   "cell_type": "code",
   "execution_count": 8,
   "id": "2440e5ce-10f7-4118-8112-c6c805621ddc",
   "metadata": {},
   "outputs": [],
   "source": [
    "# Use these functions for SFC equation from Sizemore et al. (2015)\n",
    "#T_f = 0.01050 #0.55 porosity\n",
    "T_f = 0.05102 #0.45 porosity\n",
    "beta = 0.254\n",
    "\n",
    "def calculate_fw_Siz(T, T_f, beta):\n",
    "    if T >= 273.15-T_f:\n",
    "        return 1.0  # Water is fully liquid\n",
    "    elif 265 <= T < 273.15-T_f:\n",
    "        return (T_f / (273.15 - T)) ** beta\n",
    "    elif 240 <= T < 265:\n",
    "        return (0.011024*T) - 2.64576 #0.45 porosity\n",
    "        #return (0.00738*T) - 1.7712 #0.55 porosity\n",
    "    elif T < 240:\n",
    "        return 0.0 #Water is fully frozen\n",
    "\n",
    "def calculate_dfw_Siz(T, T_f, beta):\n",
    "    if T >= 273.15-T_f:\n",
    "        return 0.0  # No change in liquid water fraction above melting point\n",
    "    elif 265 <= T < 273.15-T_f:\n",
    "        return (beta * T_f**beta) / ((273.15 - T) ** (beta + 1))\n",
    "    elif 240 <= T < 265:     \n",
    "        return 0.011024 #0.45 porosity\n",
    "        #return 0.00738 #0.55 porosity\n",
    "    elif T < 240:\n",
    "        return 0.0 #Water is fully frozen"
   ]
  },
  {
   "cell_type": "code",
   "execution_count": 9,
   "id": "c59269df-e7cd-4ef3-8be4-beb3fe7a4a25",
   "metadata": {},
   "outputs": [],
   "source": [
    "# Use these functions for SFC equation from Hesse & Castillo (2018)\n",
    "def calculate_fw_HC(T):\n",
    "    if T >= 273.15:\n",
    "        return 1.0  # Water is fully liquid\n",
    "    elif 245 <= T < 273.15:\n",
    "        return (1/28.15)*(T-245)\n",
    "    elif T < 245:\n",
    "        return 0.0 #Water is fully frozen\n",
    "        \n",
    "\n",
    "def calculate_dfw_HC(T):\n",
    "    if T >= 273.15:\n",
    "        return 0.0  # No change in liquid water fraction above melting point\n",
    "    elif 245 <= T < 273.15:\n",
    "        return (1/28.15)\n",
    "    elif T < 245:\n",
    "        return 0.0 #Water is fully frozen"
   ]
  },
  {
   "cell_type": "code",
   "execution_count": 10,
   "id": "f0ccdc89-77a8-4a7d-a34b-a25eb4c70f28",
   "metadata": {},
   "outputs": [],
   "source": [
    "# Use these functions for SFC equation from Hornum et al. (2020)\n",
    "def calculate_fw_Hornum(T):\n",
    "    if T >= 273.15:\n",
    "        return 1.0  # Water is fully liquid\n",
    "    else:\n",
    "        return np.exp(-((T-273.15)/w)**2)\n",
    "        \n",
    "\n",
    "def calculate_dfw_Hornum(T):\n",
    "    if T >= 273.15:\n",
    "        return 0.0  # No change in liquid water fraction above melting point\n",
    "    else:\n",
    "        return -2 * (T-273.15) * np.exp(-((T-273.15) / w) ** 2)"
   ]
  },
  {
   "cell_type": "code",
   "execution_count": 12,
   "id": "543f4ea3-78ff-42b2-b4c0-188d512ad91e",
   "metadata": {},
   "outputs": [
    {
     "name": "stderr",
     "output_type": "stream",
     "text": [
      "/var/folders/q6/f8_x77hj45d1kngmhhrc3k9r0000gn/T/ipykernel_11431/1374447203.py:7: RuntimeWarning: invalid value encountered in power\n",
      "  plt.plot(test_temps[1650:1732], (0.05102 / ((273.15-0.05102) - test_temps[1650:1732])) ** beta, c='red')\n",
      "/var/folders/q6/f8_x77hj45d1kngmhhrc3k9r0000gn/T/ipykernel_11431/1374447203.py:21: RuntimeWarning: invalid value encountered in power\n",
      "  plt.plot(test_temps[1650:1732], (0.26489128561085595 / ((273.15-0.26489128561085595) - test_temps[1650:1732])) ** beta, c='purple')\n"
     ]
    },
    {
     "data": {
      "image/png": "[encoded data removed]",
      "text/plain": [
       "<Figure size 640x480 with 1 Axes>"
      ]
     },
     "metadata": {},
     "output_type": "display_data"
    }
   ],
   "source": [
    "test_temps = np.arange(100,300.1,.1)\n",
    "plt.plot(test_temps[0:1732], np.exp(-((test_temps[0:1732]-273.15)/w)**2), c='blue', label=\"SFC from Hornum et al. (2020)\")\n",
    "plt.plot(test_temps[1731:], np.ones(len(test_temps[1731:])), c='blue')\n",
    "\n",
    "plt.plot(test_temps[0:1401], np.zeros(len(test_temps[0:1401])), c='red', label=r'Inuvik Clay SFC from Sizemore et al. (2015), $\\phi = 0.45$ ')\n",
    "plt.plot(test_temps[1400:1651], (.011024*test_temps[1400:1651]) - 2.64576, c='red')\n",
    "plt.plot(test_temps[1650:1732], (0.05102 / ((273.15-0.05102) - test_temps[1650:1732])) ** beta, c='red')\n",
    "plt.plot(test_temps[1731:], np.ones(len(test_temps[1731:])), c='red')\n",
    "\n",
    "plt.plot(test_temps[0:1401], np.zeros(len(test_temps[0:1401])), c='orange', label=r'Inuvik Clay SFC from Sizemore et al. (2015), $\\phi = 0.55$ ')\n",
    "plt.plot(test_temps[1400:1651], (0.00738*test_temps[1400:1651]) - 1.7712, c='orange')\n",
    "plt.plot(test_temps[1650:1732], (0.01050 / ((273.15-0.01050) - test_temps[1650:1732])) ** beta, c='orange')\n",
    "plt.plot(test_temps[1731:], np.ones(len(test_temps[1731:])), c='orange')\n",
    "\n",
    "plt.plot(test_temps[0:1451], np.zeros(len(test_temps[0:1451])), c='green', label='SFC from Hesse & Castillo-Rogez (2018)')\n",
    "plt.plot(test_temps[1450:1732], (1/28.15)*(test_temps[1450:1732]-245), c='green')\n",
    "plt.plot(test_temps[1731:], np.ones(len(test_temps[1731:])), c='green')\n",
    "\n",
    "plt.plot(test_temps[0:1401], np.zeros(len(test_temps[0:1401])), c='purple', label=r'Inuvik Clay SFC from Sizemore et al. (2015), $\\phi = 0.35$ ')\n",
    "plt.plot(test_temps[1400:1651], 0.01675271295191878*test_temps[1400:1651]-0.01675271295191878*265+0.41881782379796945, c='purple')\n",
    "plt.plot(test_temps[1650:1732], (0.26489128561085595 / ((273.15-0.26489128561085595) - test_temps[1650:1732])) ** beta, c='purple')\n",
    "plt.plot(test_temps[1731:], np.ones(len(test_temps[1731:])), c='purple')\n",
    "\n",
    "plt.xlabel('Temperature [K]')\n",
    "plt.ylabel('Water Fraction')\n",
    "plt.legend(loc='center left', bbox_to_anchor=(1, 0.87))\n",
    "plt.title('Behavior of Different Soil Freezing Curves')\n",
    "plt.xlim(235,273.15)\n",
    "\n",
    "# Set the desired DPI (dots per inch)\n",
    "dpi = 300\n",
    "\n",
    "# Save the plot as a PNG file\n",
    "#plt.savefig('/Users/alexiakubas/Desktop/Ceres/modelruns/SFC_plot.png', dpi=dpi, bbox_inches='tight')"
   ]
  },
  {
   "cell_type": "code",
   "execution_count": 11,
   "id": "8f7eca93-c474-451d-8e5f-7e8b68e14501",
   "metadata": {},
   "outputs": [
    {
     "data": {
      "text/plain": [
       "array([1731, 1732])"
      ]
     },
     "execution_count": 11,
     "metadata": {},
     "output_type": "execute_result"
    }
   ],
   "source": [
    "np.where(np.isclose(test_temps, 273.15, atol=0.11))[0]"
   ]
  },
  {
   "cell_type": "code",
   "execution_count": 12,
   "id": "877962b3-c922-4001-a6bf-cecaee5311e3",
   "metadata": {},
   "outputs": [
    {
     "data": {
      "text/plain": [
       "273.8999999999901"
      ]
     },
     "execution_count": 12,
     "metadata": {},
     "output_type": "execute_result"
    }
   ],
   "source": [
    "test_temps[1739]"
   ]
  },
  {
   "cell_type": "markdown",
   "id": "b41a33a1-4d7e-4f3d-8ce9-6a7cd7c7fcfe",
   "metadata": {},
   "source": [
    "### Assigning material IDs to different columns and defining runtime"
   ]
  },
  {
   "cell_type": "code",
   "execution_count": 13,
   "id": "20941230",
   "metadata": {},
   "outputs": [
    {
     "name": "stdout",
     "output_type": "stream",
     "text": [
      "[1. 1. 1. 1. 1. 1. 1. 1. 1. 1. 1. 1. 1. 1. 1. 1. 1. 1. 1. 1. 1. 1. 1. 1.\n",
      " 1. 1. 1. 1. 1. 1. 1. 1. 1. 1. 1. 1. 1. 1. 1. 1. 1. 1. 1. 1. 1. 1. 1. 1.\n",
      " 1. 1. 1. 1. 1. 1. 1. 1. 1. 1. 1. 1. 1. 1. 1. 1. 1. 1. 1. 1. 1. 1. 1. 1.\n",
      " 1. 1. 1. 1. 1. 1. 1. 1. 1. 1. 1. 1. 1. 1. 1. 1. 1. 1. 1. 1. 1. 1. 1. 1.\n",
      " 1. 1. 1. 1. 1. 1. 1. 1. 1. 1. 1. 1. 1. 1. 1. 1. 1. 1. 1. 1. 1. 1. 1. 1.\n",
      " 1. 1. 1. 1. 1. 1. 1. 1. 1. 1. 1. 1. 1. 1. 1. 1. 1. 1. 1. 1. 1. 1. 1. 1.\n",
      " 1. 1. 1. 1. 1. 1. 1. 1. 1. 1. 1. 1. 1. 1. 1. 1. 1. 1. 1. 1. 1. 1. 1. 1.\n",
      " 1. 1. 1. 1. 1. 1. 1. 1. 1. 1. 1. 1. 1. 1. 1. 1. 1. 1. 1. 1. 1. 1. 1. 1.\n",
      " 1. 1. 1. 1. 1. 1. 1. 1. 1. 1. 1. 1. 1. 1. 1. 1. 1. 1. 1. 1. 1. 1. 1. 1.\n",
      " 1. 1. 1. 1. 1. 1. 1. 1. 1. 1. 1. 1. 1. 1. 1. 1. 1. 1. 1. 1. 1. 1. 1. 1.\n",
      " 1. 1. 1. 1. 1. 1. 1. 1. 1. 1. 1. 1. 1. 1. 1. 1. 1. 1. 1. 1. 1. 1. 1. 1.\n",
      " 1. 1. 1. 1. 1. 1. 1. 1. 1. 1. 1. 1. 1. 1. 1. 1. 1. 1. 1. 1. 1. 1. 1. 1.\n",
      " 1. 1. 1. 1. 1. 1. 1. 1. 1. 1. 1. 1. 1.]\n"
     ]
    }
   ],
   "source": [
    "# 1=Lobate 2=Boulders 3=Ice\n",
    "onegrid=np.ones(nocell) # 1 x 301 matrix\n",
    "\n",
    "            #Hornum validation\n",
    "#Z0_1MatID=np.ones(nocell) #1=Q\n",
    "#Z0_1MatID[30:79]=2 #2=sandstone\n",
    "#Z0_1MatID[80:nocell]=3 #3=shale\n",
    "\n",
    "                # Material IDs ZONEs\n",
    "Z0_1MatID=np.ones(nocell)\n",
    "#Z0_1MatID[0]=3\n",
    "#Z0_1MatID[1]=3\n",
    "#Z0_1MatID[291:]=2 #boulders (bottom 20m)\n",
    "\n",
    "#Z1_2MatID=np.ones(nocell)\n",
    "#Z1_2MatID[0]=3\n",
    "#Z1_2MatID[1]=3\n",
    "#Z1_2MatID[251:]=2 #boulders (bottom 100m)\n",
    "\n",
    "            ### Creating one-vectors and empty matrices used in for-loop ###\n",
    "n_grid=np.zeros(nocell) # all of these have nocell elements -> all material properties define at nodes (1 x nocell matrix)\n",
    "p_soil=np.zeros(nocell)\n",
    "cp_soil=np.zeros(nocell)\n",
    "k_soil=np.zeros(nocell)\n",
    "\n",
    "df_w=np.zeros(nocell) ## CHANGE IN fraction of water in pore space\n",
    "k_eq=np.zeros(nocell) ## EQUIVALENT THERMAL CONDUCTIVITY\n",
    "C_eq=np.zeros(nocell)  ## EQUIVALENT HEAT CAPACITY\n",
    "a_eq=np.zeros(nocell)  ## EQUIVALENT THERMAL DIFFUSIVITY\n",
    "\n",
    "runtime = 6000\n",
    "\n",
    "T_matx_0_1=np.zeros((nocell,runtime)) ### CREATING EMPTY TEMP MATRICES FOR EACH ZONE'S RUN TIME (100000 yr)\n",
    "T_matx_0_1[:,0] = np.copy(T_ini)                                    ### add more as needed\n",
    "T_matx_1_2=np.zeros((nocell,runtime))\n",
    "T_matx_1_2[:,0] = np.copy(T_ini)\n",
    "print(Z0_1MatID)"
   ]
  },
  {
   "cell_type": "markdown",
   "id": "082e066f-2e3f-4f26-9a97-4e2a6565caac",
   "metadata": {},
   "source": [
    "### Initializing fraction arrays using desired SFC"
   ]
  },
  {
   "cell_type": "code",
   "execution_count": 14,
   "id": "03e8d25e",
   "metadata": {},
   "outputs": [
    {
     "name": "stdout",
     "output_type": "stream",
     "text": [
      "[1. 1. 1. 1. 1. 1. 1. 1. 1. 1. 1. 1. 1. 1. 1. 1. 1. 1. 1. 1. 1. 1. 1. 1.\n",
      " 1. 1. 1. 1. 1. 1. 1. 1. 1. 1. 1. 1. 1. 1. 1. 1. 1. 1. 1. 1. 1. 1. 1. 1.\n",
      " 1. 1. 1. 1. 1. 1. 1. 1. 1. 1. 1. 1. 1. 1. 1. 1. 1. 1. 1. 1. 1. 1. 1. 1.\n",
      " 1. 1. 1. 1. 1. 1. 1. 1. 1. 1. 1. 1. 1. 1. 1. 1. 1. 1. 1. 1. 1. 1. 1. 1.\n",
      " 1. 1. 1. 1. 1. 1. 1. 1. 1. 1. 1. 1. 1. 1. 1. 1. 1. 1. 1. 1. 1. 1. 1. 1.\n",
      " 1. 1. 1. 1. 1. 1. 1. 1. 1. 1. 1. 1. 1. 1. 1. 1. 1. 1. 1. 1. 1. 1. 1. 1.\n",
      " 1. 1. 1. 1. 1. 1. 1. 1. 1. 1. 1. 1. 1. 1. 1. 1. 1. 1. 1. 1. 1. 1. 1. 1.\n",
      " 1. 1. 1. 1. 1. 1. 1. 1. 1. 1. 1. 1. 1. 1. 1. 1. 1. 1. 1. 1. 1. 1. 1. 1.\n",
      " 1. 1. 1. 1. 1. 1. 1. 1. 1. 1. 1. 1. 1. 1. 1. 1. 1. 1. 1. 1. 1. 1. 1. 1.\n",
      " 1. 1. 1. 1. 1. 1. 1. 1. 1. 1. 1. 1. 1. 1. 1. 1. 1. 1. 1. 1. 1. 1. 1. 1.\n",
      " 1. 1. 1. 1. 1. 1. 1. 1. 1. 1. 1. 1. 1. 1. 1. 1. 1. 1. 1. 1. 1. 1. 1. 1.\n",
      " 1. 1. 1. 1. 1. 1. 1. 1. 1. 1. 1. 1. 1. 1. 1. 1. 1. 1. 1. 1. 1. 1. 1. 1.\n",
      " 1. 1. 1. 1. 1. 1. 1. 1. 1. 1. 1. 1. 1.]\n"
     ]
    }
   ],
   "source": [
    "# First, initialize the fraction arrays\n",
    "F_w = np.zeros(nocell)\n",
    "F_ice = np.zeros(nocell)\n",
    "f_w = np.zeros(nocell)\n",
    "f_ice = np.zeros(nocell)\n",
    "F_soil = np.zeros(nocell)\n",
    "\n",
    "for i in range(nocell): #len(T_ini) = nocell\n",
    "    if T_ini[i] >= 273.15:\n",
    "        f_w[i] = 1\n",
    "    else:\n",
    "        #f_w[i] = calculate_fw_HC(T_ini[i]) #Hesse & Castillo (2018)\n",
    "        #f_w[i] = calculate_fw_Siz(T_ini[i], T_f, beta) #Sizemore et al. (2015)\n",
    "        f_w[i] = calculate_fw_Hornum(T_ini[i]) #Hornum SFC\n",
    "\n",
    "#using f_w values, assign initial values of other fraction arrays\n",
    "for i in range(nocell):\n",
    "    f_ice[i] = 1 - f_w[i]\n",
    "    F_soil[i] = 1 - nL\n",
    "    F_w[i] = f_w[i] * nL\n",
    "    F_ice[i] = f_ice[i] * nL\n",
    "    \n",
    "\n",
    "#column-specific ice fraction arrays\n",
    "f_matx_0_1=np.zeros((nocell,runtime))\n",
    "f_matx_0_1[:,0] = np.copy(f_w)\n",
    "f_matx_1_2=np.zeros((nocell,runtime))\n",
    "f_matx_1_2[:,0] = np.copy(f_w)\n",
    "\n",
    "print(f_w)"
   ]
  },
  {
   "cell_type": "code",
   "execution_count": 15,
   "id": "8eb34973-44cb-4b36-87b1-cb85bedafdc4",
   "metadata": {},
   "outputs": [
    {
     "name": "stdout",
     "output_type": "stream",
     "text": [
      "[[3576182.4       0.        0.  ...       0.        0.        0. ]\n",
      " [3576182.4       0.        0.  ...       0.        0.        0. ]\n",
      " [3576182.4       0.        0.  ...       0.        0.        0. ]\n",
      " ...\n",
      " [3576182.4       0.        0.  ...       0.        0.        0. ]\n",
      " [3576182.4       0.        0.  ...       0.        0.        0. ]\n",
      " [3576182.4       0.        0.  ...       0.        0.        0. ]]\n"
     ]
    }
   ],
   "source": [
    "for i in range(nocell):\n",
    "    k_eq[i] = ((F_soil[i] * np.sqrt(k_soil[i])) + (F_w[i] * np.sqrt(k_w)) + (F_ice[i] * np.sqrt(k_ice))) ** 2\n",
    "    C_eq[i] = (F_soil[i] * p_soil[i] * cp_soil[i]) + (F_w[i] * p_w * cp_w) + (F_ice[i] * p_ice * (cp_ice + L * df_w[i]))\n",
    "    a_eq[i] = k_eq[i] / C_eq[i]\n",
    "\n",
    "k_eq_matx = np.zeros((nocell, runtime))\n",
    "C_eq_matx = np.zeros((nocell, runtime))\n",
    "a_eq_matx = np.zeros((nocell, runtime))\n",
    "\n",
    "k_eq_matx[:,0] = np.copy(k_eq)\n",
    "C_eq_matx[:,0] = np.copy(C_eq)\n",
    "a_eq_matx[:,0] = np.copy(a_eq)\n",
    "\n",
    "print(k_eq_matx)"
   ]
  },
  {
   "cell_type": "markdown",
   "id": "1d3d4518-a124-46cb-bb3c-8ad29f6729ac",
   "metadata": {},
   "source": [
    "### The numerical model. Code for column 2 is commented out."
   ]
  },
  {
   "cell_type": "code",
   "execution_count": 18,
   "id": "b92d2769",
   "metadata": {
    "scrolled": true
   },
   "outputs": [],
   "source": [
    "### Numerical Model ###\n",
    "from line_profiler import LineProfiler\n",
    "\n",
    "# Create a LineProfiler object\n",
    "profiler = LineProfiler()\n",
    "@profiler\n",
    "def model_run():\n",
    "    start_time = time.time()\n",
    "\n",
    "    col_incl=[1]       ### Specify which of the 12 columns (zones) to include in the ground temperature simulation (e.g. [1:12] (all), [4] (only one), [1 5 11] (several specific ones).\n",
    "    for col in col_incl:\n",
    "        if col==1:            ### Defining the column in use\n",
    "            runtime=6000      # Simulation runtime\n",
    "            materialid=np.copy(Z0_1MatID)\n",
    "        elif col==2:            ### Defining the column in use\n",
    "            runtime=500      # Simulation runtime\n",
    "            materialid=np.copy(Z1_2MatID)\n",
    "\n",
    "        material_properties = {1: (nL, p_soilL, cp_soilL, k_soilL),\\\n",
    "                               2: (nSnd, p_soilSnd, cp_soilSnd, k_soilSnd),\\\n",
    "                               3: (nSh, p_soilSh, cp_soilSh, k_soilSh)}\n",
    "\n",
    "        for ii in range(nocell):\n",
    "            if materialid[ii] in material_properties:\n",
    "                n_grid[ii], p_soil[ii], cp_soil[ii], k_soil[ii] = material_properties[materialid[ii]]\n",
    "            else:\n",
    "                print('error')\n",
    "\n",
    "        no_tstep = int(runtime / tstep)  # Total number of time steps, DIFFERENT FOR EACH ZONE\n",
    "\n",
    "        T_11 = np.copy(T_ann10q[:no_tstep + 1])  # Cutting temperature curve to simulation period\n",
    "        T_11 = np.flip(T_11)  # New T_1\n",
    "\n",
    "        ### stability criterion ###\n",
    "        # calculates the effective thermal diffusivity of the soil and ice material\n",
    "        # if stability < 0.5, model will proceed\n",
    "        k_s_ice = ((n_grid * np.sqrt(k_ice)) + ((1-n_grid) * np.sqrt(k_soil))) ** 2\n",
    "        C_s_ice = (n_grid * p_ice * cp_ice) + ((1 - n_grid) * p_soil * cp_soil)\n",
    "        a_s_ice = k_s_ice / C_s_ice\n",
    "        stability = (np.max(a_s_ice) * tstep / dz**2)\n",
    "\n",
    "        #temperature array used in numerical model\n",
    "        T = np.zeros((nocell, no_tstep))\n",
    "        T[:, 0] = np.copy(T_ini)\n",
    "\n",
    "        ### heat transfer loop starts\n",
    "        if col==1:\n",
    "            xT_ini = np.copy(T_ini)\n",
    "            k = 0 #time step count\n",
    "            l = 0 #year count\n",
    "            for t in range(no_tstep):\n",
    "                if stability > 0.5:\n",
    "                    print('stability is:', stability)\n",
    "                    break\n",
    "                k += 1\n",
    "                for i in range(1, nocell-1): #excluding top and bottom bc they have boundary conditions\n",
    "                    if xT_ini[i] < 100: #sanity check \n",
    "                        print(\"year =\", l, 'time step =', k)\n",
    "                        print(\"cell number:\", i, \"temperature:\", xT_ini[i])\n",
    "                        print(\"water fraction =\", f_w[i], \"dfw =\", df_w[i])\n",
    "                        break\n",
    "                    if xT_ini[i] >= 273.15:\n",
    "                        f_w[i] = 1\n",
    "                    else:\n",
    "                        #f_w[i] = calculate_fw_HC(xT_ini[i])\n",
    "                        #f_w[i] = calculate_fw_Siz(xT_ini[i], T_f, beta) #Sizemore et al. (2015)\n",
    "                        f_w[i] = calculate_fw_Hornum(xT_ini[i]) #Hornum SFC\n",
    "\n",
    "                    f_ice[i] = 1 - f_w[i]\n",
    "                    F_w[i] = f_w[i] * n_grid[i]\n",
    "                    F_ice[i] = f_ice[i] * n_grid[i]\n",
    "                    \n",
    "                    if xT_ini[i] >= 273.15:\n",
    "                        df_w[i] = 0\n",
    "                    else:\n",
    "                        #df_w[i] = calculate_dfw_HC(xT_ini[i])\n",
    "                        #df_w[i] = calculate_dfw_Siz(xT_ini[i], T_f, beta) #Sizemore et al. (2015)\n",
    "                        df_w[i] = calculate_dfw_Hornum(xT_ini[i]) #Hornum SFC\n",
    "\n",
    "                    #calculating equivalent material properties\n",
    "                    k_eq[i] = ((F_soil[i] * np.sqrt(k_soil[i])) + (F_w[i] * np.sqrt(k_w)) + (F_ice[i] * np.sqrt(k_ice))) ** 2\n",
    "                    C_eq[i] = (F_soil[i] * p_soil[i] * cp_soil[i]) + (F_w[i] * p_w * cp_w) + (F_ice[i] * p_ice * (cp_ice + L * df_w[i]))\n",
    "                    a_eq[i] = k_eq[i] / C_eq[i]\n",
    "\n",
    "                    #if (xT_ini[i + 1] - xT_ini[i - 1]) != 0:\n",
    "                    T[i, t] = (((a_eq[i]*tstep)/dz**2) * (xT_ini[i + 1] + xT_ini[i - 1])) + (xT_ini[i] * (1 - ((2*a_eq[i]*tstep)/dz**2)))\n",
    "                    #else:\n",
    "                     #   T[i, t] = xT_ini[i]\n",
    "    \n",
    "                    T[0, t] = T_11[k + (l*20)] #setting the top temp to B.C. from csv file\n",
    "                    #T[0, t] = 50\n",
    "                    \n",
    "                    #f_w[0] = calculate_fw_HC(xT_ini[0])\n",
    "                    #f_w[0] = calculate_fw_Siz(xT_ini[0], T_f, beta) #Sizemore et al. (2015)\n",
    "                    f_w[0] = calculate_fw_Hornum(xT_ini[0]) #Hornum SFC\n",
    "                    \n",
    "                    T[nocell - 1, t] = T[nocell - 2, t] + (dz * T_gradient) # constant flux BC\n",
    "                \n",
    "                    #f_w[nocell-1] = calculate_fw_HC(xT_ini[nocell-1])\n",
    "                    #f_w[nocell-1] = calculate_fw_Siz(xT_ini[-1], T_f, beta) #Sizemore et al. (2015)\n",
    "                    f_w[nocell-1] = calculate_fw_Hornum(xT_ini[nocell-1]) #Hornum SFC\n",
    "\n",
    "                xT_ini = np.copy(T[:, t])    ### Value used in loop\n",
    "\n",
    "                  ### Vectors for figures         <<<<<<<<<<<<<<<--------------------\n",
    "                f_w_0_1=np.copy(f_w)\n",
    "                f_ice_0_1=np.copy(f_ice)\n",
    "\n",
    "                 ### Creating a matrix with the temperature distribution for each year\n",
    "                if k==ts_1yr: # IF ALL TIME STEPS WERE COMPLETED IN ONE YEAR,\n",
    "                    if l != runtime:\n",
    "                        ## UPDATES THE MATRICES FOR EACH COLUMN: ONE TEMP PER CELL PER YEAR\n",
    "                        # updates column of T matrix w temps from time step at the end of each year\n",
    "                        T_matx_0_1[:,l]=np.copy(T[:,t])     ### Vectors for figures         <<<<<<<<<<<<<<<--------------\n",
    "                        f_matx_0_1[:,l]=np.copy(f_w)\n",
    "                        k_eq_matx[:,l] = np.copy(k_eq)\n",
    "                        C_eq_matx[:,l] = np.copy(C_eq)\n",
    "                        a_eq_matx[:,l] = np.copy(a_eq)\n",
    "                        l+=1 # INCREASE TO NEXT YEAR\n",
    "                        k=0\n",
    "                    elif l == runtime:\n",
    "                        l += 1\n",
    "                        k = 0\n",
    "\n",
    "    \n",
    "    print('complete')\n",
    "    end_time = time.time()\n",
    "    elapsed_time = (end_time - start_time) / 60 \n",
    "    print(f\"Elapsed time: {elapsed_time} minutes\")"
   ]
  },
  {
   "cell_type": "code",
   "execution_count": 19,
   "id": "9c1330ce",
   "metadata": {},
   "outputs": [
    {
     "name": "stdout",
     "output_type": "stream",
     "text": [
      "complete\n",
      "Elapsed time: 18.65556161403656 minutes\n"
     ]
    }
   ],
   "source": [
    "model_run()"
   ]
  },
  {
   "cell_type": "code",
   "execution_count": 15,
   "id": "933a6983",
   "metadata": {},
   "outputs": [
    {
     "name": "stdout",
     "output_type": "stream",
     "text": [
      "Timer unit: 1e-09 s\n",
      "\n",
      "Total time: 58.858 s\n",
      "File: /var/folders/q6/f8_x77hj45d1kngmhhrc3k9r0000gn/T/ipykernel_47267/2149429736.py\n",
      "Function: model_run at line 6\n",
      "\n",
      "Line #      Hits         Time  Per Hit   % Time  Line Contents\n",
      "==============================================================\n",
      "     6                                           @profiler\n",
      "     7                                           def model_run():\n",
      "     8         1       7000.0   7000.0      0.0      start_time = time.time()\n",
      "     9                                           \n",
      "    10         1       1000.0   1000.0      0.0      col_incl=[1]       ### Specify which of the 12 columns (zones) to include in the ground temperature simulation (e.g. [1:12] (all), [4] (only one), [1 5 11] (several specific ones).\n",
      "    11         2       1000.0    500.0      0.0      for col in col_incl:\n",
      "    12         1       1000.0   1000.0      0.0          if col==1:            ### Defining the column in use\n",
      "    13         1          0.0      0.0      0.0              runtime=500      # Simulation runtime\n",
      "    14         1      26000.0  26000.0      0.0              materialid=np.copy(Z0_1MatID)\n",
      "    15                                                   elif col==2:            ### Defining the column in use\n",
      "    16                                                       runtime=500      # Simulation runtime\n",
      "    17                                                       materialid=np.copy(Z1_2MatID)\n",
      "    18                                           \n",
      "    19         2       4000.0   2000.0      0.0          material_properties = {1: (nQ, p_soilQ, cp_soilQ, k_soilQ),\\\n",
      "    20         1       2000.0   2000.0      0.0                                 2: (nSnd, p_soilSnd, cp_soilSnd, k_soilSnd),\\\n",
      "    21         1       1000.0   1000.0      0.0                                 3: (nSh, p_soilSh, cp_soilSh, k_soilSh)}\n",
      "    22                                           \n",
      "    23       302     134000.0    443.7      0.0          for ii in range(nocell):\n",
      "    24       301     211000.0    701.0      0.0              if materialid[ii] in material_properties:\n",
      "    25       301     507000.0   1684.4      0.0                  n_grid[ii], p_soil[ii], cp_soil[ii], k_soil[ii] = material_properties[materialid[ii]]\n",
      "    26                                                       else:\n",
      "    27                                                           print('error')\n",
      "    28                                           \n",
      "    29         1       2000.0   2000.0      0.0          no_tstep = int(runtime / tstep)  # Total number of time steps, DIFFERENT FOR EACH ZONE\n",
      "    30                                           \n",
      "    31         1    1102000.0    1e+06      0.0          T_11 = np.copy(T_ann10q[:no_tstep + 1])  # Cutting temperature curve to simulation period\n",
      "    32         1      79000.0  79000.0      0.0          T_11 = np.flip(T_11)  # New T_1\n",
      "    33                                           \n",
      "    34                                                   ### stability criterion ###\n",
      "    35                                                   # calculates the effective thermal diffusivity of the soil and ice material\n",
      "    36                                                   # if stability < 0.5, model will proceed\n",
      "    37         1      54000.0  54000.0      0.0          k_s_ice = ((n_grid * np.sqrt(k_ice)) + ((1-n_grid) * np.sqrt(k_soil))) ** 2\n",
      "    38         1      19000.0  19000.0      0.0          C_s_ice = (n_grid * p_ice * cp_ice) + ((1 - n_grid) * p_soil * cp_soil)\n",
      "    39         1       3000.0   3000.0      0.0          a_s_ice = k_s_ice / C_s_ice\n",
      "    40         1      47000.0  47000.0      0.0          stability = (np.max(a_s_ice) * tstep / dz**2)\n",
      "    41                                           \n",
      "    42                                                   #temperature array used in numerical model\n",
      "    43         1     103000.0 103000.0      0.0          T = np.zeros((nocell, no_tstep))\n",
      "    44         1     799000.0 799000.0      0.0          T[:, 0] = np.copy(T_ini)\n",
      "    45                                           \n",
      "    46                                                   ### heat transfer loop starts\n",
      "    47         1       2000.0   2000.0      0.0          if col==1:\n",
      "    48         1      22000.0  22000.0      0.0              xT_ini = np.copy(T_ini)\n",
      "    49         1       1000.0   1000.0      0.0              k = 0 #time step count\n",
      "    50         1       1000.0   1000.0      0.0              l = 0 #year count\n",
      "    51     10001    4068000.0    406.8      0.0              for t in range(no_tstep):\n",
      "    52     10000    4095000.0    409.5      0.0                  if stability > 0.5:\n",
      "    53                                                               print('stability is:', stability)\n",
      "    54                                                               break\n",
      "    55     10000    3854000.0    385.4      0.0                  k += 1\n",
      "    56   3000000  902221000.0    300.7      1.5                  for i in range(1, nocell-1): #excluding top and bottom bc they have boundary conditions\n",
      "    57   2990000 1503433000.0    502.8      2.6                      if xT_ini[i] < 100: #sanity check \n",
      "    58                                                                   print(\"year =\", l, 'time step =', k)\n",
      "    59                                                                   print(\"cell number:\", i, \"temperature:\", xT_ini[i])\n",
      "    60                                                                   print(\"water fraction =\", f_w[i], \"dfw =\", df_w[i])\n",
      "    61                                                                   break\n",
      "    62   2990000 1401063000.0    468.6      2.4                      if xT_ini[i] >= 273.15:\n",
      "    63   1556169  712378000.0    457.8      1.2                          f_w[i] = 1\n",
      "    64                                                               else:\n",
      "    65                                                                   #f_w[i] = calculate_fw_HC(xT_ini[i])\n",
      "    66   1433831 1942358000.0   1354.7      3.3                          f_w[i] = calculate_fw_Siz(xT_ini[i], T_f, beta) #Sizemore et al. (2015)\n",
      "    67                                                                   #f_w[i] = np.exp(-((xT_ini[i]-273.15)/w)**2) #Hornum SFC\n",
      "    68                                           \n",
      "    69   2990000 2101304000.0    702.8      3.6                      f_ice[i] = 1 - f_w[i]\n",
      "    70   2990000 2272724000.0    760.1      3.9                      F_w[i] = f_w[i] * n_grid[i]\n",
      "    71   2990000 2186382000.0    731.2      3.7                      F_ice[i] = f_ice[i] * n_grid[i]\n",
      "    72                                                               \n",
      "    73   2990000 1354101000.0    452.9      2.3                      if xT_ini[i] >= 273.15:\n",
      "    74   1556169  688889000.0    442.7      1.2                          df_w[i] = 0\n",
      "    75                                                               else:\n",
      "    76                                                                   #df_w[i] = calculate_fw_HC(xT_ini[i])\n",
      "    77   1433831 1877935000.0   1309.7      3.2                          df_w[i] = calculate_dfw_Siz(xT_ini[i], T_f, beta) #Sizemore et al. (2015)\n",
      "    78                                                                   #df_w[i] = -2 * (xT_ini[i]-273.15) * np.exp(-((xT_ini[i]-273.15) / w) ** 2) #Hornum SFC\n",
      "    79                                           \n",
      "    80                                                               #calculating equivalent material properties\n",
      "    81   2990000        1e+10   4260.5     21.6                      k_eq[i] = ((F_soil[i] * np.sqrt(k_soil[i])) + (F_w[i] * np.sqrt(k_w)) + (F_ice[i] * np.sqrt(k_ice))) ** 2\n",
      "    82   2990000 6439244000.0   2153.6     10.9                      C_eq[i] = (F_soil[i] * p_soil[i] * cp_soil[i]) + (F_w[i] * p_w * cp_w) + (F_ice[i] * p_ice * (cp_ice + L * df_w[i]))\n",
      "    83   2990000 2276830000.0    761.5      3.9                      a_eq[i] = k_eq[i] / C_eq[i]\n",
      "    84                                           \n",
      "    85                                                               #if (xT_ini[i + 1] - xT_ini[i - 1]) != 0:\n",
      "    86   2990000 6616102000.0   2212.7     11.2                      T[i, t] = (((a_eq[i]*tstep)/dz**2) * (xT_ini[i + 1] + xT_ini[i - 1])) + (xT_ini[i] * (1 - ((2*a_eq[i]*tstep)/dz**2)))\n",
      "    87                                                               #else:\n",
      "    88                                                                #   T[i, t] = xT_ini[i]\n",
      "    89                                               \n",
      "    90   2990000 2067027000.0    691.3      3.5                      T[0, t] = T_11[k + (l*20)] #setting the top temp to B.C. from csv file\n",
      "    91                                                               #T[0, t] = 50\n",
      "    92                                                               \n",
      "    93                                                               #f_w[0] = calculate_fw_HC(xT_ini[0])\n",
      "    94   2990000 5153653000.0   1723.6      8.8                      f_w[0] = calculate_fw_Siz(xT_ini[0], T_f, beta) #Sizemore et al. (2015)\n",
      "    95                                                               #f_w[0] = np.exp(-((xT_ini[0]-273.15)/w)**2) #Hornum SFC\n",
      "    96                                                               \n",
      "    97   2990000 2934520000.0    981.4      5.0                      T[nocell - 1, t] = T[nocell - 2, t] + (dz * T_gradient) # constant flux BC\n",
      "    98                                                           \n",
      "    99                                                               #f_w[nocell-1] = calculate_fw_HC(xT_ini[nocell-1])\n",
      "   100   2990000 3525145000.0   1179.0      6.0                      f_w[nocell-1] = calculate_fw_Siz(xT_ini[-1], T_f, beta) #Sizemore et al. (2015)\n",
      "   101                                                               #f_w[nocell-1] = np.exp(-((xT_ini[-1]-273.15)/w)**2) #Hornum SFC\n",
      "   102                                           \n",
      "   103     10000   79124000.0   7912.4      0.1                  xT_ini = np.copy(T[:, t])    ### Value used in loop\n",
      "   104                                           \n",
      "   105                                                             ### Vectors for figures         <<<<<<<<<<<<<<<--------------------\n",
      "   106     10000   26188000.0   2618.8      0.0                  f_w_0_1=np.copy(f_w)\n",
      "   107     10000   19763000.0   1976.3      0.0                  f_ice_0_1=np.copy(f_ice)\n",
      "   108                                           \n",
      "   109                                                            ### Creating a matrix with the temperature distribution for each year\n",
      "   110     10000    6152000.0    615.2      0.0                  if k==ts_1yr: # IF ALL TIME STEPS WERE COMPLETED IN ONE YEAR,\n",
      "   111       500     203000.0    406.0      0.0                      if l != runtime:\n",
      "   112                                                                   ## UPDATES THE MATRICES FOR EACH COLUMN: ONE TEMP PER CELL PER YEAR\n",
      "   113                                                                   # updates column of T matrix w temps from time step at the end of each year\n",
      "   114       500    3931000.0   7862.0      0.0                          T_matx_0_1[:,l]=np.copy(T[:,t])     ### Vectors for figures         <<<<<<<<<<<<<<<--------------\n",
      "   115       500    3201000.0   6402.0      0.0                          f_matx_0_1[:,l]=np.copy(f_w)\n",
      "   116       500    3193000.0   6386.0      0.0                          k_eq_matx[:,l] = np.copy(k_eq)\n",
      "   117       500    3168000.0   6336.0      0.0                          C_eq_matx[:,l] = np.copy(C_eq)\n",
      "   118       500    3171000.0   6342.0      0.0                          a_eq_matx[:,l] = np.copy(a_eq)\n",
      "   119       500     225000.0    450.0      0.0                          l+=1 # INCREASE TO NEXT YEAR\n",
      "   120       500     225000.0    450.0      0.0                          k=0\n",
      "   121                                                               elif l == runtime:\n",
      "   122                                                                   l += 1\n",
      "   123                                                                   k = 0\n",
      "   124                                           \n",
      "   125                                               \n",
      "   126         1     175000.0 175000.0      0.0      print('complete')\n",
      "   127         1       4000.0   4000.0      0.0      end_time = time.time()\n",
      "   128         1       1000.0   1000.0      0.0      elapsed_time = (end_time - start_time) / 60 \n",
      "   129         1      12000.0  12000.0      0.0      print(f\"Elapsed time: {elapsed_time} minutes\")\n",
      "\n"
     ]
    }
   ],
   "source": [
    "profiler.print_stats()"
   ]
  },
  {
   "cell_type": "code",
   "execution_count": 34,
   "id": "bb7ce837",
   "metadata": {},
   "outputs": [
    {
     "data": {
      "text/plain": [
       "<matplotlib.legend.Legend at 0x142737a50>"
      ]
     },
     "execution_count": 34,
     "metadata": {},
     "output_type": "execute_result"
    },
    {
     "data": {
      "image/png": "[encoded data removed]",
      "text/plain": [
       "<Figure size 640x480 with 1 Axes>"
      ]
     },
     "metadata": {},
     "output_type": "display_data"
    }
   ],
   "source": [
    "### Fig - Final temperature distrubution\n",
    "#plotting curves for initial and final temp distributions\n",
    "\n",
    "plt.figure()\n",
    "#plt.xlim([100,400])\n",
    "#plt.ylim(-.1,40)\n",
    "plt.plot(T_matx_0_1[:,1], z,color='red', label='Initial Temp Dist.')\n",
    "#plt.plot(T_matx_0_1[:,1000], z, color='orange', label='1000 yr')\n",
    "#plt.plot(T_matx_0_1[:,5000], z, color='yellow', label='5000 yr')\n",
    "#plt.plot(T_matx_0_1[:,8000], z, color='green', label='8000 yr')\n",
    "#plt.plot(T_matx_0_1[:,40000], z, color='blue', label='40000 yr')\n",
    "#plt.plot(T_matx_0_1[:,-1], z, color='purple', label='50000 yr')\n",
    "plt.plot(T_matx_0_1[:,-1], z, linestyle='dashed', color='purple', label='Final Temp Dist.')\n",
    "plt.gca().invert_yaxis()\n",
    "plt.xlabel('Temperature [K]')\n",
    "plt.ylabel('Depth [m]')\n",
    "plt.title(\"Hornum SFC: Temperature vs. Depth, Runtime = %r yr\" %(runtime))\n",
    "plt.legend(bbox_to_anchor=(1.05, 1), loc='upper left', borderaxespad=0)"
   ]
  },
  {
   "cell_type": "code",
   "execution_count": 20,
   "id": "6d6c3098",
   "metadata": {},
   "outputs": [
    {
     "data": {
      "text/plain": [
       "<matplotlib.legend.Legend at 0x1431dcd90>"
      ]
     },
     "execution_count": 20,
     "metadata": {},
     "output_type": "execute_result"
    },
    {
     "data": {
      "image/png": "[encoded data removed]",
      "text/plain": [
       "<Figure size 640x480 with 1 Axes>"
      ]
     },
     "metadata": {},
     "output_type": "display_data"
    }
   ],
   "source": [
    "### Fig - Final ice fraction distrubution\n",
    "#plotting curves for initial and final f_ice distributions\n",
    "\n",
    "plt.figure()\n",
    "plt.xlim([-0.01,1.01])\n",
    "plt.scatter(f_matx_0_1[:,0], z, color='darkmagenta', label='Initial Water Fraction Dist.', s=5)\n",
    "#plt.scatter(f_matx_0_1[:,10000], z, color='pink', label='10000 yr', s=5)\n",
    "#plt.scatter(f_matx_0_1[:,20000], z, color='green', label='20000 yr', s=5)\n",
    "#plt.scatter(f_matx_0_1[:,30000], z, color='red', label='30000 yr', s=5)\n",
    "#plt.scatter(f_matx_0_1[:,40000], z, color='teal', label='40000 yr', s=5)\n",
    "plt.scatter(f_matx_0_1[:,runtime-1], z, color='dodgerblue', label='Final Water Fraction Dist.', s=5)\n",
    "plt.gca().invert_yaxis()\n",
    "plt.xlabel('Water Fraction')\n",
    "plt.ylabel('Depth [m]')\n",
    "plt.title('Zone 1: Water Fraction vs. Depth, Runtime = %r yr' %(runtime))\n",
    "plt.legend(bbox_to_anchor=(1.05, 1), loc='upper left', borderaxespad=0)"
   ]
  },
  {
   "cell_type": "code",
   "execution_count": 28,
   "id": "71f64ff5-36df-44d2-ade2-e6ce465bed71",
   "metadata": {},
   "outputs": [],
   "source": [
    "T_hornum45 = pd.DataFrame(T_matx_0_1)\n",
    "T_hornum45.to_csv('~/Desktop/T_hornum45.csv')\n",
    "\n",
    "f_hornum45 = pd.DataFrame(f_matx_0_1)\n",
    "f_hornum45.to_csv('~/Desktop/f_hornum45.csv')"
   ]
  },
  {
   "cell_type": "code",
   "execution_count": 24,
   "id": "a08807b4-e198-4d9a-babe-4aba113ce8fc",
   "metadata": {},
   "outputs": [
    {
     "data": {
      "text/plain": [
       "0              0\n",
       "1              1\n",
       "2              2\n",
       "3              3\n",
       "4              4\n",
       "           ...  \n",
       "99996      99996\n",
       "99997      99997\n",
       "99998      99998\n",
       "99999      99999\n",
       "100000    100000\n",
       "Name: 0, Length: 100001, dtype: int64"
      ]
     },
     "execution_count": 24,
     "metadata": {},
     "output_type": "execute_result"
    }
   ],
   "source": [
    "tt_yr"
   ]
  },
  {
   "cell_type": "markdown",
   "id": "6a945ea8",
   "metadata": {},
   "source": [
    "### Plotting aggradation rate and depth of PF & FF"
   ]
  },
  {
   "cell_type": "code",
   "execution_count": 35,
   "id": "15306d6f",
   "metadata": {},
   "outputs": [],
   "source": [
    "TqFF= 240 #K, freezing front temp\n",
    "Tq_1= 272.15 #not sure what this is\n",
    "TqPF= 273.15 #permafrost temp\n",
    "t_intv=1         ### Time interval between columns in T_matx [yr]\n",
    "nocell_1=nocell-1\n",
    "\n",
    "Dcol0=0 #not sure what these are \n",
    "Dcol1=615\n",
    "Dcol2=1965\n",
    "Dcol3=3375\n",
    "Dcol4=4505\n",
    "Dcol5=5220\n",
    "Dcol6=5670\n",
    "Dcol7=6020\n",
    "Dcol8=6570\n",
    "Dcol9=7337.5\n",
    "Dcol10=8712.5\n",
    "Dcol11=12305\n",
    "Dcol12=15000\n",
    "DcolFar=18000    ### value not used\n",
    "\n",
    "\n",
    "presentFFdepth = np.empty(nocell)\n",
    "presentPFdepth = np.empty(nocell)\n",
    "presentAggrRate = np.empty(nocell)\n",
    "DtoDF = np.empty(nocell)\n",
    "\n",
    "presentFFdepth[0]=0\n",
    "presentPFdepth[0]=0\n",
    "presentAggrRate[0]=0\n",
    "DtoDF[0]=0\n",
    "\n",
    "temp = np.zeros((nocell,runtime))"
   ]
  },
  {
   "cell_type": "code",
   "execution_count": 43,
   "id": "1857b61a",
   "metadata": {},
   "outputs": [
    {
     "data": {
      "image/png": "[encoded data removed]",
      "text/plain": [
       "<Figure size 800x1000 with 2 Axes>"
      ]
     },
     "metadata": {},
     "output_type": "display_data"
    }
   ],
   "source": [
    "colcount = [1]\n",
    "\n",
    "for col in colcount:\n",
    "    if col==1:\n",
    "        l = runtime  # Runtime [yr]\n",
    "        k = 0\n",
    "        zqFF = np.zeros(l)\n",
    "        zq_1 = np.zeros(l)\n",
    "        zqPF = np.zeros(l)\n",
    "        temp = np.zeros((nocell, l))\n",
    "        tt = np.arange(1, l + 1, t_intv)\n",
    "        tt_shift = np.arange(1, l, t_intv)\n",
    "        aggr_rateFF = np.zeros(l-1)\n",
    "        aggr_rate_1 = np.zeros(l-1)\n",
    "        aggr_ratePF = np.zeros(l-1)\n",
    "\n",
    "        for i in range(l):\n",
    "            k += 1\n",
    "            temp[0:nocell, k-1] = T_matx_0_1[0:nocell, k-1]  # Use the appropriate T_matx\n",
    "\n",
    "            transposed_temp = np.transpose(temp[0:nocell_1, k-1]) # Switches rows and columns\n",
    "            interp_func = interp1d(transposed_temp, z[0:nocell_1], kind='linear')\n",
    "            \n",
    "            if TqFF < np.min(transposed_temp) or TqFF > np.max(transposed_temp):\n",
    "            # Handle the case of values outside the interpolation range\n",
    "            # For example, use the closest available data point for interpolation\n",
    "                interpolated_value = interp_func(np.clip(TqFF, np.min(transposed_temp), np.max(transposed_temp)))\n",
    "            else:\n",
    "                interpolated_value = interp_func(TqFF)\n",
    "\n",
    "            zqFF[i] = interpolated_value\n",
    "            tt[i] = t_intv * k\n",
    "\n",
    "        k = 0\n",
    "        for i in range(l):\n",
    "            k += 1\n",
    "            temp[0:nocell, k-1] = T_matx_0_1[0:nocell, k-1]  # Use the appropriate T_matx\n",
    "            \n",
    "            if Tq_1 < np.min(transposed_temp) or Tq_1 > np.max(transposed_temp):\n",
    "            # Handle the case of values outside the interpolation range\n",
    "            # For example, use the closest available data point for interpolation\n",
    "                interpolated_value = interp_func(np.clip(Tq_1, np.min(transposed_temp), np.max(transposed_temp)))\n",
    "            else:\n",
    "                interpolated_value = interp_func(Tq_1)\n",
    "\n",
    "\n",
    "            zq_1[i] = interpolated_value\n",
    "            tt[i] = t_intv * k\n",
    "\n",
    "        k = 0\n",
    "        for i in range(l):\n",
    "            k += 1\n",
    "            temp[0:nocell, k-1] = T_matx_0_1[0:nocell, k-1]  # Use the appropriate T_matx\n",
    "            \n",
    "            if TqPF < np.min(transposed_temp) or TqPF > np.max(transposed_temp):\n",
    "            # Handle the case of values outside the interpolation range\n",
    "            # For example, use the closest available data point for interpolation\n",
    "                interpolated_value = interp_func(np.clip(TqPF, np.min(transposed_temp), np.max(transposed_temp)))\n",
    "            else:\n",
    "                interpolated_value = interp_func(TqPF)\n",
    "\n",
    "            zqPF[i] = interpolated_value\n",
    "            tt[i] = t_intv * k\n",
    "\n",
    "        colcount[0] += 1\n",
    "        presentFFdepth[colcount[0]]=zqFF[len(zqFF)-1]\n",
    "        presentPFdepth[colcount[0]]=zqPF[len(zqPF)-1]\n",
    "        DtoDF[colcount]=Dcol1\n",
    "\n",
    "        no_points = len(zqFF)\n",
    "        tt_shifted = tt - 0.5 * t_intv\n",
    "        tt_shift[0:(no_points - 1)] = tt_shifted[1:no_points]\n",
    "        tt_shift_BP = np.flip(tt_shift)\n",
    "        tt_flip = np.flip(tt)\n",
    "\n",
    "        for ii in range(len(zqFF)-1):\n",
    "            aggr_rateFF[ii] = (zqFF[ii + 1] - zqFF[ii]) / t_intv\n",
    "\n",
    "        for ii in range(len(zqFF)-1):\n",
    "            aggr_rate_1[ii] = (zq_1[ii + 1] - zq_1[ii]) / t_intv\n",
    "\n",
    "        for ii in range(len(zqFF)-1):\n",
    "            aggr_ratePF[ii] = (zqPF[ii + 1] - zqPF[ii]) / t_intv\n",
    "\n",
    "        presentAggrRate[colcount]=aggr_rateFF[len(aggr_rateFF)-1]\n",
    "\n",
    "# Plotting\n",
    "fig, axes = plt.subplots(nrows=2, ncols=1, figsize=(8, 10))\n",
    "\n",
    "# Plot the Freezing front and PF depth data in the first subplot\n",
    "axes[0].plot(tt, zqFF, '-.', label='Freezing Front')\n",
    "#axes[0].plot(tt, zqPF, '-.', label='Permafrost Front')\n",
    "axes[0].set_title('Freezing front depth - IC 45')\n",
    "axes[0].invert_yaxis()\n",
    "axes[0].set_xlabel('Elapsed Time [yr]')\n",
    "axes[0].set_ylabel('Depth [m]')\n",
    "axes[0].legend(loc='upper left')\n",
    "#axes[0].set_ylim(100, 0)\n",
    "#axes[0].set_xlim(None,35000)\n",
    "\n",
    "# Plot the Aggradation rate data in the second subplot\n",
    "axes[1].plot(tt_shift, aggr_rateFF, 'k')\n",
    "axes[1].set_title('FF Aggradation rate - IC 45')\n",
    "axes[1].set_xlabel('Elapsed Time [yr]')\n",
    "axes[1].set_ylabel('Rate [m/yr]')\n",
    "#axes[1].set_xlim(0,10000)\n",
    "axes[1].set_ylim(0,4)\n",
    "#axes[1].legend(loc='upper right')\n",
    "\n",
    "# Adjust layout and show the plots\n",
    "plt.tight_layout()\n",
    "plt.show()"
   ]
  },
  {
   "cell_type": "code",
   "execution_count": null,
   "id": "e10d8209",
   "metadata": {},
   "outputs": [],
   "source": [
    "zqFF = "
   ]
  },
  {
   "cell_type": "code",
   "execution_count": null,
   "id": "b1c25741",
   "metadata": {},
   "outputs": [],
   "source": [
    "print(zqPF)"
   ]
  },
  {
   "cell_type": "code",
   "execution_count": null,
   "id": "4a5513fb-a854-4796-b6bf-bce7c4e77f0a",
   "metadata": {},
   "outputs": [],
   "source": [
    "T_matx_0_1.to_csv('/Users/alexiakubas/Desktop/Ceres/modelruns/T_HC_45.csv')\n",
    "f_matx_0_1.to_csv('/Users/alexiakubas/Desktop/Ceres/modelruns/f_HC_45.csv')\n",
    "k_eq_matx.to_csv('/Users/alexiakubas/Desktop/Ceres/modelruns/k_eq_HC_45.csv')\n",
    "C_eq_matx.to_csv('/Users/alexiakubas/Desktop/Ceres/modelruns/C_eq_HC_45.csv')\n",
    "a_eq_matx.to_csv('/Users/alexiakubas/Desktop/Ceres/modelruns/a_eq_HC_45.csv')\n",
    "zqFF.to_csv('/Users/alexiakubas/Desktop/Ceres/modelruns/zqFF_HC_45.csv')\n",
    "aggr_rateFF.to_csv('/Users/alexiakubas/Desktop/Ceres/modelruns/aggr_rateFF_HC_45.csv')"
   ]
  },
  {
   "cell_type": "markdown",
   "id": "5a9c64e1",
   "metadata": {},
   "source": [
    "## Final PF and FF depths"
   ]
  },
  {
   "cell_type": "code",
   "execution_count": null,
   "id": "2fe1e967",
   "metadata": {},
   "outputs": [],
   "source": [
    "plt.plot(DtoDF, presentFFdepth, c='blue', label='Final FF Depth')\n",
    "plt.plot(DtoDF, presentPFdepth, c='red', label='Final PF Depth')\n",
    "plt.xlabel('Distance to delta front [m]')\n",
    "plt.ylabel('Depth [m]')\n",
    "plt.title('Permafrost and freezing front depths')\n",
    "plt.gca().invert_yaxis()\n",
    "plt.legend(loc='upper right')"
   ]
  },
  {
   "cell_type": "markdown",
   "id": "9dcbc894",
   "metadata": {},
   "source": [
    "## Final Aggradation Rate and Recharge Equivalent"
   ]
  },
  {
   "cell_type": "code",
   "execution_count": null,
   "id": "43d16fd0",
   "metadata": {},
   "outputs": [],
   "source": [
    "plt.plot(DtoDF[2:], presentAggrRate[2:], c='blue')\n",
    "plt.xlabel('Distance to delta front [m]')\n",
    "plt.ylabel('Rate [m/yr]')\n",
    "plt.title('Aggradation rate and recharge equivalent')"
   ]
  },
  {
   "cell_type": "code",
   "execution_count": null,
   "id": "1c8bcf30",
   "metadata": {},
   "outputs": [],
   "source": [
    "# next steps: add in temp-dependent material properties? play with diff layers? Investigate FF and PF depths "
   ]
  },
  {
   "cell_type": "markdown",
   "id": "3f4d63ee",
   "metadata": {},
   "source": [
    "## Plotting Final Effective Material Properties "
   ]
  },
  {
   "cell_type": "code",
   "execution_count": null,
   "id": "2c5c0984",
   "metadata": {},
   "outputs": [],
   "source": [
    "print(a_eq_0_1)"
   ]
  },
  {
   "cell_type": "code",
   "execution_count": null,
   "id": "6cf9750a",
   "metadata": {},
   "outputs": [],
   "source": [
    "print(C_eq_0_1)"
   ]
  },
  {
   "cell_type": "code",
   "execution_count": null,
   "id": "75508c89",
   "metadata": {},
   "outputs": [],
   "source": [
    "### Fig - Final effective material property distrubutions\n",
    "#plotting curves for initial and final effective thermal diffusivity distributions\n",
    "\n",
    "plt.figure()\n",
    "#plt.xlim([100,400])\n",
    "plt.plot(a_eq_0_1, z, linestyle='dashed',color='darkmagenta', label='Final, zone 1')\n",
    "#plt.plot(a_eq_1_2, z, color='dodgerblue', label='Final, zone 2')\n",
    "plt.gca().invert_yaxis()\n",
    "plt.xlabel('Thermal Diffusivity [m^2/s]')\n",
    "plt.ylabel('Depth [m]')\n",
    "plt.title('Zone 1: Effective Thermal Diffusivity vs. Depth, Runtime = %r yr' %(runtime))\n",
    "plt.legend(bbox_to_anchor=(1.05, 1), loc='upper left', borderaxespad=0)\n"
   ]
  },
  {
   "cell_type": "code",
   "execution_count": null,
   "id": "5b2db4da",
   "metadata": {},
   "outputs": [],
   "source": [
    "### Fig - Final effective material property distrubutions\n",
    "#plotting curves for initial and final effective heat capacity distributions\n",
    "\n",
    "plt.figure()\n",
    "#plt.xlim([100,400])\n",
    "plt.plot(C_eq_0_1/1e6, z, linestyle='dashed',color='darkmagenta', label='Final, zone 1')\n",
    "plt.plot(C_eq_1_2/1e6, z, color='dodgerblue', label='Final, zone 2')\n",
    "plt.gca().invert_yaxis()\n",
    "plt.xlabel('Heat Capacity [MJ/K]')\n",
    "plt.ylabel('Depth [m]')\n",
    "plt.title('Zone 1: Effective Heat Capacity vs. Depth, Runtime = %r yr' %(runtime))\n",
    "plt.legend(bbox_to_anchor=(1.05, 1), loc='upper left', borderaxespad=0)\n"
   ]
  },
  {
   "cell_type": "code",
   "execution_count": null,
   "id": "2e265999",
   "metadata": {},
   "outputs": [],
   "source": [
    "np.shape(a_eq_0_1)"
   ]
  },
  {
   "cell_type": "code",
   "execution_count": null,
   "id": "ac907034",
   "metadata": {},
   "outputs": [],
   "source": []
  }
 ],
 "metadata": {
  "kernelspec": {
   "display_name": "Python 3 (ipykernel)",
   "language": "python",
   "name": "python3"
  },
  "language_info": {
   "codemirror_mode": {
    "name": "ipython",
    "version": 3
   },
   "file_extension": ".py",
   "mimetype": "text/x-python",
   "name": "python",
   "nbconvert_exporter": "python",
   "pygments_lexer": "ipython3",
   "version": "3.11.5"
  }
 },
 "nbformat": 4,
 "nbformat_minor": 5
}
